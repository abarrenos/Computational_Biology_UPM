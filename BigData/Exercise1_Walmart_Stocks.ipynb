{
  "nbformat": 4,
  "nbformat_minor": 0,
  "metadata": {
    "colab": {
      "provenance": [],
      "collapsed_sections": []
    },
    "kernelspec": {
      "name": "python3",
      "display_name": "Python 3"
    },
    "language_info": {
      "name": "python"
    }
  },
  "cells": [
    {
      "cell_type": "code",
      "execution_count": null,
      "metadata": {
        "id": "CPP_-8AfA8Aa"
      },
      "outputs": [],
      "source": [
        "!apt-get install openjdk-8-jdk-headless -qq > /dev/null\n",
        "!wget -q https://mirrors.sonic.net/apache/spark/spark-3.3.0/spark-3.3.0-bin-hadoop3.tgz\n",
        "!tar xzf spark-3.3.0-bin-hadoop3.tgz\n",
        "!pip install -q findspark\n",
        "\n",
        "import os\n",
        "os.environ[\"JAVA_HOME\"] = \"/usr/lib/jvm/java-8-openjdk-amd64\"\n",
        "os.environ[\"SPARK_HOME\"] = \"/content/spark-3.3.0-bin-hadoop3\"\n",
        "\n",
        "import findspark\n",
        "findspark.init()"
      ]
    },
    {
      "cell_type": "markdown",
      "source": [
        "We first create a new Spark session:"
      ],
      "metadata": {
        "id": "qebN3otfB_Js"
      }
    },
    {
      "cell_type": "code",
      "source": [
        "from pyspark.sql import SparkSession\n",
        "spark = SparkSession.builder.master(\"local[*]\").getOrCreate()"
      ],
      "metadata": {
        "id": "jhXpk-nLBI0r"
      },
      "execution_count": null,
      "outputs": []
    },
    {
      "cell_type": "markdown",
      "source": [
        "Read the CSV file saved in the */content* directory, printing the first 5 rows and columns names."
      ],
      "metadata": {
        "id": "0P19LqrJGaU1"
      }
    },
    {
      "cell_type": "code",
      "source": [
        "df = spark.read.options(header=True, inferSchema=True).csv(\"./files/walmart_stock.csv\")\n",
        "df.show(5)\n",
        "df.columns"
      ],
      "metadata": {
        "colab": {
          "base_uri": "https://localhost:8080/"
        },
        "id": "QnlWKMWIBKBO",
        "outputId": "1436a8cd-fe76-43ca-b2c9-a3fa65a9c3e1"
      },
      "execution_count": null,
      "outputs": [
        {
          "output_type": "stream",
          "name": "stdout",
          "text": [
            "+-------------------+------------------+---------+---------+------------------+--------+------------------+\n",
            "|               Date|              Open|     High|      Low|             Close|  Volume|         Adj Close|\n",
            "+-------------------+------------------+---------+---------+------------------+--------+------------------+\n",
            "|2012-01-03 00:00:00|         59.970001|61.060001|59.869999|         60.330002|12668800|52.619234999999996|\n",
            "|2012-01-04 00:00:00|60.209998999999996|60.349998|59.470001|59.709998999999996| 9593300|         52.078475|\n",
            "|2012-01-05 00:00:00|         59.349998|59.619999|58.369999|         59.419998|12768200|         51.825539|\n",
            "|2012-01-06 00:00:00|         59.419998|59.450001|58.869999|              59.0| 8069400|          51.45922|\n",
            "|2012-01-09 00:00:00|         59.029999|59.549999|58.919998|             59.18| 6679300|51.616215000000004|\n",
            "+-------------------+------------------+---------+---------+------------------+--------+------------------+\n",
            "only showing top 5 rows\n",
            "\n"
          ]
        },
        {
          "output_type": "execute_result",
          "data": {
            "text/plain": [
              "['Date', 'Open', 'High', 'Low', 'Close', 'Volume', 'Adj Close']"
            ]
          },
          "metadata": {},
          "execution_count": 316
        }
      ]
    },
    {
      "cell_type": "markdown",
      "source": [
        "We can observe the schema of the DataFrame. *Date* variable is a timestamp data type, *Volume* is an integer, and the rest of the variables are doubles."
      ],
      "metadata": {
        "id": "uk6BMct7IAu9"
      }
    },
    {
      "cell_type": "code",
      "source": [
        "df.printSchema()"
      ],
      "metadata": {
        "id": "-miGuqiUBKyo",
        "colab": {
          "base_uri": "https://localhost:8080/"
        },
        "outputId": "60300e60-2e46-4939-ff29-79ba9a12a757"
      },
      "execution_count": null,
      "outputs": [
        {
          "output_type": "stream",
          "name": "stdout",
          "text": [
            "root\n",
            " |-- Date: timestamp (nullable = true)\n",
            " |-- Open: double (nullable = true)\n",
            " |-- High: double (nullable = true)\n",
            " |-- Low: double (nullable = true)\n",
            " |-- Close: double (nullable = true)\n",
            " |-- Volume: integer (nullable = true)\n",
            " |-- Adj Close: double (nullable = true)\n",
            "\n"
          ]
        }
      ]
    },
    {
      "cell_type": "markdown",
      "source": [
        "Here we can see a basic statistical analysis of the data."
      ],
      "metadata": {
        "id": "V7FFfmWSLrqM"
      }
    },
    {
      "cell_type": "code",
      "source": [
        "df.describe().show()"
      ],
      "metadata": {
        "colab": {
          "base_uri": "https://localhost:8080/"
        },
        "id": "1rfFPQZ3IT3L",
        "outputId": "1bd875f8-b440-4f55-c085-c26a3b5b959e"
      },
      "execution_count": null,
      "outputs": [
        {
          "output_type": "stream",
          "name": "stdout",
          "text": [
            "+-------+------------------+-----------------+-----------------+-----------------+-----------------+-----------------+\n",
            "|summary|              Open|             High|              Low|            Close|           Volume|        Adj Close|\n",
            "+-------+------------------+-----------------+-----------------+-----------------+-----------------+-----------------+\n",
            "|  count|              1258|             1258|             1258|             1258|             1258|             1258|\n",
            "|   mean| 72.35785375357709|72.83938807631165| 71.9186009594594|72.38844998012726|8222093.481717011|67.23883848728146|\n",
            "| stddev|  6.76809024470826|6.768186808159218|6.744075756255496|6.756859163732991|  4519780.8431556|6.722609449996857|\n",
            "|    min|56.389998999999996|        57.060001|        56.299999|        56.419998|          2094900|        50.363689|\n",
            "|    max|         90.800003|        90.970001|            89.25|        90.470001|         80898100|84.91421600000001|\n",
            "+-------+------------------+-----------------+-----------------+-----------------+-----------------+-----------------+\n",
            "\n"
          ]
        }
      ]
    },
    {
      "cell_type": "markdown",
      "source": [
        "Now, I will try to round the Data Frame values showing only two decimal places."
      ],
      "metadata": {
        "id": "1AuYb4Iezb6U"
      }
    },
    {
      "cell_type": "code",
      "source": [
        "import pandas as pd\n",
        "\n",
        "df_pd = df.toPandas().round(2)\n",
        "df = spark.createDataFrame(df_pd)\n",
        "df.show()"
      ],
      "metadata": {
        "colab": {
          "base_uri": "https://localhost:8080/"
        },
        "id": "m4s_LtiyzbnQ",
        "outputId": "26174fb0-336d-425a-a8b1-44a9aa281e7f"
      },
      "execution_count": null,
      "outputs": [
        {
          "output_type": "stream",
          "name": "stdout",
          "text": [
            "+-------------------+-----+-----+-----+-----+--------+---------+\n",
            "|               Date| Open| High|  Low|Close|  Volume|Adj Close|\n",
            "+-------------------+-----+-----+-----+-----+--------+---------+\n",
            "|2012-01-03 00:00:00|59.97|61.06|59.87|60.33|12668800|    52.62|\n",
            "|2012-01-04 00:00:00|60.21|60.35|59.47|59.71| 9593300|    52.08|\n",
            "|2012-01-05 00:00:00|59.35|59.62|58.37|59.42|12768200|    51.83|\n",
            "|2012-01-06 00:00:00|59.42|59.45|58.87| 59.0| 8069400|    51.46|\n",
            "|2012-01-09 00:00:00|59.03|59.55|58.92|59.18| 6679300|    51.62|\n",
            "|2012-01-10 00:00:00|59.43|59.71|58.98|59.04| 6907300|    51.49|\n",
            "|2012-01-11 00:00:00|59.06|59.53|59.04| 59.4| 6365600|    51.81|\n",
            "|2012-01-12 00:00:00|59.79| 60.0| 59.4| 59.5| 7236400|     51.9|\n",
            "|2012-01-13 00:00:00|59.18|59.61|59.01|59.54| 7729300|    51.93|\n",
            "|2012-01-17 00:00:00|59.87|60.11|59.52|59.85| 8500000|     52.2|\n",
            "|2012-01-18 00:00:00|59.79|60.03|59.65|60.01| 5911400|    52.34|\n",
            "|2012-01-19 00:00:00|59.93|60.73|59.75|60.61| 9234600|    52.86|\n",
            "|2012-01-20 00:00:00|60.75|61.25|60.67|61.01|10378800|    53.21|\n",
            "|2012-01-23 00:00:00|60.81|60.98|60.51|60.91| 7134100|    53.13|\n",
            "|2012-01-24 00:00:00|60.75| 62.0|60.75|61.39| 7362800|    53.54|\n",
            "|2012-01-25 00:00:00|61.18|61.61|61.04|61.47| 5915800|    53.61|\n",
            "|2012-01-26 00:00:00| 61.8|61.84|60.77|60.97| 7436200|    53.18|\n",
            "|2012-01-27 00:00:00|60.86|61.12|60.54|60.71| 6287300|    52.95|\n",
            "|2012-01-30 00:00:00|60.47|61.32|60.35| 61.3| 7636900|    53.47|\n",
            "|2012-01-31 00:00:00|61.53|61.57|60.58|61.36| 9761500|    53.52|\n",
            "+-------------------+-----+-----+-----+-----+--------+---------+\n",
            "only showing top 20 rows\n",
            "\n"
          ]
        }
      ]
    },
    {
      "cell_type": "markdown",
      "source": [
        "Create a new DataFrame with a column called  'HV Ratio' that is the ratio of the High Price vs Volume of Stock traded for a day."
      ],
      "metadata": {
        "id": "if7G9O9gRg3s"
      }
    },
    {
      "cell_type": "code",
      "source": [
        "df1 = df.withColumn(\"HV_Ratio\", df[\"High\"] / df[\"Volume\"])\n",
        "df1.show(5)"
      ],
      "metadata": {
        "colab": {
          "base_uri": "https://localhost:8080/"
        },
        "id": "jdsGOaafLxBB",
        "outputId": "e0632c0d-3866-4917-f260-bd43402770d9"
      },
      "execution_count": null,
      "outputs": [
        {
          "output_type": "stream",
          "name": "stdout",
          "text": [
            "+-------------------+-----+-----+-----+-----+--------+---------+--------------------+\n",
            "|               Date| Open| High|  Low|Close|  Volume|Adj Close|            HV_Ratio|\n",
            "+-------------------+-----+-----+-----+-----+--------+---------+--------------------+\n",
            "|2012-01-03 00:00:00|59.97|61.06|59.87|60.33|12668800|    52.62|4.819714574387472E-6|\n",
            "|2012-01-04 00:00:00|60.21|60.35|59.47|59.71| 9593300|    52.08|6.290848821573389...|\n",
            "|2012-01-05 00:00:00|59.35|59.62|58.37|59.42|12768200|    51.83|4.669413073103491E-6|\n",
            "|2012-01-06 00:00:00|59.42|59.45|58.87| 59.0| 8069400|    51.46|7.367338339901356E-6|\n",
            "|2012-01-09 00:00:00|59.03|59.55|58.92|59.18| 6679300|    51.62|8.915604928660188E-6|\n",
            "+-------------------+-----+-----+-----+-----+--------+---------+--------------------+\n",
            "only showing top 5 rows\n",
            "\n"
          ]
        }
      ]
    },
    {
      "cell_type": "markdown",
      "source": [
        "Calculate which day has the maximum High stock price:"
      ],
      "metadata": {
        "id": "imJsY77uRjeo"
      }
    },
    {
      "cell_type": "code",
      "source": [
        "df1.filter(df1.High == df1.summary(\"max\").first()[\"High\"]).show()"
      ],
      "metadata": {
        "colab": {
          "base_uri": "https://localhost:8080/"
        },
        "id": "EK0z5iSCR1fo",
        "outputId": "44d5f661-2ce8-4c19-f75c-5fd49d801ad6"
      },
      "execution_count": null,
      "outputs": [
        {
          "output_type": "stream",
          "name": "stdout",
          "text": [
            "+-------------------+----+-----+-----+-----+-------+---------+--------------------+\n",
            "|               Date|Open| High|  Low|Close| Volume|Adj Close|            HV_Ratio|\n",
            "+-------------------+----+-----+-----+-----+-------+---------+--------------------+\n",
            "|2015-01-13 00:00:00|90.8|90.97|88.93|89.31|8215400|    83.83|1.107310660466928E-5|\n",
            "+-------------------+----+-----+-----+-----+-------+---------+--------------------+\n",
            "\n"
          ]
        }
      ]
    },
    {
      "cell_type": "markdown",
      "source": [
        "The day with the maximum High stock prices was the 2015-01-13."
      ],
      "metadata": {
        "id": "h_UKkXuOVA7k"
      }
    },
    {
      "cell_type": "markdown",
      "source": [
        "What is the mean of the Close column?"
      ],
      "metadata": {
        "id": "Q1yZDFx3VzcX"
      }
    },
    {
      "cell_type": "code",
      "source": [
        "print(\"The mean of the Close column is:\", df1.summary(\"mean\").first()[\"Close\"])"
      ],
      "metadata": {
        "colab": {
          "base_uri": "https://localhost:8080/"
        },
        "id": "gF2le8KSUBEH",
        "outputId": "cfb6ac59-36a6-4974-b0fd-1aac6fd71d59"
      },
      "execution_count": null,
      "outputs": [
        {
          "output_type": "stream",
          "name": "stdout",
          "text": [
            "The mean of the Close column is: 72.38844992050878\n"
          ]
        }
      ]
    },
    {
      "cell_type": "markdown",
      "source": [
        "What is the max and min of the Volume column?"
      ],
      "metadata": {
        "id": "H2iLqeygfVse"
      }
    },
    {
      "cell_type": "code",
      "source": [
        "print(\"The maximum value of the Volume is:\", df1.summary(\"max\").first()[\"Low\"])\n",
        "print(\"The minimum value of the Volume is:\", df1.summary(\"min\").first()[\"Low\"])"
      ],
      "metadata": {
        "colab": {
          "base_uri": "https://localhost:8080/"
        },
        "id": "dJoW5w85fVGk",
        "outputId": "4a946c64-8fef-47a2-89b6-5c49da4fcd11"
      },
      "execution_count": null,
      "outputs": [
        {
          "output_type": "stream",
          "name": "stdout",
          "text": [
            "The maximum value of the Volume is: 89.25\n",
            "The minimum value of the Volume is: 56.3\n"
          ]
        }
      ]
    },
    {
      "cell_type": "markdown",
      "source": [
        "How many days was the Close lower than 60 dollars?"
      ],
      "metadata": {
        "id": "DRAPRegnf5mG"
      }
    },
    {
      "cell_type": "code",
      "source": [
        "print(\"Days in which the Close was lower than 60 dollars:\", df1.filter(\"Close < 60\").count())"
      ],
      "metadata": {
        "colab": {
          "base_uri": "https://localhost:8080/"
        },
        "id": "evS2by14f04-",
        "outputId": "1197dd5b-cc15-4acc-f49d-49b2ad94c38d"
      },
      "execution_count": null,
      "outputs": [
        {
          "output_type": "stream",
          "name": "stdout",
          "text": [
            "Days in which the Close was lower than 60 dollars: 81\n"
          ]
        }
      ]
    },
    {
      "cell_type": "markdown",
      "source": [
        "What percentage of time was the High greater than 80 dollars?"
      ],
      "metadata": {
        "id": "XSb1Ipr9f0k7"
      }
    },
    {
      "cell_type": "code",
      "source": [
        "print(\"Percentage of time in which High was greater than 80 dollars:\", \n",
        "       df1.filter(\"High < 80\").count() / df1.count())"
      ],
      "metadata": {
        "colab": {
          "base_uri": "https://localhost:8080/"
        },
        "id": "rur17WAwkEBh",
        "outputId": "e74ef1d7-4821-4faf-c014-b8c1bef88d72"
      },
      "execution_count": null,
      "outputs": [
        {
          "output_type": "stream",
          "name": "stdout",
          "text": [
            "Percentage of time in which High was greater than 80 dollars: 0.9085850556438791\n"
          ]
        }
      ]
    },
    {
      "cell_type": "markdown",
      "source": [
        "What is the Pearson correlation between High and Volume?"
      ],
      "metadata": {
        "id": "liGZtI2inhBP"
      }
    },
    {
      "cell_type": "code",
      "source": [
        "import seaborn as sns\n",
        "\n",
        "sns.pairplot(df1.select(\"High\",\"Volume\").toPandas())\n",
        "print(\"Pearson's correlation coeficient:\", df1.corr(\"High\", \"Volume\"))"
      ],
      "metadata": {
        "colab": {
          "base_uri": "https://localhost:8080/",
          "height": 392
        },
        "id": "lGRaxtZ8lwZq",
        "outputId": "83826b7b-b16f-48c1-ca52-e4ac6ae66761"
      },
      "execution_count": null,
      "outputs": [
        {
          "output_type": "stream",
          "name": "stdout",
          "text": [
            "Pearson's correlation coeficient: -0.3384326058214888\n"
          ]
        },
        {
          "output_type": "display_data",
          "data": {
            "text/plain": [
              "<Figure size 360x360 with 6 Axes>"
            ],
            "image/png": "[encoded data removed]"
          },
          "metadata": {
            "needs_background": "light"
          }
        }
      ]
    },
    {
      "cell_type": "markdown",
      "source": [
        "What is the max High per year?"
      ],
      "metadata": {
        "id": "EIUaTuR-nlxa"
      }
    },
    {
      "cell_type": "code",
      "source": [
        "from pyspark.sql import functions as fun\n",
        "\n",
        "df2 = df1.withColumn(\"Year\", fun.year(df1.Date))\n",
        "df2.groupBy(\"Year\").agg({\"High\" : \"max\"}).show()"
      ],
      "metadata": {
        "colab": {
          "base_uri": "https://localhost:8080/"
        },
        "id": "6Y_I-Tq2nnAm",
        "outputId": "ff6c2874-32b3-4027-8686-93b4a1a195c4"
      },
      "execution_count": null,
      "outputs": [
        {
          "output_type": "stream",
          "name": "stdout",
          "text": [
            "+----+---------+\n",
            "|Year|max(High)|\n",
            "+----+---------+\n",
            "|2013|    81.37|\n",
            "|2014|    88.09|\n",
            "|2012|     77.6|\n",
            "|2015|    90.97|\n",
            "|2016|    75.19|\n",
            "+----+---------+\n",
            "\n"
          ]
        }
      ]
    },
    {
      "cell_type": "markdown",
      "source": [
        "What is the average Close for each calendar month?"
      ],
      "metadata": {
        "id": "tELsww9Snn0R"
      }
    },
    {
      "cell_type": "code",
      "source": [
        "df2 = df1.withColumn(\"Month\", fun.month(df1.Date))\n",
        "df2.groupBy(\"Month\").agg({\"Close\" : \"mean\"}).sort(\"Month\").show()"
      ],
      "metadata": {
        "colab": {
          "base_uri": "https://localhost:8080/"
        },
        "id": "3UXAk7L-yw2S",
        "outputId": "f69182a8-3190-4b76-de9b-04a20cae2727"
      },
      "execution_count": null,
      "outputs": [
        {
          "output_type": "stream",
          "name": "stdout",
          "text": [
            "+-----+-----------------+\n",
            "|Month|       avg(Close)|\n",
            "+-----+-----------------+\n",
            "|    1| 71.4480198019802|\n",
            "|    2|71.30680412371134|\n",
            "|    3|71.77794392523364|\n",
            "|    4|72.97361904761904|\n",
            "|    5|72.30971698113207|\n",
            "|    6|72.49537735849057|\n",
            "|    7|74.43971962616821|\n",
            "|    8|73.02981818181819|\n",
            "|    9|72.18411764705883|\n",
            "|   10|71.57854545454543|\n",
            "|   11|72.11108910891087|\n",
            "|   12| 72.8479245283019|\n",
            "+-----+-----------------+\n",
            "\n"
          ]
        }
      ]
    }
  ]
}