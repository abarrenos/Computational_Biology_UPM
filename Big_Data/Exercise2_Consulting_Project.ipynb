{
  "cells": [
    {
      "cell_type": "markdown",
      "metadata": {
        "id": "W3gnnSs3UaiP"
      },
      "source": [
        "# Consulting Project: Predicting Crew members\n",
        "####Your job is to create a regression model that will help predict how many crew members will be needed for future ships.\n",
        "\n",
        "####In other words, use the features you think will be useful to predict the value in the Crew column."
      ]
    },
    {
      "cell_type": "code",
      "execution_count": 2,
      "metadata": {
        "colab": {
          "base_uri": "https://localhost:8080/"
        },
        "id": "dnkaP_qiUGdo",
        "outputId": "b1866eaf-8e21-4a9c-f2ba-af59d72d7d64"
      },
      "outputs": [
        {
          "name": "stdout",
          "output_type": "stream",
          "text": [
            "\r0% [Working]\r            \rGet:1 https://cloud.r-project.org/bin/linux/ubuntu bionic-cran40/ InRelease [3,626 B]\n",
            "\r0% [Connecting to archive.ubuntu.com (91.189.91.38)] [Connecting to security.ub\r0% [Connecting to archive.ubuntu.com (91.189.91.38)] [Connecting to security.ub\r                                                                               \rIgn:2 https://developer.download.nvidia.com/compute/machine-learning/repos/ubuntu1804/x86_64  InRelease\n",
            "\r                                                                               \rHit:3 https://developer.download.nvidia.com/compute/cuda/repos/ubuntu1804/x86_64  InRelease\n",
            "\r0% [Waiting for headers] [Waiting for headers] [Connecting to ppa.launchpad.net\r0% [1 InRelease gpgv 3,626 B] [Waiting for headers] [Waiting for headers] [Wait\r                                                                               \rHit:4 https://developer.download.nvidia.com/compute/machine-learning/repos/ubuntu1804/x86_64  Release\n",
            "\r0% [1 InRelease gpgv 3,626 B] [Waiting for headers] [Waiting for headers] [Conn\r                                                                               \rHit:5 http://archive.ubuntu.com/ubuntu bionic InRelease\n",
            "Get:6 http://security.ubuntu.com/ubuntu bionic-security InRelease [88.7 kB]\n",
            "Get:7 http://archive.ubuntu.com/ubuntu bionic-updates InRelease [88.7 kB]\n",
            "Hit:8 http://ppa.launchpad.net/c2d4u.team/c2d4u4.0+/ubuntu bionic InRelease\n",
            "Get:9 http://archive.ubuntu.com/ubuntu bionic-backports InRelease [83.3 kB]\n",
            "Hit:11 http://ppa.launchpad.net/cran/libgit2/ubuntu bionic InRelease\n",
            "Hit:12 http://ppa.launchpad.net/deadsnakes/ppa/ubuntu bionic InRelease\n",
            "Get:13 http://security.ubuntu.com/ubuntu bionic-security/restricted amd64 Packages [1,230 kB]\n",
            "Hit:14 http://ppa.launchpad.net/graphics-drivers/ppa/ubuntu bionic InRelease\n",
            "Get:15 http://archive.ubuntu.com/ubuntu bionic-updates/main amd64 Packages [3,472 kB]\n",
            "Get:16 http://security.ubuntu.com/ubuntu bionic-security/main amd64 Packages [3,040 kB]\n",
            "Get:17 http://security.ubuntu.com/ubuntu bionic-security/universe amd64 Packages [1,554 kB]\n",
            "Get:18 http://archive.ubuntu.com/ubuntu bionic-updates/restricted amd64 Packages [1,271 kB]\n",
            "Get:19 http://archive.ubuntu.com/ubuntu bionic-updates/universe amd64 Packages [2,332 kB]\n",
            "Get:20 http://archive.ubuntu.com/ubuntu bionic-updates/multiverse amd64 Packages [29.9 kB]\n",
            "Fetched 13.2 MB in 3s (4,025 kB/s)\n",
            "Reading package lists... Done\n"
          ]
        }
      ],
      "source": [
        "appname = \"Linear Regression\"\n",
        "\n",
        "# Look into https://spark.apache.org/downloads.html for the latest version\n",
        "spark_mirror = \"https://mirrors.sonic.net/apache/spark\"\n",
        "spark_version = \"3.3.1\"\n",
        "hadoop_version = \"3\"\n",
        "\n",
        "# Install Java 8 (Spark does not work with newer Java versions)\n",
        "! apt-get update\n",
        "! apt-get install openjdk-8-jdk-headless -qq > /dev/null\n",
        "\n",
        "# Download and extract Spark binary distribution\n",
        "! rm -rf spark-{spark_version}-bin-hadoop{hadoop_version}.tgz spark-{spark_version}-bin-hadoop{hadoop_version}\n",
        "! wget -q {spark_mirror}/spark-{spark_version}/spark-{spark_version}-bin-hadoop{hadoop_version}.tgz\n",
        "! tar xzf spark-{spark_version}-bin-hadoop{hadoop_version}.tgz\n",
        "\n",
        "# The only 2 environment variables needed to set up Java and Spark\n",
        "import os\n",
        "os.environ[\"JAVA_HOME\"] = \"/usr/lib/jvm/java-8-openjdk-amd64\"\n",
        "os.environ[\"SPARK_HOME\"] = f\"/content/spark-{spark_version}-bin-hadoop{hadoop_version}\"\n",
        "\n",
        "# Set up the Spark environment based on the environment variable SPARK_HOME \n",
        "! pip install -q findspark\n",
        "import findspark\n",
        "findspark.init()\n",
        "\n",
        "# Get the Spark session object (basic entry point for every operation)\n",
        "from pyspark.sql import SparkSession\n",
        "spark = SparkSession.builder.appName(appname).master(\"local[*]\").getOrCreate()"
      ]
    },
    {
      "cell_type": "markdown",
      "metadata": {
        "id": "nELjc1F97SbO"
      },
      "source": [
        "###Load data and exploratory data analysis"
      ]
    },
    {
      "cell_type": "markdown",
      "metadata": {
        "id": "yROPBLTBXEux"
      },
      "source": [
        "First, we load the dataset from Google Drive."
      ]
    },
    {
      "cell_type": "code",
      "execution_count": null,
      "metadata": {
        "colab": {
          "base_uri": "https://localhost:8080/"
        },
        "id": "Fgkzys8PViAy",
        "outputId": "87855c26-3b1e-48f1-c8bd-fbcf935db380"
      },
      "outputs": [
        {
          "name": "stdout",
          "output_type": "stream",
          "text": [
            "Mounted at /content/drive\n"
          ]
        }
      ],
      "source": [
        "df = spark.read.format(\"csv\").options(header = True, inferSchema = True).load(\"./files/cruise_ship_info.csv\")"
      ]
    },
    {
      "cell_type": "code",
      "execution_count": 4,
      "metadata": {
        "colab": {
          "base_uri": "https://localhost:8080/"
        },
        "id": "c1z6Ds3rYU8_",
        "outputId": "18c0c840-c4c2-4f3e-8d81-ead500ae0b7b"
      },
      "outputs": [
        {
          "name": "stdout",
          "output_type": "stream",
          "text": [
            "+-----------+-----------+---+------------------+----------+------+------+-----------------+----+\n",
            "|  Ship_name|Cruise_line|Age|           Tonnage|passengers|length|cabins|passenger_density|crew|\n",
            "+-----------+-----------+---+------------------+----------+------+------+-----------------+----+\n",
            "|    Journey|    Azamara|  6|30.276999999999997|      6.94|  5.94|  3.55|            42.64|3.55|\n",
            "|      Quest|    Azamara|  6|30.276999999999997|      6.94|  5.94|  3.55|            42.64|3.55|\n",
            "|Celebration|   Carnival| 26|            47.262|     14.86|  7.22|  7.43|             31.8| 6.7|\n",
            "|   Conquest|   Carnival| 11|             110.0|     29.74|  9.53| 14.88|            36.99|19.1|\n",
            "|    Destiny|   Carnival| 17|           101.353|     26.42|  8.92| 13.21|            38.36|10.0|\n",
            "|    Ecstasy|   Carnival| 22|            70.367|     20.52|  8.55|  10.2|            34.29| 9.2|\n",
            "|    Elation|   Carnival| 15|            70.367|     20.52|  8.55|  10.2|            34.29| 9.2|\n",
            "|    Fantasy|   Carnival| 23|            70.367|     20.56|  8.55| 10.22|            34.23| 9.2|\n",
            "|Fascination|   Carnival| 19|            70.367|     20.52|  8.55|  10.2|            34.29| 9.2|\n",
            "|    Freedom|   Carnival|  6|110.23899999999999|      37.0|  9.51| 14.87|            29.79|11.5|\n",
            "+-----------+-----------+---+------------------+----------+------+------+-----------------+----+\n",
            "only showing top 10 rows\n",
            "\n",
            "root\n",
            " |-- Ship_name: string (nullable = true)\n",
            " |-- Cruise_line: string (nullable = true)\n",
            " |-- Age: integer (nullable = true)\n",
            " |-- Tonnage: double (nullable = true)\n",
            " |-- passengers: double (nullable = true)\n",
            " |-- length: double (nullable = true)\n",
            " |-- cabins: double (nullable = true)\n",
            " |-- passenger_density: double (nullable = true)\n",
            " |-- crew: double (nullable = true)\n",
            "\n"
          ]
        }
      ],
      "source": [
        "df.show(10)\n",
        "df.printSchema()"
      ]
    },
    {
      "cell_type": "markdown",
      "metadata": {
        "id": "Zhe6Ef9c7gqQ"
      },
      "source": [
        "###Preprocessing"
      ]
    },
    {
      "cell_type": "markdown",
      "metadata": {
        "id": "ulGYrp1VZDnX"
      },
      "source": [
        "We aim to generate linear regression model that predicts the amount of crew required based on different quantitative parameters.\n",
        "\n",
        "First, we need to convert the string variable Cruise Line into numeric, since this feature plays an important role for crew size prediction. To do this, we will use StringIndexer.\n",
        "\n"
      ]
    },
    {
      "cell_type": "code",
      "execution_count": 9,
      "metadata": {
        "colab": {
          "base_uri": "https://localhost:8080/"
        },
        "id": "twj0q3FnVHF5",
        "outputId": "cb6955c4-c6ea-4759-9e38-185fb98c7b21"
      },
      "outputs": [
        {
          "name": "stdout",
          "output_type": "stream",
          "text": [
            "handleInvalid: how to handle invalid data (unseen or NULL values) in features and label column of string type. Options are 'skip' (filter out rows with invalid data), error (throw an error), or 'keep' (put invalid data in a special additional bucket, at index numLabels). (default: error, current: error)\n",
            "inputCol: input column name. (current: Cruise_line)\n",
            "inputCols: input column names. (undefined)\n",
            "outputCol: output column name. (default: StringIndexer_4fc02fae3061__output, current: indexed_cruise_line)\n",
            "outputCols: output column names. (undefined)\n",
            "stringOrderType: How to order labels of string column. The first label after ordering is assigned an index of 0. Supported options: frequencyDesc, frequencyAsc, alphabetDesc, alphabetAsc. Default is frequencyDesc. In case of equal frequency when under frequencyDesc/Asc, the strings are further sorted alphabetically (default: frequencyDesc)\n"
          ]
        }
      ],
      "source": [
        "from pyspark.ml.feature import StringIndexer\n",
        "\n",
        "indexer = StringIndexer(inputCol=\"Cruise_line\", outputCol=\"indexed_cruise_line\", handleInvalid=\"error\")\n",
        "print(indexer.explainParams())"
      ]
    },
    {
      "cell_type": "code",
      "execution_count": 17,
      "metadata": {
        "colab": {
          "base_uri": "https://localhost:8080/"
        },
        "id": "txiKcw_bY0oH",
        "outputId": "76c6de43-1ac1-40ef-8935-eea05156b19e"
      },
      "outputs": [
        {
          "name": "stdout",
          "output_type": "stream",
          "text": [
            "+-----------+-----------+---+------------------+----------+------+------+-----------------+----+-------------------+\n",
            "|  Ship_name|Cruise_line|Age|           Tonnage|passengers|length|cabins|passenger_density|crew|indexed_cruise_line|\n",
            "+-----------+-----------+---+------------------+----------+------+------+-----------------+----+-------------------+\n",
            "|    Journey|    Azamara|  6|30.276999999999997|      6.94|  5.94|  3.55|            42.64|3.55|               16.0|\n",
            "|      Quest|    Azamara|  6|30.276999999999997|      6.94|  5.94|  3.55|            42.64|3.55|               16.0|\n",
            "|Celebration|   Carnival| 26|            47.262|     14.86|  7.22|  7.43|             31.8| 6.7|                1.0|\n",
            "|   Conquest|   Carnival| 11|             110.0|     29.74|  9.53| 14.88|            36.99|19.1|                1.0|\n",
            "|    Destiny|   Carnival| 17|           101.353|     26.42|  8.92| 13.21|            38.36|10.0|                1.0|\n",
            "|    Ecstasy|   Carnival| 22|            70.367|     20.52|  8.55|  10.2|            34.29| 9.2|                1.0|\n",
            "|    Elation|   Carnival| 15|            70.367|     20.52|  8.55|  10.2|            34.29| 9.2|                1.0|\n",
            "|    Fantasy|   Carnival| 23|            70.367|     20.56|  8.55| 10.22|            34.23| 9.2|                1.0|\n",
            "|Fascination|   Carnival| 19|            70.367|     20.52|  8.55|  10.2|            34.29| 9.2|                1.0|\n",
            "|    Freedom|   Carnival|  6|110.23899999999999|      37.0|  9.51| 14.87|            29.79|11.5|                1.0|\n",
            "+-----------+-----------+---+------------------+----------+------+------+-----------------+----+-------------------+\n",
            "only showing top 10 rows\n",
            "\n"
          ]
        }
      ],
      "source": [
        "indexer_model = indexer.fit(df)\n",
        "indx_df = indexer_model.transform(df)\n",
        "indx_df.show(10)"
      ]
    },
    {
      "cell_type": "markdown",
      "metadata": {
        "id": "Qu1g4tIJVH4D"
      },
      "source": [
        "Now, we need to assemble the numeric features that are useful to make the predictions into a single vector using VectorAssembler. In this case, I will not include the features Age and Ship name, since I do not consider them relevant for the prediction."
      ]
    },
    {
      "cell_type": "code",
      "execution_count": 59,
      "metadata": {
        "colab": {
          "base_uri": "https://localhost:8080/"
        },
        "id": "53xNSy67Yf0R",
        "outputId": "5f200f94-b699-4608-df9f-ef088775c81a"
      },
      "outputs": [
        {
          "name": "stdout",
          "output_type": "stream",
          "text": [
            "+-----------+-----------+---+------------------+----------+------+------+-----------------+----+-------------------+--------------------+\n",
            "|  Ship_name|Cruise_line|Age|           Tonnage|passengers|length|cabins|passenger_density|crew|indexed_cruise_line|            features|\n",
            "+-----------+-----------+---+------------------+----------+------+------+-----------------+----+-------------------+--------------------+\n",
            "|    Journey|    Azamara|  6|30.276999999999997|      6.94|  5.94|  3.55|            42.64|3.55|               16.0|[30.2769999999999...|\n",
            "|      Quest|    Azamara|  6|30.276999999999997|      6.94|  5.94|  3.55|            42.64|3.55|               16.0|[30.2769999999999...|\n",
            "|Celebration|   Carnival| 26|            47.262|     14.86|  7.22|  7.43|             31.8| 6.7|                1.0|[47.262,14.86,7.2...|\n",
            "|   Conquest|   Carnival| 11|             110.0|     29.74|  9.53| 14.88|            36.99|19.1|                1.0|[110.0,29.74,9.53...|\n",
            "|    Destiny|   Carnival| 17|           101.353|     26.42|  8.92| 13.21|            38.36|10.0|                1.0|[101.353,26.42,8....|\n",
            "|    Ecstasy|   Carnival| 22|            70.367|     20.52|  8.55|  10.2|            34.29| 9.2|                1.0|[70.367,20.52,8.5...|\n",
            "|    Elation|   Carnival| 15|            70.367|     20.52|  8.55|  10.2|            34.29| 9.2|                1.0|[70.367,20.52,8.5...|\n",
            "|    Fantasy|   Carnival| 23|            70.367|     20.56|  8.55| 10.22|            34.23| 9.2|                1.0|[70.367,20.56,8.5...|\n",
            "|Fascination|   Carnival| 19|            70.367|     20.52|  8.55|  10.2|            34.29| 9.2|                1.0|[70.367,20.52,8.5...|\n",
            "|    Freedom|   Carnival|  6|110.23899999999999|      37.0|  9.51| 14.87|            29.79|11.5|                1.0|[110.238999999999...|\n",
            "+-----------+-----------+---+------------------+----------+------+------+-----------------+----+-------------------+--------------------+\n",
            "only showing top 10 rows\n",
            "\n"
          ]
        }
      ],
      "source": [
        "from pyspark.ml.feature import VectorAssembler\n",
        "\n",
        "assembler = VectorAssembler(inputCols=[\"Tonnage\", \"passengers\", \"length\", \"cabins\", \"passenger_density\", \"indexed_cruise_line\"],\n",
        "                            handleInvalid = \"skip\", outputCol = \"features\")\n",
        "\n",
        "df_transf = assembler.transform(indx_df)\n",
        "df_transf.show(10)\n"
      ]
    },
    {
      "cell_type": "markdown",
      "metadata": {
        "id": "WH2kmHBFcIiW"
      },
      "source": [
        "Now, we check whether there are Null values in the Crew column since they could cause problems when building the model."
      ]
    },
    {
      "cell_type": "code",
      "execution_count": 60,
      "metadata": {
        "colab": {
          "base_uri": "https://localhost:8080/"
        },
        "id": "L1KRtQ-7XFTd",
        "outputId": "d8c585b1-7120-4dd7-e3cd-636de79bb107"
      },
      "outputs": [
        {
          "data": {
            "text/plain": [
              "0"
            ]
          },
          "execution_count": 60,
          "metadata": {},
          "output_type": "execute_result"
        }
      ],
      "source": [
        "df.filter(df[\"crew\"] == \"Null\").count()"
      ]
    },
    {
      "cell_type": "markdown",
      "metadata": {
        "id": "l6ecWlXNcUWP"
      },
      "source": [
        "There are no Null values to impute, we can continue building the regression model."
      ]
    },
    {
      "cell_type": "code",
      "execution_count": 66,
      "metadata": {
        "colab": {
          "base_uri": "https://localhost:8080/"
        },
        "id": "kSdb8bMnkADT",
        "outputId": "76428478-245f-4d23-9156-6a630c524a49"
      },
      "outputs": [
        {
          "name": "stdout",
          "output_type": "stream",
          "text": [
            "+-------+------------------+\n",
            "|summary|              crew|\n",
            "+-------+------------------+\n",
            "|  count|               117|\n",
            "|   mean|7.6824786324786345|\n",
            "| stddev| 3.526555393205931|\n",
            "|    min|              0.59|\n",
            "|    25%|               5.3|\n",
            "|    50%|              8.08|\n",
            "|    75%|              10.0|\n",
            "|    max|              19.1|\n",
            "+-------+------------------+\n",
            "\n",
            "+-------+------------------+\n",
            "|summary|              crew|\n",
            "+-------+------------------+\n",
            "|  count|                41|\n",
            "|   mean| 8.112926829268291|\n",
            "| stddev|3.4598173679418682|\n",
            "|    min|               1.6|\n",
            "|    25%|              6.12|\n",
            "|    50%|              8.22|\n",
            "|    75%|              9.45|\n",
            "|    max|              21.0|\n",
            "+-------+------------------+\n",
            "\n"
          ]
        },
        {
          "data": {
            "text/plain": [
              "(None, None)"
            ]
          },
          "execution_count": 66,
          "metadata": {},
          "output_type": "execute_result"
        }
      ],
      "source": [
        "# Train-test data split\n",
        "data = df_transf.select(\"features\", \"crew\")\n",
        "train, test = data.randomSplit([0.7, 0.3])\n",
        "\n",
        "train.summary().show(), test.summary().show()"
      ]
    },
    {
      "cell_type": "markdown",
      "metadata": {
        "id": "8VsBxVrx7arn"
      },
      "source": [
        "### Building the model"
      ]
    },
    {
      "cell_type": "code",
      "execution_count": 67,
      "metadata": {
        "colab": {
          "base_uri": "https://localhost:8080/"
        },
        "id": "VefnWy51cfEO",
        "outputId": "9b17039c-df9c-4173-ae2b-9c50879f5757"
      },
      "outputs": [
        {
          "name": "stdout",
          "output_type": "stream",
          "text": [
            "Model coefficients: [-0.0007574060678084888,-0.1189015894206076,0.48252822591345623,0.848270433990954,0.0061867921124471245,0.04336503401652591]\n",
            "Explained variance: 11.28225643237045\n",
            "Mean squared error: 1.0480408428140524\n"
          ]
        }
      ],
      "source": [
        "from pyspark.ml.regression import LinearRegression\n",
        "\n",
        "# Build and train Linear Regression model\n",
        "builder = LinearRegression(labelCol=\"crew\", featuresCol=\"features\")\n",
        "model = builder.fit(train)\n",
        "print(\"Model coefficients:\", model.coefficients)\n",
        "print(\"Explained variance:\", model.summary.explainedVariance)\n",
        "print(\"Mean squared error:\", model.summary.meanSquaredError)\n"
      ]
    },
    {
      "cell_type": "code",
      "execution_count": 68,
      "metadata": {
        "colab": {
          "base_uri": "https://localhost:8080/"
        },
        "id": "4XA2waeX7wDQ",
        "outputId": "fd997802-f834-4101-df3d-202b920923ef"
      },
      "outputs": [
        {
          "name": "stdout",
          "output_type": "stream",
          "text": [
            "+--------------------+----+------------------+\n",
            "|            features|crew|        prediction|\n",
            "+--------------------+----+------------------+\n",
            "|[10.0,2.08,4.4,1....| 1.6|1.8116785917635914|\n",
            "|[14.745,3.08,6.17...| 1.8|3.0264245037662576|\n",
            "|[28.43,8.08,6.16,...| 4.0| 4.059234210552061|\n",
            "|[30.2769999999999...| 4.0|3.9253276242036668|\n",
            "|[30.2769999999999...|3.73|3.4573319296006586|\n",
            "|[30.2769999999999...|3.55| 4.143785120507842|\n",
            "|[34.25,10.52,6.15...| 4.7| 4.684238352949244|\n",
            "|[42.0,14.8,7.13,7...| 6.8| 6.648610422391957|\n",
            "|[47.225,13.66,6.8...| 6.7|6.0892348487052415|\n",
            "|[48.563,20.2,6.92...|6.71| 5.992066332533641|\n",
            "+--------------------+----+------------------+\n",
            "only showing top 10 rows\n",
            "\n"
          ]
        }
      ],
      "source": [
        "# Make predictions of test data\n",
        "test_pred = model.evaluate(test)\n",
        "test_pred.predictions.show(10)\n",
        "\n",
        "# We can also obtain the same predcitions with:\n",
        "# model.transform(test).show(10)\n"
      ]
    },
    {
      "cell_type": "markdown",
      "metadata": {
        "id": "WvQGHllureJP"
      },
      "source": [
        "###Evaluate accuracy of the linear regression model on test data"
      ]
    },
    {
      "cell_type": "code",
      "execution_count": 69,
      "metadata": {
        "colab": {
          "base_uri": "https://localhost:8080/"
        },
        "id": "pepPN0I1-3Aa",
        "outputId": "deedd820-ee93-47a8-8b07-a8ec5d84cd97"
      },
      "outputs": [
        {
          "name": "stdout",
          "output_type": "stream",
          "text": [
            "labelCol: label column name. (default: label, current: crew)\n",
            "metricName: metric name in evaluation - one of:\n",
            "                       rmse - root mean squared error (default)\n",
            "                       mse - mean squared error\n",
            "                       r2 - r^2 metric\n",
            "                       mae - mean absolute error\n",
            "                       var - explained variance. (default: rmse)\n",
            "predictionCol: prediction column name. (default: prediction, current: prediction)\n",
            "throughOrigin: whether the regression is through the origin. (default: False)\n",
            "weightCol: weight column name. If this is not set or empty, we treat all instance weights as 1.0. (undefined)\n"
          ]
        }
      ],
      "source": [
        "# 4. Evaluate the model\n",
        "from pyspark.ml.evaluation import RegressionEvaluator\n",
        "evaluator = RegressionEvaluator(labelCol=\"crew\", predictionCol=\"prediction\")\n",
        "print(evaluator.explainParams())      # default: rmse"
      ]
    },
    {
      "cell_type": "code",
      "execution_count": 70,
      "metadata": {
        "colab": {
          "base_uri": "https://localhost:8080/"
        },
        "id": "CXPd05h1_yhZ",
        "outputId": "400b2bbd-5a01-4987-f061-c09040a8cb01"
      },
      "outputs": [
        {
          "name": "stdout",
          "output_type": "stream",
          "text": [
            "Root mean squared error: 0.7038970007389408\n",
            "Mean squared error: 0.49547098764927644\n",
            "Mean absolute error: 0.5752982233684258\n",
            "R^2 metric : 0.9575736426256201\n",
            "Explained variance: 9.699935495523055\n"
          ]
        }
      ],
      "source": [
        "rmse = evaluator.evaluate(test_pred.predictions, {evaluator.metricName: \"rmse\"})\n",
        "mse = evaluator.evaluate(test_pred.predictions, {evaluator.metricName: \"mse\"})\n",
        "mae = evaluator.evaluate(test_pred.predictions, {evaluator.metricName: \"mae\"})\n",
        "r2 = evaluator.evaluate(test_pred.predictions, {evaluator.metricName: \"r2\"})\n",
        "var = evaluator.evaluate(test_pred.predictions, {evaluator.metricName: \"var\"})\n",
        "\n",
        "print(f\"Root mean squared error: {rmse}\")\n",
        "print(f\"Mean squared error: {mse}\")\n",
        "print(f\"Mean absolute error: {mae}\")\n",
        "print(f\"R^2 metric : {r2}\")\n",
        "print(f\"Explained variance: {var}\")"
      ]
    },
    {
      "cell_type": "code",
      "execution_count": 71,
      "metadata": {
        "colab": {
          "base_uri": "https://localhost:8080/"
        },
        "id": "flarjLURrdJs",
        "outputId": "6a3dae9e-083a-46cd-af09-f2730dfa4e0c"
      },
      "outputs": [
        {
          "name": "stdout",
          "output_type": "stream",
          "text": [
            "Root mean squared error: 0.7038970007389408\n",
            "Mean squared error: 0.49547098764927644\n",
            "Mean absolute error: 0.5752982233684258\n",
            "R^2 metric : 0.9575736426256201\n",
            "Explained variance: 9.699935495523055\n"
          ]
        }
      ],
      "source": [
        "# The same evaluator can be obtained directly from the LinearRegressionSummary\n",
        "\n",
        "print(f\"Root mean squared error: {test_pred.rootMeanSquaredError}\")\n",
        "print(f\"Mean squared error: {test_pred.meanSquaredError}\")\n",
        "print(f\"Mean absolute error: {test_pred.meanAbsoluteError}\")\n",
        "print(f\"R^2 metric : {test_pred.r2}\")\n",
        "print(f\"Explained variance: {test_pred.explainedVariance}\")\n"
      ]
    }
  ],
  "metadata": {
    "colab": {
      "collapsed_sections": [],
      "provenance": []
    },
    "kernelspec": {
      "display_name": "Python 3",
      "name": "python3"
    },
    "language_info": {
      "name": "python"
    }
  },
  "nbformat": 4,
  "nbformat_minor": 0
}
