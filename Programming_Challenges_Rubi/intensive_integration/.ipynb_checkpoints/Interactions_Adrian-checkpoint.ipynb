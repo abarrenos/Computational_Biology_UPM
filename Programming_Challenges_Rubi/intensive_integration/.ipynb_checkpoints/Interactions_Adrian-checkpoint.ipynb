{
 "cells": [
  {
   "cell_type": "code",
   "execution_count": 2,
   "id": "85ce1b4c",
   "metadata": {},
   "outputs": [
    {
     "name": "stdout",
     "output_type": "stream",
     "text": [
      "[\"AT4G27030\", \"AT5G54270\", \"AT1G21400\", \"AT5G19120\", \"AT2G13360\", \"AT4G05180\", \"AT1G22690\", \"AT2G45170\", \"AT4G09650\", \"AT5G55620\", \"AT1G31330\", \"AT1G80440\", \"AT3G28270\", \"AT4G12800\", \"AT5G04140\", \"AT5G64040\", \"AT1G29660\", \"AT1G15820\", \"AT1G64500\", \"AT1G03130\", \"AT2G20670\", \"AT4G17090\", \"AT1G23740\", \"AT2G46340\", \"AT4G17460\", \"AT1G07010\", \"AT1G32220\", \"AT2G03750\", \"AT3G47470\", \"AT4G12830\", \"AT5G05690\", \"AT5G64410\", \"AT2G21330\", \"AT1G15980\", \"AT2G01890\", \"AT1G12250\", \"AT2G21210\", \"AT4G28660\", \"AT1G52230\", \"AT3G18890\", \"AT4G22890\", \"AT1G11850\", \"AT1G37130\", \"AT2G04039\", \"AT3G48420\", \"AT4G19170\", \"AT5G07020\", \"AT5G65010\", \"AT3G01500\", \"AT1G25230\", \"AT2G34430\", \"AT1G18060\", \"AT2G30600\", \"AT4G33010\", \"AT1G65490\", \"AT3G21670\", \"AT4G27260\", \"AT1G12780\", \"AT1G55480\", \"AT2G17880\", \"AT3G49160\", \"AT4G21210\", \"AT5G14740\", \"AT4G37980\", \"AT1G29395\", \"AT2G39730\", \"AT1G20020\", \"AT2G34420\", \"AT4G37800\", \"AT1G70820\", \"AT3G26740\", \"AT4G28780\", \"AT1G12900\", \"AT1G64680\", \"AT2G25200\", \"AT3G55800\", \"AT4G21280\", \"AT5G15850\", \"AT1G06680\", \"AT2G43550\", \"AT3G02730\", \"AT1G42970\", \"AT2G39470\", \"AT5G17300\", \"AT1G77490\", \"AT3G27690\", \"AT5G01015\", \"AT1G14150\", \"AT1G64720\", \"AT2G26080\", \"AT3G56940\", \"AT4G28030\", \"AT5G20250\", \"AT1G54040\", \"AT3G21870\", \"AT3G48360\", \"AT1G61520\", \"AT2G43010\", \"AT5G22920\", \"AT1G78370\", \"AT3G28220\", \"AT5G11070\", \"AT1G23205\", \"AT1G68010\", \"AT2G26740\", \"AT3G61470\", \"AT4G28750\", \"AT5G24210\", \"AT1G71030\", \"AT3G54050\", \"AT3G54890\", \"AT1G72610\", \"AT3G08940\", \"AT5G62280\", \"AT2G18700\", \"AT3G45780\", \"AT5G18670\", \"AT1G28330\", \"AT1G68570\", \"AT2G30950\", \"AT3G62410\", \"AT4G33660\", \"AT5G35170\", \"AT3G16250\", \"AT1G09340\", \"AT3G63140\", \"AT1G76080\", \"AT3G46780\", \"AT1G02640\", \"AT2G33830\", \"AT3G47340\", \"AT5G35630\", \"AT1G29910\", \"AT1G69870\", \"AT2G47930\", \"AT4G02530\", \"AT4G38840\", \"AT5G43750\", \"AT3G50820\", \"AT1G13930\", \"AT4G37610\", \"AT1G76100\", \"AT3G61260\", \"AT1G08380\", \"AT2G38210\", \"AT4G04640\", \"AT5G38990\", \"AT1G29920\", \"AT1G74730\", \"AT3G05730\", \"AT4G02770\", \"AT4G39710\", \"AT5G48300\", \"AT5G48490\", \"AT1G20440\", \"AT5G02160\", \"AT2G05540\", \"AT3G62550\", \"AT1G14280\", \"AT2G43100\", \"AT4G09010\", \"AT5G49360\", \"AT1G30380\", \"AT1G78460\", \"AT3G16140\", \"AT4G12310\", \"AT5G01530\", \"AT5G58260\"]"
     ]
    }
   ],
   "source": [
    "###------ Read the genefile and append genes to a file -----###\n",
    "\n",
    "gene_list = Array.new\n",
    "File.foreach(\"./documents/ArabidopsisSubNetwork_GeneList.txt\"){ |line|\n",
    "    gene = line.gsub(\"\\n\",'')        # We eliminate metacharacter \\n\n",
    "    unless gene.match(/AT\\dG\\d{5}/i) # Check if genes belong to Arabidopsis and save each gene in the array.\n",
    "        abort(\"ERROR: the gene list have some errors. #{gene} has not correct format\") \n",
    "    end\n",
    "    gene_list <<  gene.upcase}              \n",
    "                                \n",
    "print gene_list"
   ]
  },
  {
   "cell_type": "code",
   "execution_count": 3,
   "id": "4995f3bf",
   "metadata": {},
   "outputs": [
    {
     "data": {
      "text/plain": [
       "{:AT4G09650=>[:AT4G37260, :AT4G32570], :AT5G04140=>[:AT4G37930], :AT1G03130=>[:AT4G37260], :AT4G17460=>[:AT1G70920, :AT2G44910, :AT3G60390, :AT3G15030, :AT2G22800], :AT5G05690=>[:AT3G54130], :AT1G37130=>[:AT5G18930, :AT1G31880, :AT4G32570, :AT2G37630, :AT5G60120], :AT4G19170=>[:AT5G17790], :AT5G15850=>[:AT2G46340, :AT3G15354, :AT1G53090, :AT4G10240], :AT5G17300=>[:AT5G24520], :AT1G54040=>[:AT4G23810], :AT3G21870=>[:AT3G48750], :AT3G48360=>[:AT4G09570], :AT2G43010=>[:AT1G09530, :AT2G18790, :AT1G09570], :AT1G71030=>[:AT4G09820, :AT1G60250], :AT3G45780=>[:AT5G64330], :AT3G62410=>[:AT3G26650], :AT1G76080=>[:AT5G19000, :AT5G67300, :AT1G31880], :AT4G02770=>[:AT4G37260, :AT1G31880], :AT4G39710=>[:AT4G03280], :AT3G62550=>[:AT1G25490, :AT4G32010], :AT1G14280=>[:AT1G35560, :AT1G31880]}"
      ]
     },
     "execution_count": 3,
     "metadata": {},
     "output_type": "execute_result"
    }
   ],
   "source": [
    "require 'rest-client'\n",
    "\n",
    "def self.find_interactions(gene_list)\n",
    "\n",
    "  intact_hash = Hash.new\n",
    "\n",
    "  gene_list.each do |gene_id|\n",
    "    gene_id.upcase!       # Convert gene ID to upercase\n",
    "    address = \"http://www.ebi.ac.uk/Tools/webservices/psicquic/intact/webservices/current/search/interactor/#{gene_id}?format=tab25\"\n",
    "    response = RestClient::Request.execute(method: :get, url: address)\n",
    "    intact_data = response.body.split(/\\n/)\n",
    "\n",
    "    record_list = Array.new\n",
    "\n",
    "    intact_data.each do |record|\n",
    "      intact_gene1 = record.split(/\\t/)[2].split(/\\|/).grep(/^ensemblplants/)  # We filter to extract ensembleplants id\n",
    "      intact_gene2 = record.split(/\\t/)[3].split(/\\|/).grep(/^ensemblplants/)  # from columns 2 and 3 of each record.\n",
    "      intact_genes = intact_gene1 + intact_gene2                               # Combine records from both columns. \n",
    "\n",
    "      score = record.split(/\\t/).pop.split(/\\:/).pop   # Extract the interaction score of each record.\n",
    "\n",
    "      # For some genes, we obtain interaction reports for different splicing variants (.1, .2, .3)\n",
    "      # For each gene record, we extract only the gene ID using regular expressions and convert gene IDs\n",
    "      # into symbol format.\n",
    "\n",
    "      intact_genes_filtered = Array.new\n",
    "      intact_genes.each {|splicing| intact_genes_filtered << splicing.match(/AT\\dG\\d*/).to_s.to_sym}\n",
    "        #if gene_list.include?(gene) then\n",
    "        #end}\n",
    "        \n",
    "      # Finally, we remove duplicates from our final interaction records.\n",
    "\n",
    "      intact_genes_filtered.uniq!\n",
    "\n",
    "  ''' With this process, we obtain a set of inteaction records for each gene, each record containing one\n",
    "      or more interactors. Different records might share common interactors and even contain the query gene.\n",
    "      We want to obtain a final list of unique interactors for each query gene, so we need to remove interactor\n",
    "      redundancy and interaction of the query gene with itself.\n",
    "  '''\n",
    "      # Introduce a quality filter\n",
    "\n",
    "      unless score.to_f < 0.5\n",
    "        record_list += intact_genes_filtered        # Combine the interactors from different records\n",
    "        record_list.uniq!                           # Remove redundant interactors\n",
    "        record_list.delete(gene_id.to_sym)          # Remove the query gene from its interactor list\n",
    "        record_list.delete(\"\".to_sym)               # Remove empty gene IDs (observed within the results)\n",
    "        \n",
    "        # Append the results for every query gene to a Hash\n",
    "        intact_hash[gene_id.to_sym] = record_list unless record_list.empty?  \n",
    "      end\n",
    "    end\n",
    "\n",
    "    #print \"\\n\\n\", gene_id.to_s, \" interactors: \", record_list.length\n",
    "    #print \"\\n\", Hash[gene_id.to_sym => record_list]\n",
    "\n",
    "  end\n",
    "\n",
    "  return intact_hash\n",
    "  # Results are contained in intact_hash\n",
    "  # We can omit genes without reported interactions:\n",
    "  # clean_interactions = first_interactions.delete_if {|key,value| value.empty? }\n",
    "end\n",
    "\n",
    "interaction_dict = find_interactions(gene_list)"
   ]
  },
  {
   "cell_type": "code",
   "execution_count": 4,
   "id": "50eda620",
   "metadata": {},
   "outputs": [
    {
     "data": {
      "text/plain": [
       "[[:AT4G37260, :AT4G32570], [:AT4G37930], [:AT4G37260], [:AT1G70920, :AT2G44910, :AT3G60390, :AT3G15030, :AT2G22800], [:AT3G54130], [:AT5G18930, :AT1G31880, :AT4G32570, :AT2G37630, :AT5G60120], [:AT5G17790], [:AT2G46340, :AT3G15354, :AT1G53090, :AT4G10240], [:AT5G24520], [:AT4G23810], [:AT3G48750], [:AT4G09570], [:AT1G09530, :AT2G18790, :AT1G09570], [:AT4G09820, :AT1G60250], [:AT5G64330], [:AT3G26650], [:AT5G19000, :AT5G67300, :AT1G31880], [:AT4G37260, :AT1G31880], [:AT4G03280], [:AT1G25490, :AT4G32010], [:AT1G35560, :AT1G31880]]"
      ]
     },
     "execution_count": 4,
     "metadata": {},
     "output_type": "execute_result"
    }
   ],
   "source": [
    "interaction_dict.values"
   ]
  },
  {
   "cell_type": "markdown",
   "id": "c04787ee",
   "metadata": {},
   "source": [
    "Find interactions between proteins from our gene_list. We develop a recursive function that "
   ]
  },
  {
   "cell_type": "code",
   "execution_count": 13,
   "id": "159a3ad0",
   "metadata": {},
   "outputs": [
    {
     "ename": "NoMethodError",
     "evalue": "undefined method `+' for nil:NilClass",
     "output_type": "error",
     "traceback": [
      "\u001b[31mNoMethodError\u001b[0m: undefined method `+' for nil:NilClass",
      "(irb):4:in `build_networks'",
      "(irb):21:in `block in <main>'",
      "(irb):20:in `each'",
      "(irb):20:in `<main>'"
     ]
    }
   ],
   "source": [
    "max_depth = 0\n",
    "\n",
    "def self.build_networks(gene, interaction_dict)\n",
    " \n",
    "    max_depth = max_depth + 1\n",
    "    \n",
    "    return [] if max_depth > 2\n",
    "    \n",
    "    network = [gene.to_sym]\n",
    "    interactors = interaction_dict[gene.to_sym]\n",
    "\n",
    "    unless interactors.nil?\n",
    "      network += interactors\n",
    "      interactors.each {|int| network += build_networks(int, interaction_dict)}\n",
    "    end\n",
    "    return network.uniq\n",
    "\n",
    "end\n",
    "\n",
    "network_list = Array.new\n",
    "\n",
    "\n",
    "gene_list.each {|gene|\n",
    "  network = build_networks(gene = gene, interaction_dict = interaction_dict)\n",
    "  network_list << network\n",
    "  print network\n",
    "  puts\n",
    "}"
   ]
  },
  {
   "cell_type": "code",
   "execution_count": 22,
   "id": "f2154292",
   "metadata": {},
   "outputs": [
    {
     "ename": "NoMethodError",
     "evalue": "undefined method `+' for nil:NilClass",
     "output_type": "error",
     "traceback": [
      "\u001b[31mNoMethodError\u001b[0m: undefined method `+' for nil:NilClass",
      "(irb):4:in `build_networks'",
      "(irb):4:in `block in <main>'",
      "(irb):3:in `each'",
      "(irb):3:in `<main>'"
     ]
    }
   ],
   "source": [
    "network_list = Array.new\n",
    "\n",
    "\n",
    "gene_list.each {|gene|\n",
    "  network = build_networks(gene = gene, interaction_dict = interaction_dict)\n",
    "  network_list << network\n",
    "  print network\n",
    "  puts\n",
    "}\n",
    "\n",
    "\n"
   ]
  },
  {
   "cell_type": "code",
   "execution_count": 19,
   "id": "8ce06054",
   "metadata": {},
   "outputs": [
    {
     "data": {
      "text/plain": [
       "[]"
      ]
     },
     "execution_count": 19,
     "metadata": {},
     "output_type": "execute_result"
    }
   ],
   "source": [
    "network_list.each {|network| print network if network.length > 2}"
   ]
  },
  {
   "cell_type": "code",
   "execution_count": null,
   "id": "1ea381ad",
   "metadata": {},
   "outputs": [],
   "source": []
  }
 ],
 "metadata": {
  "kernelspec": {
   "display_name": "Ruby 3.0.0",
   "language": "ruby",
   "name": "ruby"
  },
  "language_info": {
   "file_extension": ".rb",
   "mimetype": "application/x-ruby",
   "name": "ruby",
   "version": "3.0.0"
  }
 },
 "nbformat": 4,
 "nbformat_minor": 5
}
