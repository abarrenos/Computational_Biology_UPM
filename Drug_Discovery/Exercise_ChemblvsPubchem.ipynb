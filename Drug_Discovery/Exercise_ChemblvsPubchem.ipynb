{
 "cells": [
  {
   "cell_type": "markdown",
   "metadata": {},
   "source": [
    "#### Exercise:\n",
    "Take into account the information available here: https://chembl.gitbook.io/chembl-interface-documentation/web-services/chembl-data-web-services. Perform a similarity search, using ibuprofen as query molecule and a tanimoto cut-off of 80%. Comparing these results with those obtained using Pubchem.\n",
    "        \n"
   ]
  },
  {
   "cell_type": "code",
   "execution_count": null,
   "metadata": {},
   "outputs": [
    {
     "name": "stdout",
     "output_type": "stream",
     "text": [
      "Total similar molecules found: 10\n"
     ]
    },
    {
     "data": {
      "text/html": [
       "<div>\n",
       "<style scoped>\n",
       "    .dataframe tbody tr th:only-of-type {\n",
       "        vertical-align: middle;\n",
       "    }\n",
       "\n",
       "    .dataframe tbody tr th {\n",
       "        vertical-align: top;\n",
       "    }\n",
       "\n",
       "    .dataframe thead th {\n",
       "        text-align: right;\n",
       "    }\n",
       "</style>\n",
       "<table border=\"1\" class=\"dataframe\">\n",
       "  <thead>\n",
       "    <tr style=\"text-align: right;\">\n",
       "      <th></th>\n",
       "      <th>molecule_chembl_id</th>\n",
       "      <th>similarity</th>\n",
       "      <th>pref_name</th>\n",
       "      <th>molecule_properties</th>\n",
       "      <th>molecule_structures</th>\n",
       "    </tr>\n",
       "  </thead>\n",
       "  <tbody>\n",
       "    <tr>\n",
       "      <th>0</th>\n",
       "      <td>CHEMBL521</td>\n",
       "      <td>100</td>\n",
       "      <td>IBUPROFEN</td>\n",
       "      <td>{'alogp': '3.07', 'aromatic_rings': 1, 'cx_log...</td>\n",
       "      <td>{'canonical_smiles': 'CC(C)Cc1ccc(C(C)C(=O)O)c...</td>\n",
       "    </tr>\n",
       "    <tr>\n",
       "      <th>1</th>\n",
       "      <td>CHEMBL175</td>\n",
       "      <td>100</td>\n",
       "      <td>DEXIBUPROFEN</td>\n",
       "      <td>{'alogp': '3.07', 'aromatic_rings': 1, 'cx_log...</td>\n",
       "      <td>{'canonical_smiles': 'CC(C)Cc1ccc([C@H](C)C(=O...</td>\n",
       "    </tr>\n",
       "    <tr>\n",
       "      <th>2</th>\n",
       "      <td>CHEMBL427526</td>\n",
       "      <td>100</td>\n",
       "      <td>(R)-IBUPROPHEN</td>\n",
       "      <td>{'alogp': '3.07', 'aromatic_rings': 1, 'cx_log...</td>\n",
       "      <td>{'canonical_smiles': 'CC(C)Cc1ccc([C@@H](C)C(=...</td>\n",
       "    </tr>\n",
       "    <tr>\n",
       "      <th>3</th>\n",
       "      <td>CHEMBL1778537</td>\n",
       "      <td>100</td>\n",
       "      <td>None</td>\n",
       "      <td>{'alogp': '3.07', 'aromatic_rings': 1, 'cx_log...</td>\n",
       "      <td>{'canonical_smiles': 'CC(C)Cc1ccc([C@H]([11CH3...</td>\n",
       "    </tr>\n",
       "    <tr>\n",
       "      <th>4</th>\n",
       "      <td>CHEMBL1777821</td>\n",
       "      <td>100</td>\n",
       "      <td>None</td>\n",
       "      <td>{'alogp': '3.07', 'aromatic_rings': 1, 'cx_log...</td>\n",
       "      <td>{'canonical_smiles': 'CC(C)Cc1ccc([C@@H]([11CH...</td>\n",
       "    </tr>\n",
       "    <tr>\n",
       "      <th>5</th>\n",
       "      <td>CHEMBL3989408</td>\n",
       "      <td>100</td>\n",
       "      <td>IBUPROFEN SODIUM</td>\n",
       "      <td>{'alogp': '3.07', 'aromatic_rings': 1, 'cx_log...</td>\n",
       "      <td>{'canonical_smiles': 'CC(C)Cc1ccc(C(C)C(=O)[O-...</td>\n",
       "    </tr>\n",
       "    <tr>\n",
       "      <th>6</th>\n",
       "      <td>CHEMBL4594450</td>\n",
       "      <td>100</td>\n",
       "      <td>IBUPROFEN ARGININE</td>\n",
       "      <td>{'alogp': '3.07', 'aromatic_rings': 1, 'cx_log...</td>\n",
       "      <td>{'canonical_smiles': 'CC(C)Cc1ccc(C(C)C(=O)O)c...</td>\n",
       "    </tr>\n",
       "    <tr>\n",
       "      <th>7</th>\n",
       "      <td>CHEMBL1241153</td>\n",
       "      <td>100</td>\n",
       "      <td>IBUPROFEN SODIUM</td>\n",
       "      <td>{'alogp': '3.07', 'aromatic_rings': 1, 'cx_log...</td>\n",
       "      <td>{'canonical_smiles': 'CC(C)Cc1ccc(C(C)C(=O)[O-...</td>\n",
       "    </tr>\n",
       "    <tr>\n",
       "      <th>8</th>\n",
       "      <td>CHEMBL1201141</td>\n",
       "      <td>100</td>\n",
       "      <td>IBUPROFEN LYSINE</td>\n",
       "      <td>{'alogp': '3.07', 'aromatic_rings': 1, 'cx_log...</td>\n",
       "      <td>{'canonical_smiles': 'CC(C)Cc1ccc(C(C)C(=O)O)c...</td>\n",
       "    </tr>\n",
       "    <tr>\n",
       "      <th>9</th>\n",
       "      <td>CHEMBL366264</td>\n",
       "      <td>89.2857134342193603515625</td>\n",
       "      <td>None</td>\n",
       "      <td>{'alogp': '4.74', 'aromatic_rings': 2, 'cx_log...</td>\n",
       "      <td>{'canonical_smiles': 'CC(C)Cc1ccc(-c2ccc(C(C)C...</td>\n",
       "    </tr>\n",
       "  </tbody>\n",
       "</table>\n",
       "</div>"
      ],
      "text/plain": [
       "  molecule_chembl_id                 similarity           pref_name  \\\n",
       "0          CHEMBL521                        100           IBUPROFEN   \n",
       "1          CHEMBL175                        100        DEXIBUPROFEN   \n",
       "2       CHEMBL427526                        100      (R)-IBUPROPHEN   \n",
       "3      CHEMBL1778537                        100                None   \n",
       "4      CHEMBL1777821                        100                None   \n",
       "5      CHEMBL3989408                        100    IBUPROFEN SODIUM   \n",
       "6      CHEMBL4594450                        100  IBUPROFEN ARGININE   \n",
       "7      CHEMBL1241153                        100    IBUPROFEN SODIUM   \n",
       "8      CHEMBL1201141                        100    IBUPROFEN LYSINE   \n",
       "9       CHEMBL366264  89.2857134342193603515625                None   \n",
       "\n",
       "                                 molecule_properties  \\\n",
       "0  {'alogp': '3.07', 'aromatic_rings': 1, 'cx_log...   \n",
       "1  {'alogp': '3.07', 'aromatic_rings': 1, 'cx_log...   \n",
       "2  {'alogp': '3.07', 'aromatic_rings': 1, 'cx_log...   \n",
       "3  {'alogp': '3.07', 'aromatic_rings': 1, 'cx_log...   \n",
       "4  {'alogp': '3.07', 'aromatic_rings': 1, 'cx_log...   \n",
       "5  {'alogp': '3.07', 'aromatic_rings': 1, 'cx_log...   \n",
       "6  {'alogp': '3.07', 'aromatic_rings': 1, 'cx_log...   \n",
       "7  {'alogp': '3.07', 'aromatic_rings': 1, 'cx_log...   \n",
       "8  {'alogp': '3.07', 'aromatic_rings': 1, 'cx_log...   \n",
       "9  {'alogp': '4.74', 'aromatic_rings': 2, 'cx_log...   \n",
       "\n",
       "                                 molecule_structures  \n",
       "0  {'canonical_smiles': 'CC(C)Cc1ccc(C(C)C(=O)O)c...  \n",
       "1  {'canonical_smiles': 'CC(C)Cc1ccc([C@H](C)C(=O...  \n",
       "2  {'canonical_smiles': 'CC(C)Cc1ccc([C@@H](C)C(=...  \n",
       "3  {'canonical_smiles': 'CC(C)Cc1ccc([C@H]([11CH3...  \n",
       "4  {'canonical_smiles': 'CC(C)Cc1ccc([C@@H]([11CH...  \n",
       "5  {'canonical_smiles': 'CC(C)Cc1ccc(C(C)C(=O)[O-...  \n",
       "6  {'canonical_smiles': 'CC(C)Cc1ccc(C(C)C(=O)O)c...  \n",
       "7  {'canonical_smiles': 'CC(C)Cc1ccc(C(C)C(=O)[O-...  \n",
       "8  {'canonical_smiles': 'CC(C)Cc1ccc(C(C)C(=O)O)c...  \n",
       "9  {'canonical_smiles': 'CC(C)Cc1ccc(-c2ccc(C(C)C...  "
      ]
     },
     "metadata": {},
     "output_type": "display_data"
    }
   ],
   "source": [
    "query = \"CC(C)CC1=CC=C(C=C1)C(C)C(=O)O\"   # Ibuprofen smiles\n",
    "tanimoto = 80\n",
    "\n",
    "url = f\"https://www.ebi.ac.uk/chembl/api/data/similarity/{query}/{str(tanimoto)}?format=json\"\n",
    "\n",
    "response = requests.get(url).json()\n",
    "\n",
    "print(f\"Total similar molecules found: \" + str(len(response[\"molecules\"])))\n",
    "\n",
    "df = pd.DataFrame.from_dict(response[\"molecules\"])[['molecule_chembl_id','similarity','pref_name', 'molecule_properties', 'molecule_structures']]\n",
    "df"
   ]
  },
  {
   "cell_type": "code",
   "execution_count": null,
   "metadata": {},
   "outputs": [
    {
     "name": "stdout",
     "output_type": "stream",
     "text": [
      "Total similar molecules found: 108825\n",
      "First ten similar molecules:\n",
      "\n",
      "CID: 7489\tTitle: Terephthalic acid\n",
      "CID: 999\tTitle: Phenylacetic acid\n",
      "CID: 15717\tTitle: Allyl phenylacetate\n",
      "CID: 6862\tTitle: 1-Naphthylacetic acid\n",
      "CID: 3672\tTitle: Ibuprofen\n",
      "CID: 39912\tTitle: Dexibuprofen\n",
      "CID: 7590\tTitle: Ethyl phenylacetate\n",
      "CID: 6463\tTitle: Benzilic acid\n",
      "CID: 4775\tTitle: 4-Phenylbutyric acid\n",
      "CID: 3825\tTitle: Ketoprofen\n"
     ]
    },
    {
     "data": {
      "text/plain": [
       "[None, None, None, None, None, None, None, None, None, None]"
      ]
     },
     "metadata": {},
     "output_type": "display_data"
    }
   ],
   "source": [
    "url = f\"https://pubchem.ncbi.nlm.nih.gov/rest/pug/compound/\"\n",
    "\n",
    "response = requests.post(url + \"fastsimilarity_2d/smiles/cids/txt?Threshold=80\", data={\"smiles\" : query})\n",
    "cids = response.text.split()\n",
    "print(f\"Total similar molecules found: {len(cids)}\")\n",
    "\n",
    "cid = ','.join(cids[:10])\n",
    "response2 = requests.get(url + f\"cid/{cid}/property/Title/JSON\").json()\n",
    "print(\"First ten similar molecules:\\n\")\n",
    "[print(\"CID: \" + str(molecule[\"CID\"]) + \"\\tTitle: \" + molecule[\"Title\"]) for molecule in response2[\"PropertyTable\"][\"Properties\"]]\n"
   ]
  },
  {
   "cell_type": "markdown",
   "metadata": {},
   "source": [
    "There is a great difference in the number of molecules identified in both databases. Further, the top-listed molecules also differ between both registers despite some similarities."
   ]
  }
 ],
 "metadata": {
  "kernelspec": {
   "display_name": "Python 3.10.8 64-bit (microsoft store)",
   "language": "python",
   "name": "python3"
  },
  "language_info": {
   "name": "python",
   "version": "3.10.8"
  },
  "orig_nbformat": 4,
  "vscode": {
   "interpreter": {
    "hash": "0aa15e1035bb1f89bc15477f26948719881b6bc29e1b6aaccd30c82534510e66"
   }
  }
 },
 "nbformat": 4,
 "nbformat_minor": 2
}
