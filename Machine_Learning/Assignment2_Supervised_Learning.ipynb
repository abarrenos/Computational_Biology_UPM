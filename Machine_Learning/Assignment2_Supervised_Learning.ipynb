{
  "cells": [
    {
      "cell_type": "markdown",
      "metadata": {
        "id": "view-in-github",
        "colab_type": "text"
      },
      "source": [
        "<a href=\"https://colab.research.google.com/github/abarrenos/Computational_Biology_UPM/blob/main/Machine_Learning/Assignment2_Supervised_Learning.ipynb\" target=\"_parent\"><img src=\"https://colab.research.google.com/assets/colab-badge.svg\" alt=\"Open In Colab\"/></a>"
      ]
    },
    {
      "cell_type": "markdown",
      "metadata": {
        "id": "QvJ_7ZCAj-aI"
      },
      "source": [
        "## Load the data"
      ]
    },
    {
      "cell_type": "code",
      "execution_count": null,
      "metadata": {
        "id": "qdOXEKNM2epo",
        "colab": {
          "base_uri": "https://localhost:8080/"
        },
        "outputId": "3a042d20-3aea-428f-bebe-6ec580ee9de5"
      },
      "outputs": [
        {
          "output_type": "stream",
          "name": "stdout",
          "text": [
            "Drive already mounted at /content/drive; to attempt to forcibly remount, call drive.mount(\"/content/drive\", force_remount=True).\n"
          ]
        }
      ],
      "source": [
        "from google.colab import drive\n",
        "drive.mount(\"/content/drive\")"
      ]
    },
    {
      "cell_type": "code",
      "execution_count": null,
      "metadata": {
        "id": "KEKwNLpE2x7R",
        "colab": {
          "base_uri": "https://localhost:8080/",
          "height": 335
        },
        "outputId": "3f8690a6-3a45-4025-8e7a-d506595a50ac"
      },
      "outputs": [
        {
          "output_type": "stream",
          "name": "stdout",
          "text": [
            "Dataframe dimensions: (53, 22) \n",
            "\n"
          ]
        },
        {
          "output_type": "execute_result",
          "data": {
            "text/plain": [
              "  target  SNP_0  SNP_1  SNP_2  SNP_3  SNP_4  SNP_5  SNP_6  SNP_7  SNP_8  ...  \\\n",
              "0      R      0      2      2      0      1      2      0      1      0  ...   \n",
              "1      R      1      2      1      0      0      2      1      2      0  ...   \n",
              "2      R      1      2      2      1      0      0      2      1      1  ...   \n",
              "3      R      0      2      0      1      1      0      1      0      1  ...   \n",
              "4      R      0      0      2      0      0      2      0      1      1  ...   \n",
              "\n",
              "   SNP_11  SNP_12  SNP_13  SNP_14  SNP_15  SNP_16  SNP_17  SNP_18  SNP_19  \\\n",
              "0       2       0       1       1       0       2       2       1       0   \n",
              "1       0       1       2       0       2       2       1       0       1   \n",
              "2       2       1       2       2       0       0       0       0       0   \n",
              "3       2       0       0       1       0       2       2       0       1   \n",
              "4       1       0       0       0       0       2       1       1       1   \n",
              "\n",
              "   SNP_20  \n",
              "0       2  \n",
              "1       1  \n",
              "2       0  \n",
              "3       0  \n",
              "4       1  \n",
              "\n",
              "[5 rows x 22 columns]"
            ],
            "text/html": [
              "\n",
              "  <div id=\"df-6574388b-e38f-481f-ba8c-9a7e39707302\">\n",
              "    <div class=\"colab-df-container\">\n",
              "      <div>\n",
              "<style scoped>\n",
              "    .dataframe tbody tr th:only-of-type {\n",
              "        vertical-align: middle;\n",
              "    }\n",
              "\n",
              "    .dataframe tbody tr th {\n",
              "        vertical-align: top;\n",
              "    }\n",
              "\n",
              "    .dataframe thead th {\n",
              "        text-align: right;\n",
              "    }\n",
              "</style>\n",
              "<table border=\"1\" class=\"dataframe\">\n",
              "  <thead>\n",
              "    <tr style=\"text-align: right;\">\n",
              "      <th></th>\n",
              "      <th>target</th>\n",
              "      <th>SNP_0</th>\n",
              "      <th>SNP_1</th>\n",
              "      <th>SNP_2</th>\n",
              "      <th>SNP_3</th>\n",
              "      <th>SNP_4</th>\n",
              "      <th>SNP_5</th>\n",
              "      <th>SNP_6</th>\n",
              "      <th>SNP_7</th>\n",
              "      <th>SNP_8</th>\n",
              "      <th>...</th>\n",
              "      <th>SNP_11</th>\n",
              "      <th>SNP_12</th>\n",
              "      <th>SNP_13</th>\n",
              "      <th>SNP_14</th>\n",
              "      <th>SNP_15</th>\n",
              "      <th>SNP_16</th>\n",
              "      <th>SNP_17</th>\n",
              "      <th>SNP_18</th>\n",
              "      <th>SNP_19</th>\n",
              "      <th>SNP_20</th>\n",
              "    </tr>\n",
              "  </thead>\n",
              "  <tbody>\n",
              "    <tr>\n",
              "      <th>0</th>\n",
              "      <td>R</td>\n",
              "      <td>0</td>\n",
              "      <td>2</td>\n",
              "      <td>2</td>\n",
              "      <td>0</td>\n",
              "      <td>1</td>\n",
              "      <td>2</td>\n",
              "      <td>0</td>\n",
              "      <td>1</td>\n",
              "      <td>0</td>\n",
              "      <td>...</td>\n",
              "      <td>2</td>\n",
              "      <td>0</td>\n",
              "      <td>1</td>\n",
              "      <td>1</td>\n",
              "      <td>0</td>\n",
              "      <td>2</td>\n",
              "      <td>2</td>\n",
              "      <td>1</td>\n",
              "      <td>0</td>\n",
              "      <td>2</td>\n",
              "    </tr>\n",
              "    <tr>\n",
              "      <th>1</th>\n",
              "      <td>R</td>\n",
              "      <td>1</td>\n",
              "      <td>2</td>\n",
              "      <td>1</td>\n",
              "      <td>0</td>\n",
              "      <td>0</td>\n",
              "      <td>2</td>\n",
              "      <td>1</td>\n",
              "      <td>2</td>\n",
              "      <td>0</td>\n",
              "      <td>...</td>\n",
              "      <td>0</td>\n",
              "      <td>1</td>\n",
              "      <td>2</td>\n",
              "      <td>0</td>\n",
              "      <td>2</td>\n",
              "      <td>2</td>\n",
              "      <td>1</td>\n",
              "      <td>0</td>\n",
              "      <td>1</td>\n",
              "      <td>1</td>\n",
              "    </tr>\n",
              "    <tr>\n",
              "      <th>2</th>\n",
              "      <td>R</td>\n",
              "      <td>1</td>\n",
              "      <td>2</td>\n",
              "      <td>2</td>\n",
              "      <td>1</td>\n",
              "      <td>0</td>\n",
              "      <td>0</td>\n",
              "      <td>2</td>\n",
              "      <td>1</td>\n",
              "      <td>1</td>\n",
              "      <td>...</td>\n",
              "      <td>2</td>\n",
              "      <td>1</td>\n",
              "      <td>2</td>\n",
              "      <td>2</td>\n",
              "      <td>0</td>\n",
              "      <td>0</td>\n",
              "      <td>0</td>\n",
              "      <td>0</td>\n",
              "      <td>0</td>\n",
              "      <td>0</td>\n",
              "    </tr>\n",
              "    <tr>\n",
              "      <th>3</th>\n",
              "      <td>R</td>\n",
              "      <td>0</td>\n",
              "      <td>2</td>\n",
              "      <td>0</td>\n",
              "      <td>1</td>\n",
              "      <td>1</td>\n",
              "      <td>0</td>\n",
              "      <td>1</td>\n",
              "      <td>0</td>\n",
              "      <td>1</td>\n",
              "      <td>...</td>\n",
              "      <td>2</td>\n",
              "      <td>0</td>\n",
              "      <td>0</td>\n",
              "      <td>1</td>\n",
              "      <td>0</td>\n",
              "      <td>2</td>\n",
              "      <td>2</td>\n",
              "      <td>0</td>\n",
              "      <td>1</td>\n",
              "      <td>0</td>\n",
              "    </tr>\n",
              "    <tr>\n",
              "      <th>4</th>\n",
              "      <td>R</td>\n",
              "      <td>0</td>\n",
              "      <td>0</td>\n",
              "      <td>2</td>\n",
              "      <td>0</td>\n",
              "      <td>0</td>\n",
              "      <td>2</td>\n",
              "      <td>0</td>\n",
              "      <td>1</td>\n",
              "      <td>1</td>\n",
              "      <td>...</td>\n",
              "      <td>1</td>\n",
              "      <td>0</td>\n",
              "      <td>0</td>\n",
              "      <td>0</td>\n",
              "      <td>0</td>\n",
              "      <td>2</td>\n",
              "      <td>1</td>\n",
              "      <td>1</td>\n",
              "      <td>1</td>\n",
              "      <td>1</td>\n",
              "    </tr>\n",
              "  </tbody>\n",
              "</table>\n",
              "<p>5 rows × 22 columns</p>\n",
              "</div>\n",
              "      <button class=\"colab-df-convert\" onclick=\"convertToInteractive('df-6574388b-e38f-481f-ba8c-9a7e39707302')\"\n",
              "              title=\"Convert this dataframe to an interactive table.\"\n",
              "              style=\"display:none;\">\n",
              "        \n",
              "  <svg xmlns=\"http://www.w3.org/2000/svg\" height=\"24px\"viewBox=\"0 0 24 24\"\n",
              "       width=\"24px\">\n",
              "    <path d=\"M0 0h24v24H0V0z\" fill=\"none\"/>\n",
              "    <path d=\"M18.56 5.44l.94 2.06.94-2.06 2.06-.94-2.06-.94-.94-2.06-.94 2.06-2.06.94zm-11 1L8.5 8.5l.94-2.06 2.06-.94-2.06-.94L8.5 2.5l-.94 2.06-2.06.94zm10 10l.94 2.06.94-2.06 2.06-.94-2.06-.94-.94-2.06-.94 2.06-2.06.94z\"/><path d=\"M17.41 7.96l-1.37-1.37c-.4-.4-.92-.59-1.43-.59-.52 0-1.04.2-1.43.59L10.3 9.45l-7.72 7.72c-.78.78-.78 2.05 0 2.83L4 21.41c.39.39.9.59 1.41.59.51 0 1.02-.2 1.41-.59l7.78-7.78 2.81-2.81c.8-.78.8-2.07 0-2.86zM5.41 20L4 18.59l7.72-7.72 1.47 1.35L5.41 20z\"/>\n",
              "  </svg>\n",
              "      </button>\n",
              "      \n",
              "  <style>\n",
              "    .colab-df-container {\n",
              "      display:flex;\n",
              "      flex-wrap:wrap;\n",
              "      gap: 12px;\n",
              "    }\n",
              "\n",
              "    .colab-df-convert {\n",
              "      background-color: #E8F0FE;\n",
              "      border: none;\n",
              "      border-radius: 50%;\n",
              "      cursor: pointer;\n",
              "      display: none;\n",
              "      fill: #1967D2;\n",
              "      height: 32px;\n",
              "      padding: 0 0 0 0;\n",
              "      width: 32px;\n",
              "    }\n",
              "\n",
              "    .colab-df-convert:hover {\n",
              "      background-color: #E2EBFA;\n",
              "      box-shadow: 0px 1px 2px rgba(60, 64, 67, 0.3), 0px 1px 3px 1px rgba(60, 64, 67, 0.15);\n",
              "      fill: #174EA6;\n",
              "    }\n",
              "\n",
              "    [theme=dark] .colab-df-convert {\n",
              "      background-color: #3B4455;\n",
              "      fill: #D2E3FC;\n",
              "    }\n",
              "\n",
              "    [theme=dark] .colab-df-convert:hover {\n",
              "      background-color: #434B5C;\n",
              "      box-shadow: 0px 1px 3px 1px rgba(0, 0, 0, 0.15);\n",
              "      filter: drop-shadow(0px 1px 2px rgba(0, 0, 0, 0.3));\n",
              "      fill: #FFFFFF;\n",
              "    }\n",
              "  </style>\n",
              "\n",
              "      <script>\n",
              "        const buttonEl =\n",
              "          document.querySelector('#df-6574388b-e38f-481f-ba8c-9a7e39707302 button.colab-df-convert');\n",
              "        buttonEl.style.display =\n",
              "          google.colab.kernel.accessAllowed ? 'block' : 'none';\n",
              "\n",
              "        async function convertToInteractive(key) {\n",
              "          const element = document.querySelector('#df-6574388b-e38f-481f-ba8c-9a7e39707302');\n",
              "          const dataTable =\n",
              "            await google.colab.kernel.invokeFunction('convertToInteractive',\n",
              "                                                     [key], {});\n",
              "          if (!dataTable) return;\n",
              "\n",
              "          const docLinkHtml = 'Like what you see? Visit the ' +\n",
              "            '<a target=\"_blank\" href=https://colab.research.google.com/notebooks/data_table.ipynb>data table notebook</a>'\n",
              "            + ' to learn more about interactive tables.';\n",
              "          element.innerHTML = '';\n",
              "          dataTable['output_type'] = 'display_data';\n",
              "          await google.colab.output.renderOutput(dataTable, element);\n",
              "          const docLink = document.createElement('div');\n",
              "          docLink.innerHTML = docLinkHtml;\n",
              "          element.appendChild(docLink);\n",
              "        }\n",
              "      </script>\n",
              "    </div>\n",
              "  </div>\n",
              "  "
            ]
          },
          "metadata": {},
          "execution_count": 3
        }
      ],
      "source": [
        "import pandas as pd\n",
        "df = pd.read_csv(\"./drive/MyDrive/files/ML_dataset2.csv\", index_col=0)\n",
        "df.columns = [\"target\"] + [f\"SNP_{i}\" for i in range(df.shape[1]-1)]\n",
        "print(\"Dataframe dimensions:\", df.shape, \"\\n\")\n",
        "df.head()"
      ]
    },
    {
      "cell_type": "markdown",
      "metadata": {
        "id": "SJarW0KZ6kcI"
      },
      "source": [
        "## Data Preprocessing\n"
      ]
    },
    {
      "cell_type": "markdown",
      "metadata": {
        "id": "WIWFvn0i8C1G"
      },
      "source": [
        "The dataset contains 53 individuals (rows), 21 categorical features associated to different SNPs, and 1 target feature (‘Target’). The values of the data represent Mutant/Wild alleles detected in each each individual for the different genes. In order to make the data suitable for Machine Learning models, these categories have already been transformed to 0 for ‘*MM*’, 1 for ‘*WW*’, 2 for ‘*WM*’, and 3 for ‘*MW*’.\n",
        "\n",
        "Since these categories are not ordinal, they do not have a natural order or ranking, we need to transform them using One Hot Encoder (OHE). OHE transforms the different categories into non-ranked binary arrays (dummy variables). Moreover, I will also transform 'Target' catergorical feature from String to Integer format using LabelEncoder -1 for *R* and 0 for *NR*-, this will make it suitable for building the model."
      ]
    },
    {
      "cell_type": "code",
      "execution_count": null,
      "metadata": {
        "id": "yof5lUjA4lWd",
        "colab": {
          "base_uri": "https://localhost:8080/"
        },
        "outputId": "49480dda-fffc-45f6-e074-50ccb18afb0c"
      },
      "outputs": [
        {
          "output_type": "stream",
          "name": "stdout",
          "text": [
            "Target:\n",
            " [1 1 1 1 1 1 1 1 1 1 1 1 1 1 1 1 1 1 1 1 1 0 0 0 0 0 0 0 0 0 0 0 0 0 0 0 0\n",
            " 1 1 1 1 1 1 1 1 0 0 0 0 0 1 0 0]\n",
            "\n",
            "SNPs:\n",
            " [[1. 0. 0. ... 0. 1. 0.]\n",
            " [0. 1. 0. ... 1. 0. 0.]\n",
            " [0. 1. 0. ... 0. 0. 0.]\n",
            " ...\n",
            " [1. 0. 0. ... 0. 0. 0.]\n",
            " [0. 0. 1. ... 1. 0. 0.]\n",
            " [0. 0. 1. ... 0. 1. 0.]]\n"
          ]
        }
      ],
      "source": [
        "import numpy as np\n",
        "from sklearn.preprocessing import OneHotEncoder\n",
        "from sklearn.preprocessing import LabelEncoder\n",
        "\n",
        "# Convert data to to array\n",
        "snps = np.array(df)[:,1:]\n",
        "target = np.array(df)[:,0]\n",
        "\n",
        "# One Hot Encoding\n",
        "oh_enc = OneHotEncoder()\n",
        "lab_enc = LabelEncoder()\n",
        "ohe_snps = oh_enc.fit_transform(snps).toarray()\n",
        "label_target = lab_enc.fit_transform(target)\n",
        "\n",
        "print(\"Target:\\n\", label_target)\n",
        "print(\"\\nSNPs:\\n\", ohe_snps)"
      ]
    },
    {
      "cell_type": "markdown",
      "metadata": {
        "id": "IlhxoDDMmLvR"
      },
      "source": [
        "## Building the Classification Models"
      ]
    },
    {
      "cell_type": "markdown",
      "metadata": {
        "id": "gpLOpGIwjjPz"
      },
      "source": [
        "After processing, I will perform a comparative study using the different machine learning classifiers (Logistic Regression, Decision Trees, KNN, Random Forest, and Multilayer Perceptron) aiming to obtain the best possible model for response prediction. \n",
        "\n",
        "In order to evaluate the performance of the different parameter combinations for every model, I will conduct a multimetric score cross validation in which different scorers will be calculated. Specifically, I will calculate the values of *'F1 score'*, *'Precision'* and *'Recall'* metrics, even though only the *'F1 score'* -the harmonic mean of Rrecision and Recall- between will be considered to select the optimal model in each Cross Validation process.\n",
        "\n",
        "I first split the data into training + validation subset (90%) and test subset (10%). Since there are only 47 observations within the training + validation data set, I will carry out a 20-fold cross validation to obtain statistically significant results and avoid overfitting.\n",
        "\n"
      ]
    },
    {
      "cell_type": "code",
      "execution_count": null,
      "metadata": {
        "id": "3j43TIkJmvv4",
        "colab": {
          "base_uri": "https://localhost:8080/"
        },
        "outputId": "150cd255-eedd-440c-d554-d10f3210f170"
      },
      "outputs": [
        {
          "output_type": "stream",
          "name": "stdout",
          "text": [
            "X train: (47, 67) \tX test: (6, 67) \n",
            "Y train: (47,) \t\tY test: (6,)\n"
          ]
        }
      ],
      "source": [
        "from sklearn.model_selection import train_test_split\n",
        "\n",
        "X_train, X_test, Y_train, Y_test = train_test_split(ohe_snps, label_target, train_size=0.9, random_state=0)\n",
        "\n",
        "print(\"X train:\", X_train.shape, \"\\tX test:\", X_test.shape, \"\\nY train:\", Y_train.shape, \"\\t\\tY test:\", Y_test.shape)"
      ]
    },
    {
      "cell_type": "code",
      "execution_count": null,
      "metadata": {
        "id": "DLbUyFb4joC-",
        "colab": {
          "base_uri": "https://localhost:8080/"
        },
        "outputId": "8e241fdf-4ed5-4c60-c8cf-5fd13fc8cea2"
      },
      "outputs": [
        {
          "output_type": "stream",
          "name": "stdout",
          "text": [
            "Available scores: ['accuracy', 'adjusted_mutual_info_score', 'adjusted_rand_score', 'average_precision', 'balanced_accuracy', 'completeness_score', 'explained_variance', 'f1', 'f1_macro', 'f1_micro', 'f1_samples', 'f1_weighted', 'fowlkes_mallows_score', 'homogeneity_score', 'jaccard', 'jaccard_macro', 'jaccard_micro', 'jaccard_samples', 'jaccard_weighted', 'max_error', 'mutual_info_score', 'neg_brier_score', 'neg_log_loss', 'neg_mean_absolute_error', 'neg_mean_absolute_percentage_error', 'neg_mean_gamma_deviance', 'neg_mean_poisson_deviance', 'neg_mean_squared_error', 'neg_mean_squared_log_error', 'neg_median_absolute_error', 'neg_root_mean_squared_error', 'normalized_mutual_info_score', 'precision', 'precision_macro', 'precision_micro', 'precision_samples', 'precision_weighted', 'r2', 'rand_score', 'recall', 'recall_macro', 'recall_micro', 'recall_samples', 'recall_weighted', 'roc_auc', 'roc_auc_ovo', 'roc_auc_ovo_weighted', 'roc_auc_ovr', 'roc_auc_ovr_weighted', 'top_k_accuracy', 'v_measure_score']\n"
          ]
        }
      ],
      "source": [
        "from sklearn.metrics import SCORERS\n",
        "from sklearn.metrics import f1_score, accuracy_score, precision_recall_curve, precision_score, recall_score, confusion_matrix, ConfusionMatrixDisplay, plot_confusion_matrix\n",
        "import matplotlib.pyplot as plt\n",
        "\n",
        "print(\"Available scores:\", sorted(SCORERS.keys()))\n",
        "scores = {\"F1 score\": \"f1\", \"Precision\": \"precision\", \"Recall\": \"recall\", \"Accuracy\": \"accuracy\"}\n",
        "\n",
        "# Create a function that returns the result of the Cross Validation\n",
        "def print_cv_results(model):\n",
        "  print(\"Best Parameters:\", model.best_params_, \"\\n\")\n",
        "  print(\"Mean F1 Score:\", model.cv_results_['mean_test_F1 score'][model.best_index_].round(3), \"\\tSD:\",      # Best model's F1 Score\n",
        "                          model.cv_results_['std_test_F1 score'][model.best_index_].round(3))    \n",
        "  print(\"Mean Precision:\", model.cv_results_['mean_test_Precision'][model.best_index_].round(3), \"\\tSD:\",    # Best model's Precision\n",
        "                           model.cv_results_['std_test_Precision'][model.best_index_].round(3))    \n",
        "  print(\"Mean Recall:\", model.cv_results_['mean_test_Recall'][model.best_index_].round(3), \"\\tSD:\",          # Best model's Recall\n",
        "                        model.cv_results_['std_test_Recall'][model.best_index_].round(3))    \n",
        "  print(\"Mean Accuracy:\", model.cv_results_['mean_test_Accuracy'][model.best_index_].round(3), \"\\tSD:\",      # Best model's F1 Score\n",
        "                          model.cv_results_['std_test_Accuracy'][model.best_index_].round(3))    "
      ]
    },
    {
      "cell_type": "markdown",
      "metadata": {
        "id": "mQqlVeI9WP-k"
      },
      "source": [
        "###  Logistic Regression Classifier"
      ]
    },
    {
      "cell_type": "markdown",
      "metadata": {
        "id": "dSR6x2Sbbqf8"
      },
      "source": [
        "Logistic regression models are widely used to estimate the probability of the different outcomes a particular event to occur. These probabilities are modelled through the logit function, which transforms the outcome of a simple linear regression function into values between 0 and 1.\n",
        "\n",
        "</br>\n",
        "\\begin{split}\\begin{aligned}\n",
        "\\text{Log Loss} = \\sum_{(x,y)\\in D} -y\\log(y') - (1 - y)\\log(1 - y')\n",
        "\\end{aligned}\\end{split}\n",
        "</br>\n",
        "\n",
        "The **gradient descent** is an iterative algorithm used to identify the weights and intercepts for each feature that minimize the Loss function. I set maximimum number of 500 iterations and a tolerance of 1e-4, that is, the maximal difference between iterations required to achieve convergence. For this classification problem, I decided to set *'liblinear'* algorithm as a solver for the logistic model, since is the most appropriate for small datasets. Moreover, I will compare the performance of the two main regulatization methods supported by *'liblinear'* solver: least absolute error (*L1*) and least squares error (*L2*). (https://medium.com/@aditya97p/l1-and-l2-regularization-237438a9caa6)\n",
        "\n",
        "\n",
        "The parameter **C** is an important measure that corresponds to the inverse of the regularization strength (*C = 1/α*), which modulates the learning capacity of the model. Low C values could make the Loss Function reach values close to 0 rapidly, thus overfitting the model. In contrast, to large C values would reduce significantly the learning capacity of our model.\n"
      ]
    },
    {
      "cell_type": "code",
      "execution_count": null,
      "metadata": {
        "id": "LhdSomwWTTou"
      },
      "outputs": [],
      "source": [
        "import warnings       # Do not print warnings to reduce the output size\n",
        "warnings.filterwarnings(\"ignore\")"
      ]
    },
    {
      "cell_type": "code",
      "execution_count": null,
      "metadata": {
        "id": "6E-sa8Vdor8M",
        "colab": {
          "base_uri": "https://localhost:8080/"
        },
        "outputId": "a0741556-c257-4559-e804-79958d5a468e"
      },
      "outputs": [
        {
          "output_type": "stream",
          "name": "stdout",
          "text": [
            "Logistic Regression Classifier\n",
            "------------------------------\n",
            "Best Parameters: {'C': 0.1, 'penalty': 'l2'} \n",
            "\n",
            "Mean F1 Score: 0.867 \tSD: 0.245\n",
            "Mean Precision: 0.875 \tSD: 0.268\n",
            "Mean Recall: 0.9 \tSD: 0.255\n",
            "Mean Accuracy: 0.867 \tSD: 0.208\n",
            "Cross-Validation Time Cost: 0.74s\n"
          ]
        }
      ],
      "source": [
        "from sklearn.linear_model import LogisticRegression\n",
        "from sklearn.model_selection import GridSearchCV\n",
        "from time import time   # Import module to measure time cost\n",
        "\n",
        "logreg = LogisticRegression(solver = \"liblinear\", max_iter = 500, tol = 1e-4)\n",
        "lr_param = {'penalty':['l1','l2'], \n",
        "            'C':[0.1, 1, 10, 100, 500], \n",
        "           }\n",
        "\n",
        "lr_cv = GridSearchCV(estimator = logreg, param_grid = lr_param, cv = 20, scoring = scores, refit = \"F1 score\")  # Best model is calculated based on F1 score.\n",
        "st=time(); lr_cv.fit(X_train, Y_train); et=time()\n",
        "\n",
        "### ------------------ Print Results --------------------- ###\n",
        "from sklearn.metrics import f1_score, accuracy_score, confusion_matrix, ConfusionMatrixDisplay, plot_confusion_matrix\n",
        "import matplotlib.pyplot as plt\n",
        "print(\"Logistic Regression Classifier\\n\"\n",
        "      \"------------------------------\")\n",
        "print_cv_results(lr_cv)\n",
        "print(\"Cross-Validation Time Cost: 0.74s\")#+str(round(et-st, 2))+\"s\")\n"
      ]
    },
    {
      "cell_type": "markdown",
      "source": [
        "The best parameters for the logistic regression model are L2 penalty method and 0.1 regularization strength. Linear and logistic models are very interpretable, that is, we can understand how they make decisions just by looking at their parameters. Specifically, regression coefficients explain the weight each feature has when making a prediction. In our data, the top 5 polymorphisms with the greatest absolute weight are SNP11, SNP0, SNP13, SNP4, SNP15 and SNP20."
      ],
      "metadata": {
        "id": "tMa9RjLuXtdw"
      }
    },
    {
      "cell_type": "code",
      "source": [
        "coef = lr_cv.best_estimator_.coef_[0]\n",
        "coef_idx = list(reversed(abs(coef).argsort()))\n",
        "\n",
        "col_names = pd.get_dummies(df.drop(\"target\", axis=1), columns = df.drop(\"target\", axis=1).columns).columns    # Get feature names\n",
        "pd.DataFrame(np.array([col_names[coef_idx], coef[coef_idx]]).T, columns=[\"Feature (SNP)\",\"Weight\"]).head(10).T"
      ],
      "metadata": {
        "colab": {
          "base_uri": "https://localhost:8080/",
          "height": 112
        },
        "id": "EJlsdu7ow2aT",
        "outputId": "c41d4304-95a4-4c9d-a890-64b3c3a2caa3"
      },
      "execution_count": null,
      "outputs": [
        {
          "output_type": "execute_result",
          "data": {
            "text/plain": [
              "                      0         1         2         3         4         5  \\\n",
              "Feature (SNP)  SNP_11_2   SNP_0_0  SNP_13_0  SNP_11_0   SNP_4_1  SNP_15_2   \n",
              "Weight        -0.292921  0.287571  0.274083  0.249412  0.231077 -0.227391   \n",
              "\n",
              "                      6         7         8         9  \n",
              "Feature (SNP)   SNP_4_2  SNP_15_0  SNP_20_0  SNP_13_2  \n",
              "Weight        -0.223308  0.211355  0.192868 -0.186892  "
            ],
            "text/html": [
              "\n",
              "  <div id=\"df-00cdbb15-be34-439c-a9d5-17d8d444fdfd\">\n",
              "    <div class=\"colab-df-container\">\n",
              "      <div>\n",
              "<style scoped>\n",
              "    .dataframe tbody tr th:only-of-type {\n",
              "        vertical-align: middle;\n",
              "    }\n",
              "\n",
              "    .dataframe tbody tr th {\n",
              "        vertical-align: top;\n",
              "    }\n",
              "\n",
              "    .dataframe thead th {\n",
              "        text-align: right;\n",
              "    }\n",
              "</style>\n",
              "<table border=\"1\" class=\"dataframe\">\n",
              "  <thead>\n",
              "    <tr style=\"text-align: right;\">\n",
              "      <th></th>\n",
              "      <th>0</th>\n",
              "      <th>1</th>\n",
              "      <th>2</th>\n",
              "      <th>3</th>\n",
              "      <th>4</th>\n",
              "      <th>5</th>\n",
              "      <th>6</th>\n",
              "      <th>7</th>\n",
              "      <th>8</th>\n",
              "      <th>9</th>\n",
              "    </tr>\n",
              "  </thead>\n",
              "  <tbody>\n",
              "    <tr>\n",
              "      <th>Feature (SNP)</th>\n",
              "      <td>SNP_11_2</td>\n",
              "      <td>SNP_0_0</td>\n",
              "      <td>SNP_13_0</td>\n",
              "      <td>SNP_11_0</td>\n",
              "      <td>SNP_4_1</td>\n",
              "      <td>SNP_15_2</td>\n",
              "      <td>SNP_4_2</td>\n",
              "      <td>SNP_15_0</td>\n",
              "      <td>SNP_20_0</td>\n",
              "      <td>SNP_13_2</td>\n",
              "    </tr>\n",
              "    <tr>\n",
              "      <th>Weight</th>\n",
              "      <td>-0.292921</td>\n",
              "      <td>0.287571</td>\n",
              "      <td>0.274083</td>\n",
              "      <td>0.249412</td>\n",
              "      <td>0.231077</td>\n",
              "      <td>-0.227391</td>\n",
              "      <td>-0.223308</td>\n",
              "      <td>0.211355</td>\n",
              "      <td>0.192868</td>\n",
              "      <td>-0.186892</td>\n",
              "    </tr>\n",
              "  </tbody>\n",
              "</table>\n",
              "</div>\n",
              "      <button class=\"colab-df-convert\" onclick=\"convertToInteractive('df-00cdbb15-be34-439c-a9d5-17d8d444fdfd')\"\n",
              "              title=\"Convert this dataframe to an interactive table.\"\n",
              "              style=\"display:none;\">\n",
              "        \n",
              "  <svg xmlns=\"http://www.w3.org/2000/svg\" height=\"24px\"viewBox=\"0 0 24 24\"\n",
              "       width=\"24px\">\n",
              "    <path d=\"M0 0h24v24H0V0z\" fill=\"none\"/>\n",
              "    <path d=\"M18.56 5.44l.94 2.06.94-2.06 2.06-.94-2.06-.94-.94-2.06-.94 2.06-2.06.94zm-11 1L8.5 8.5l.94-2.06 2.06-.94-2.06-.94L8.5 2.5l-.94 2.06-2.06.94zm10 10l.94 2.06.94-2.06 2.06-.94-2.06-.94-.94-2.06-.94 2.06-2.06.94z\"/><path d=\"M17.41 7.96l-1.37-1.37c-.4-.4-.92-.59-1.43-.59-.52 0-1.04.2-1.43.59L10.3 9.45l-7.72 7.72c-.78.78-.78 2.05 0 2.83L4 21.41c.39.39.9.59 1.41.59.51 0 1.02-.2 1.41-.59l7.78-7.78 2.81-2.81c.8-.78.8-2.07 0-2.86zM5.41 20L4 18.59l7.72-7.72 1.47 1.35L5.41 20z\"/>\n",
              "  </svg>\n",
              "      </button>\n",
              "      \n",
              "  <style>\n",
              "    .colab-df-container {\n",
              "      display:flex;\n",
              "      flex-wrap:wrap;\n",
              "      gap: 12px;\n",
              "    }\n",
              "\n",
              "    .colab-df-convert {\n",
              "      background-color: #E8F0FE;\n",
              "      border: none;\n",
              "      border-radius: 50%;\n",
              "      cursor: pointer;\n",
              "      display: none;\n",
              "      fill: #1967D2;\n",
              "      height: 32px;\n",
              "      padding: 0 0 0 0;\n",
              "      width: 32px;\n",
              "    }\n",
              "\n",
              "    .colab-df-convert:hover {\n",
              "      background-color: #E2EBFA;\n",
              "      box-shadow: 0px 1px 2px rgba(60, 64, 67, 0.3), 0px 1px 3px 1px rgba(60, 64, 67, 0.15);\n",
              "      fill: #174EA6;\n",
              "    }\n",
              "\n",
              "    [theme=dark] .colab-df-convert {\n",
              "      background-color: #3B4455;\n",
              "      fill: #D2E3FC;\n",
              "    }\n",
              "\n",
              "    [theme=dark] .colab-df-convert:hover {\n",
              "      background-color: #434B5C;\n",
              "      box-shadow: 0px 1px 3px 1px rgba(0, 0, 0, 0.15);\n",
              "      filter: drop-shadow(0px 1px 2px rgba(0, 0, 0, 0.3));\n",
              "      fill: #FFFFFF;\n",
              "    }\n",
              "  </style>\n",
              "\n",
              "      <script>\n",
              "        const buttonEl =\n",
              "          document.querySelector('#df-00cdbb15-be34-439c-a9d5-17d8d444fdfd button.colab-df-convert');\n",
              "        buttonEl.style.display =\n",
              "          google.colab.kernel.accessAllowed ? 'block' : 'none';\n",
              "\n",
              "        async function convertToInteractive(key) {\n",
              "          const element = document.querySelector('#df-00cdbb15-be34-439c-a9d5-17d8d444fdfd');\n",
              "          const dataTable =\n",
              "            await google.colab.kernel.invokeFunction('convertToInteractive',\n",
              "                                                     [key], {});\n",
              "          if (!dataTable) return;\n",
              "\n",
              "          const docLinkHtml = 'Like what you see? Visit the ' +\n",
              "            '<a target=\"_blank\" href=https://colab.research.google.com/notebooks/data_table.ipynb>data table notebook</a>'\n",
              "            + ' to learn more about interactive tables.';\n",
              "          element.innerHTML = '';\n",
              "          dataTable['output_type'] = 'display_data';\n",
              "          await google.colab.output.renderOutput(dataTable, element);\n",
              "          const docLink = document.createElement('div');\n",
              "          docLink.innerHTML = docLinkHtml;\n",
              "          element.appendChild(docLink);\n",
              "        }\n",
              "      </script>\n",
              "    </div>\n",
              "  </div>\n",
              "  "
            ]
          },
          "metadata": {},
          "execution_count": 9
        }
      ]
    },
    {
      "cell_type": "markdown",
      "metadata": {
        "id": "nT6CEvkkIBZk"
      },
      "source": [
        "### K-Nearest Kneighbors Classifier"
      ]
    },
    {
      "cell_type": "markdown",
      "metadata": {
        "id": "nTdWJmsU7rtv"
      },
      "source": [
        "K-Nearest Kneighbors (KNN) is a classification and regression method that can be used to classify input data points based on the class to which the K-nearest neighboring points belong to. I will train the model using different algorithms to identify the nearest neighbors -*'auto', 'ball_tree', 'kd_tree', 'brute'*- and  based on the nature and scale of the data, I decided that distant-based (geometric) methods, rather that similarity-based, are more suitable for this problem.\n",
        "\n",
        "Tree-based algorithms to find neighboring points aim to be more efficient than brute force for large datasets (not in this case) and its performance is regulated by the *leaf size*, which ranges from 1 to N for N training points.\n",
        "(https://scikit-learn.org/stable/modules/neighbors.html#classification)\n",
        "\n",
        "Perhaps, the most important parameter for KNN model is the number of neighbors to consider (*K*). These neighbors vote to determine the class of the new point, and they can have uniform or different *weights* in the voting process."
      ]
    },
    {
      "cell_type": "code",
      "execution_count": null,
      "metadata": {
        "id": "y0LyOz9vH84f",
        "colab": {
          "base_uri": "https://localhost:8080/"
        },
        "outputId": "d3c36d8f-eeca-45b5-c1e3-b396f9e9dfba"
      },
      "outputs": [
        {
          "output_type": "stream",
          "name": "stdout",
          "text": [
            "K-Nearest Neighbors Classifier\n",
            "------------------------------\n",
            "Best Parameters: {'algorithm': 'ball_tree', 'leaf_size': 1, 'metric': 'manhattan', 'n_neighbors': 10, 'weights': 'distance'} \n",
            "\n",
            "Mean F1 Score: 0.867 \tSD: 0.306\n",
            "Mean Precision: 0.875 \tSD: 0.311\n",
            "Mean Recall: 0.875 \tSD: 0.311\n",
            "Mean Accuracy: 0.892 \tSD: 0.225\n",
            "Cross-Validation Time Cost: 62.96s\n"
          ]
        }
      ],
      "source": [
        "from sklearn.neighbors import KNeighborsClassifier\n",
        "import numpy as np\n",
        "from time import time \n",
        "\n",
        "knn = KNeighborsClassifier()\n",
        "knn_param = {\"n_neighbors\": range(1,11),\n",
        "            \"weights\": ['uniform', 'distance'], \n",
        "            \"algorithm\": ['auto', 'ball_tree', 'kd_tree', 'brute'],\n",
        "            \"leaf_size\" : np.arange(1, 43, 10),\n",
        "            \"metric\":['euclidean', 'manhattan']\n",
        "            } \n",
        "\n",
        "knn_cv = GridSearchCV(estimator = knn, param_grid = knn_param, cv = 20, scoring = scores, refit=\"F1 score\")\n",
        "# st=time(); knn_cv.fit(X_train, Y_train); et=time()\n",
        "\n",
        "### ------------- Save Cross-Validation Results to save time ------------- ###\n",
        "import joblib\n",
        "# joblib.dump(knn_cv, 'files/knn_cv_results.pkl')\n",
        "knn_cv = joblib.load(\"files/knn_cv_results.pkl\")\n",
        "\n",
        "### --------------------- Print Results --------------------- ###\n",
        "print(\"K-Nearest Neighbors Classifier\\n\"\n",
        "      \"------------------------------\")\n",
        "print_cv_results(knn_cv)\n",
        "print(\"Cross-Validation Time Cost: 62.96s\")#+str(round(et-st, 2))+\"s\")  # 62.96s\n"
      ]
    },
    {
      "cell_type": "markdown",
      "source": [
        "The best cross validated results were obtained with 10 neighbours defined through the ball-tree algorithm, using Manhattan metric and distance-based weights. However, if we uniquely compare the number of neighbours, the highest average F1 Score (under combination of different parameters) is obtained with K = 9 neighbours."
      ],
      "metadata": {
        "id": "WTUcyb4aX2L6"
      }
    },
    {
      "cell_type": "code",
      "source": [
        "# Analyse the average F1 score for different K Neighbors obtained via Cross Validation\n",
        "f1_scores=[]\n",
        "for k in range(1, 11):\n",
        "  neighbors = np.asarray(knn_cv.cv_results_[\"param_n_neighbors\"])\n",
        "  indexes = np.where(neighbors == k)[0]\n",
        "  f1_scores.append(knn_cv.cv_results_[\"mean_test_F1 score\"][indexes].mean())\n",
        "\n",
        "fig, ax = plt.subplots(dpi = 100)\n",
        "ax.plot(range(1, 11), f1_scores)\n",
        "ax.scatter(range(1, 11), f1_scores)\n",
        "ax.vlines(x=9, ymin=0.55, ymax=0.85, linestyles = \"dashed\", alpha = 0.8)\n",
        "ax.set_xlabel(\"N Neighbors\")\n",
        "ax.set_ylabel(\"F1 Score\")"
      ],
      "metadata": {
        "colab": {
          "base_uri": "https://localhost:8080/",
          "height": 400
        },
        "id": "Njt8MJqFjj3X",
        "outputId": "3d62ab88-63e7-4656-f49a-43df52f9210f"
      },
      "execution_count": null,
      "outputs": [
        {
          "output_type": "execute_result",
          "data": {
            "text/plain": [
              "Text(0, 0.5, 'F1 Score')"
            ]
          },
          "metadata": {},
          "execution_count": 11
        },
        {
          "output_type": "display_data",
          "data": {
            "text/plain": [
              "<Figure size 600x400 with 1 Axes>"
            ],
            "image/png": "[encoded data removed]"
          },
          "metadata": {
            "needs_background": "light"
          }
        }
      ]
    },
    {
      "cell_type": "markdown",
      "metadata": {
        "id": "XJ22yxxxIMdt"
      },
      "source": [
        "### Decision Tree Classifier"
      ]
    },
    {
      "cell_type": "markdown",
      "metadata": {
        "id": "6fjQcdL_dp_c"
      },
      "source": [
        "Decision trees are supervised models that can address classification and regression problems by making simple binary decisions inferred from the data features, generating a **binary tree-like structure**. These models identify the most informative features (*nodes*) that better separate our data into *branches* or final *leaves*. For fine-tuning the model, I will compare the performance of *Gini*, *entropy* and *log_loss* criteria that measure information gain in every split of the tree. Further, I will balance the weights of *R* and *NR* classes to avoid biases in the tree structure.\n",
        "\n",
        "Decision trees will eventually become overfitted if their growth is not limited and if the size of their leaves is too small (close to one sample per leaf). In contrast, very strict growth restrictions can prevent the tree from learning. To avoid overfitting and ensure learning, I will perform Cross Validation using different *tree depths* -maximum number of consecutive node divisions- and *minimum leaf sizes*. Moreover, I will establish a *minimal impurity decrease* (or information gain) requirement for a node bifurcation to occur to prune the tree.\n",
        "\n",
        "Another way of controlling overfitting is via pruning of the final leaves to obtain less complex subtrees. The most common method is Cost-Complexity pruning, which is regulated through the parameter *ccp_alpha*. Since I am already limiting tree growth, I will not perform pruning (default).\n",
        "\n",
        "(https://scikit-learn.org/stable/modules/tree.html#classification)\n",
        "\n",
        "\n"
      ]
    },
    {
      "cell_type": "code",
      "execution_count": null,
      "metadata": {
        "id": "1Q2trM5fOP-z",
        "colab": {
          "base_uri": "https://localhost:8080/"
        },
        "outputId": "fba8fc82-69c7-4bbd-ec79-760f1d083024"
      },
      "outputs": [
        {
          "output_type": "stream",
          "name": "stdout",
          "text": [
            "Decision Tree Classifier\n",
            "-------------------------\n",
            "Best Parameters: {'criterion': 'entropy', 'max_depth': 5, 'min_impurity_decrease': 0.1, 'min_samples_leaf': 1} \n",
            "\n",
            "Mean F1 Score: 0.723 \tSD: 0.384\n",
            "Mean Precision: 0.733 \tSD: 0.399\n",
            "Mean Recall: 0.75 \tSD: 0.403\n",
            "Mean Accuracy: 0.75 \tSD: 0.323\n",
            "Cross-Validation Time Cost: 5.33s\n"
          ]
        }
      ],
      "source": [
        "from sklearn.tree import DecisionTreeClassifier, plot_tree\n",
        "\n",
        "tree = DecisionTreeClassifier(class_weight = \"balanced\", random_state=10, splitter = 'best')   # Choose the best split (most informative) at each node.\n",
        "tree_param = {'min_samples_leaf': [1, 5, 10],\n",
        "              'max_depth': [3, 5, 20],\n",
        "              'min_impurity_decrease':[0.1, 0.2, 0.3],\n",
        "              'criterion': ['gini', 'entropy', 'log_loss']\n",
        "              }\n",
        "\n",
        "tree_cv = GridSearchCV(estimator = tree, param_grid = tree_param, cv = 20, scoring = scores, refit=\"F1 score\")\n",
        "# st=time(); tree_cv.fit(X_train, Y_train); et=time()\n",
        "\n",
        "### ------------- Save Cross-Validation Results to save time ------------- ###\n",
        "# joblib.dump(tree_cv, 'files/tree_cv_results.pkl')\n",
        "tree_cv = joblib.load(\"files/tree_cv_results.pkl\")\n",
        "\n",
        "### --------------------- Print Results --------------------- ###\n",
        "print(\"Decision Tree Classifier\\n\"\n",
        "      \"-------------------------\")\n",
        "print_cv_results(tree_cv)\n",
        "print(\"Cross-Validation Time Cost: 5.33s\")#+str(round(et-st, 2))+\"s\")  \n"
      ]
    },
    {
      "cell_type": "code",
      "execution_count": null,
      "metadata": {
        "id": "4nnlWlmxWSeK",
        "colab": {
          "base_uri": "https://localhost:8080/",
          "height": 661
        },
        "outputId": "45e9b900-16fb-4827-a625-9270657cee57"
      },
      "outputs": [
        {
          "output_type": "display_data",
          "data": {
            "text/plain": [
              "<Figure size 1200x800 with 1 Axes>"
            ],
            "image/png": "[encoded data removed]"
          },
          "metadata": {
            "needs_background": "light"
          }
        }
      ],
      "source": [
        "## Print tree\n",
        "plt.figure(dpi = 200)\n",
        "plot_tree(tree_cv.best_estimator_, filled = True, proportion = True, rounded = True, class_names=[\"NR\", \"R\"], feature_names=col_names, precision = 10)\n",
        "plt.show()"
      ]
    },
    {
      "cell_type": "code",
      "source": [
        "## Feature importances\n",
        "imp_feat = list(reversed(sorted(tree_cv.best_estimator_.feature_importances_)))\n",
        "imp_feat_idx = list(reversed(tree_cv.best_estimator_.feature_importances_.argsort()))\n",
        "\n",
        "pd.DataFrame(np.array([col_names[imp_feat_idx], imp_feat]).T, columns=[\"Feature (SNP)\",\"Importance\"]).head()"
      ],
      "metadata": {
        "id": "DYoyBD6_uIgV",
        "colab": {
          "base_uri": "https://localhost:8080/",
          "height": 206
        },
        "outputId": "f277a75f-402e-46b9-f229-4b7ff5f2708c"
      },
      "execution_count": null,
      "outputs": [
        {
          "output_type": "execute_result",
          "data": {
            "text/plain": [
              "  Feature (SNP) Importance\n",
              "0      SNP_11_2   0.340536\n",
              "1      SNP_13_0    0.25461\n",
              "2       SNP_0_0   0.218394\n",
              "3      SNP_15_2   0.186459\n",
              "4       SNP_1_0        0.0"
            ],
            "text/html": [
              "\n",
              "  <div id=\"df-592ee94a-37a1-449c-bc1f-c2caadd0be07\">\n",
              "    <div class=\"colab-df-container\">\n",
              "      <div>\n",
              "<style scoped>\n",
              "    .dataframe tbody tr th:only-of-type {\n",
              "        vertical-align: middle;\n",
              "    }\n",
              "\n",
              "    .dataframe tbody tr th {\n",
              "        vertical-align: top;\n",
              "    }\n",
              "\n",
              "    .dataframe thead th {\n",
              "        text-align: right;\n",
              "    }\n",
              "</style>\n",
              "<table border=\"1\" class=\"dataframe\">\n",
              "  <thead>\n",
              "    <tr style=\"text-align: right;\">\n",
              "      <th></th>\n",
              "      <th>Feature (SNP)</th>\n",
              "      <th>Importance</th>\n",
              "    </tr>\n",
              "  </thead>\n",
              "  <tbody>\n",
              "    <tr>\n",
              "      <th>0</th>\n",
              "      <td>SNP_11_2</td>\n",
              "      <td>0.340536</td>\n",
              "    </tr>\n",
              "    <tr>\n",
              "      <th>1</th>\n",
              "      <td>SNP_13_0</td>\n",
              "      <td>0.25461</td>\n",
              "    </tr>\n",
              "    <tr>\n",
              "      <th>2</th>\n",
              "      <td>SNP_0_0</td>\n",
              "      <td>0.218394</td>\n",
              "    </tr>\n",
              "    <tr>\n",
              "      <th>3</th>\n",
              "      <td>SNP_15_2</td>\n",
              "      <td>0.186459</td>\n",
              "    </tr>\n",
              "    <tr>\n",
              "      <th>4</th>\n",
              "      <td>SNP_1_0</td>\n",
              "      <td>0.0</td>\n",
              "    </tr>\n",
              "  </tbody>\n",
              "</table>\n",
              "</div>\n",
              "      <button class=\"colab-df-convert\" onclick=\"convertToInteractive('df-592ee94a-37a1-449c-bc1f-c2caadd0be07')\"\n",
              "              title=\"Convert this dataframe to an interactive table.\"\n",
              "              style=\"display:none;\">\n",
              "        \n",
              "  <svg xmlns=\"http://www.w3.org/2000/svg\" height=\"24px\"viewBox=\"0 0 24 24\"\n",
              "       width=\"24px\">\n",
              "    <path d=\"M0 0h24v24H0V0z\" fill=\"none\"/>\n",
              "    <path d=\"M18.56 5.44l.94 2.06.94-2.06 2.06-.94-2.06-.94-.94-2.06-.94 2.06-2.06.94zm-11 1L8.5 8.5l.94-2.06 2.06-.94-2.06-.94L8.5 2.5l-.94 2.06-2.06.94zm10 10l.94 2.06.94-2.06 2.06-.94-2.06-.94-.94-2.06-.94 2.06-2.06.94z\"/><path d=\"M17.41 7.96l-1.37-1.37c-.4-.4-.92-.59-1.43-.59-.52 0-1.04.2-1.43.59L10.3 9.45l-7.72 7.72c-.78.78-.78 2.05 0 2.83L4 21.41c.39.39.9.59 1.41.59.51 0 1.02-.2 1.41-.59l7.78-7.78 2.81-2.81c.8-.78.8-2.07 0-2.86zM5.41 20L4 18.59l7.72-7.72 1.47 1.35L5.41 20z\"/>\n",
              "  </svg>\n",
              "      </button>\n",
              "      \n",
              "  <style>\n",
              "    .colab-df-container {\n",
              "      display:flex;\n",
              "      flex-wrap:wrap;\n",
              "      gap: 12px;\n",
              "    }\n",
              "\n",
              "    .colab-df-convert {\n",
              "      background-color: #E8F0FE;\n",
              "      border: none;\n",
              "      border-radius: 50%;\n",
              "      cursor: pointer;\n",
              "      display: none;\n",
              "      fill: #1967D2;\n",
              "      height: 32px;\n",
              "      padding: 0 0 0 0;\n",
              "      width: 32px;\n",
              "    }\n",
              "\n",
              "    .colab-df-convert:hover {\n",
              "      background-color: #E2EBFA;\n",
              "      box-shadow: 0px 1px 2px rgba(60, 64, 67, 0.3), 0px 1px 3px 1px rgba(60, 64, 67, 0.15);\n",
              "      fill: #174EA6;\n",
              "    }\n",
              "\n",
              "    [theme=dark] .colab-df-convert {\n",
              "      background-color: #3B4455;\n",
              "      fill: #D2E3FC;\n",
              "    }\n",
              "\n",
              "    [theme=dark] .colab-df-convert:hover {\n",
              "      background-color: #434B5C;\n",
              "      box-shadow: 0px 1px 3px 1px rgba(0, 0, 0, 0.15);\n",
              "      filter: drop-shadow(0px 1px 2px rgba(0, 0, 0, 0.3));\n",
              "      fill: #FFFFFF;\n",
              "    }\n",
              "  </style>\n",
              "\n",
              "      <script>\n",
              "        const buttonEl =\n",
              "          document.querySelector('#df-592ee94a-37a1-449c-bc1f-c2caadd0be07 button.colab-df-convert');\n",
              "        buttonEl.style.display =\n",
              "          google.colab.kernel.accessAllowed ? 'block' : 'none';\n",
              "\n",
              "        async function convertToInteractive(key) {\n",
              "          const element = document.querySelector('#df-592ee94a-37a1-449c-bc1f-c2caadd0be07');\n",
              "          const dataTable =\n",
              "            await google.colab.kernel.invokeFunction('convertToInteractive',\n",
              "                                                     [key], {});\n",
              "          if (!dataTable) return;\n",
              "\n",
              "          const docLinkHtml = 'Like what you see? Visit the ' +\n",
              "            '<a target=\"_blank\" href=https://colab.research.google.com/notebooks/data_table.ipynb>data table notebook</a>'\n",
              "            + ' to learn more about interactive tables.';\n",
              "          element.innerHTML = '';\n",
              "          dataTable['output_type'] = 'display_data';\n",
              "          await google.colab.output.renderOutput(dataTable, element);\n",
              "          const docLink = document.createElement('div');\n",
              "          docLink.innerHTML = docLinkHtml;\n",
              "          element.appendChild(docLink);\n",
              "        }\n",
              "      </script>\n",
              "    </div>\n",
              "  </div>\n",
              "  "
            ]
          },
          "metadata": {},
          "execution_count": 16
        }
      ]
    },
    {
      "cell_type": "markdown",
      "source": [
        "Decision trees are even simpler and more interpretable than logistic models. We can obtain a visual representation of the decisions made by the model, and the importance of each feature. For instance, if SNP11 is other than 2 (WM), predict class R; if SNP11 equals 2 and SNP13 is 0 (MM), patients are also responsive (R); and so on. In this tree, the most important features are SNP11, SNP13, SNP15 and SNP0, which were also relevant in the logistic model as we previously observed. However, decision trees are poorly robust and small variations in the input data create largely different trees."
      ],
      "metadata": {
        "id": "FikHgmdaX8ZA"
      }
    },
    {
      "cell_type": "markdown",
      "source": [
        "### Random Forest Classifier"
      ],
      "metadata": {
        "id": "UfsKKOuBb77F"
      }
    },
    {
      "cell_type": "markdown",
      "source": [
        "A Random Forest is an ensemble of multiple individual Decision Trees (weak learners), each of them trained with different subsamples of the training set drawn with replacement to produce variable results. Besides this, we can increase randomness by sampling a subset of features to consider for each individual Decision Tree. The decisions of the individual classifiers are then combined and averaged to improve predictive accuracy and control over-fitting.\n",
        "\n",
        "The purpose of these two sources of randomness is to decrease the variance of the forest estimator, despite a slight potential increase in bias. Overall, ensembles tackle the main limitations of decision trees: they are more accurate, less prone to over-fitting and more robust (less sensitive to slight variations in data). \n",
        "\n",
        "For this model, I will perform subsamplig of training data (*bootstrap sampling*) and features, and assess the accuracy of the ensemble for different maximum numbers of samples and features. The lower the sampling size, the greater the reduction of variance, but also the greater the increase in bias.\n",
        "\n",
        "Besides the sampling criteria, the most important parameter to define is the number of weak estimators, therefore, I will compare the performance of the model with different number of trees. Finally, I will fine-tune the same hyperparameters as I previously did for the Decision Trees (tree depth, criterion and minimum information gain per split).\n",
        "\n",
        "https://scikit-learn.org/stable/modules/ensemble.html#\n",
        "\n",
        "https://scikit-learn.org/stable/modules/generated/sklearn.ensemble.RandomForestClassifier.html"
      ],
      "metadata": {
        "id": "4UjRvNbIb_12"
      }
    },
    {
      "cell_type": "code",
      "execution_count": null,
      "metadata": {
        "id": "s5GnSvnNb0Uv",
        "colab": {
          "base_uri": "https://localhost:8080/"
        },
        "outputId": "eeae4a01-994c-4953-a131-5e0c3821033d"
      },
      "outputs": [
        {
          "output_type": "stream",
          "name": "stdout",
          "text": [
            "Random Forest Classifier\n",
            "-------------------------\n",
            "Best Parameters: {'criterion': 'gini', 'max_depth': 3, 'max_features': 0.5, 'max_samples': 0.5, 'min_impurity_decrease': 0.1, 'n_estimators': 500} \n",
            "\n",
            "Mean F1 Score: 0.85 \tSD: 0.247\n",
            "Mean Precision: 0.85 \tSD: 0.278\n",
            "Mean Recall: 0.9 \tSD: 0.255\n",
            "Mean Accuracy: 0.842 \tSD: 0.22\n",
            "Cross-Validation Time Cost: 3741.04s\n"
          ]
        }
      ],
      "source": [
        "from sklearn.ensemble import RandomForestClassifier\n",
        "rfc = RandomForestClassifier(random_state=0, class_weight = \"balanced_subsample\", bootstrap=True\n",
        "                             )\n",
        "rfc_param = { 'n_estimators': [100, 200, 300, 500],\n",
        "              'max_features': [0.5, 0.8, 1.],\n",
        "              'max_samples': [0.5, 0.8, 1.],\n",
        "              'max_depth': [3, 5, 10],\n",
        "              'min_impurity_decrease': [0.1, 0.2, 0.3],\n",
        "              'criterion': ['gini', 'entropy', 'log_loss']\n",
        "            } \n",
        "\n",
        "rfc_cv = GridSearchCV(estimator = rfc, param_grid = rfc_param, cv = 20, scoring = scores, refit=\"F1 score\")\n",
        "# st=time(); rfc_cv.fit(X_train, Y_train); et=time()\n",
        "\n",
        "### ------------- Save Cross-Validation Results to save time ------------- ###\n",
        "# joblib.dump(rfc_cv, 'files/rfc_cv_results2.pkl')\n",
        "rfc_cv = joblib.load(\"files/rfc_cv_results.pkl\")\n",
        "\n",
        "### --------------------- Print Results --------------------- ###\n",
        "print(\"Random Forest Classifier\\n\"\n",
        "      \"-------------------------\")\n",
        "print_cv_results(rfc_cv)\n",
        "print(\"Cross-Validation Time Cost: 3741.04s\")#+str(round(et-st, 2))+\"s\")  \n"
      ]
    },
    {
      "cell_type": "markdown",
      "source": [
        "For this particular problem, the best cross validation model is an ensemble of 500 individual decision trees, fitted with 80% randomly drawn training observations and without feature subsampling. Each tree has a maximum depth of 3 and minimum impurity decrease of 0.1, and the quality of the splits was determined by the entropy criterium.\n",
        "\n",
        "As we can see in the following graph, accuracy increases with the number of trees. However, we expect the accuracy curve to flatten as we increase the number of weak learners, so that large increments in the number of trees would produce poorly significant variations in F1 score. For this reason, I do not consider worthwhile to use a larger number of trees, considering the huge computational and time cost. "
      ],
      "metadata": {
        "id": "SCqevnKvYDR0"
      }
    },
    {
      "cell_type": "code",
      "source": [
        "# Analyse the average F1 score for different number of weak learners.\n",
        "f1_scores=[]\n",
        "for n in [100, 200, 300, 500]:\n",
        "  trees = np.asarray(rfc_cv.cv_results_[\"param_n_estimators\"])\n",
        "  indexes = np.where(trees == n)[0]\n",
        "  f1_scores.append(np.nanmean(rfc_cv.cv_results_[\"mean_test_F1 score\"][indexes]))\n",
        "\n",
        "fig, ax = plt.subplots(dpi = 100)\n",
        "ax.plot(list([100, 200, 300, 500]), f1_scores)\n",
        "ax.scatter(list([100, 200, 300, 500]), f1_scores)\n",
        "# ax.vlines(x=9, linestyles = \"dashed\", alpha = 0.8)\n",
        "ax.set_xlabel(\"N Neighbors\")\n",
        "ax.set_ylabel(\"Mean F1 Score\")"
      ],
      "metadata": {
        "colab": {
          "base_uri": "https://localhost:8080/",
          "height": 400
        },
        "id": "lozgg_JkE1s6",
        "outputId": "89b97d32-7fa7-4e4d-c3fc-19abf55ce0c4"
      },
      "execution_count": null,
      "outputs": [
        {
          "output_type": "execute_result",
          "data": {
            "text/plain": [
              "Text(0, 0.5, 'Mean F1 Score')"
            ]
          },
          "metadata": {},
          "execution_count": 16
        },
        {
          "output_type": "display_data",
          "data": {
            "text/plain": [
              "<Figure size 600x400 with 1 Axes>"
            ],
            "image/png": "[encoded data removed]"
          },
          "metadata": {
            "needs_background": "light"
          }
        }
      ]
    },
    {
      "cell_type": "markdown",
      "source": [
        "### Multilayer Perceptron Classifier"
      ],
      "metadata": {
        "id": "ytEi_YlhbAo5"
      }
    },
    {
      "cell_type": "markdown",
      "source": [
        "Multilayer Perceptrons (MLP) are Supervised Learning Models that aim to simulate the information processing mechanism of the brain. MLPs are formed by multiple layers of neurons, where each neuron is connected to all the neurons in the previous and following layers. The **input layer** represent the training data features, each neuron in the **hidden layer** transforms the values received from the previous layer with a weighted linear summation followed by a non-linear *activation function*, and the **output layer** transforms the values from the last hidden layer into the final output class or feature. In classification problems, the output layer normally applies the softmax function.\n",
        "(https://en.wikipedia.org/wiki/Softmax_function#Neural_networks)\n",
        "\n",
        "In MLP models, the parameters of the network (weights\n",
        "and thresholds) need to be finely-tuned until the output of the network is the closest to the expected output. This is usually performed using the *gradient descent* iterative method, as in logistic models, that minimizes the Loss Function. I will specifically use the *'lbfgs'* algorithm, which is more accurate and faster for small datasets. The learning rate of the model is controlled by the *regularization parameter (α)*, which needs to be properly adjusted to avoid overfitting.\n",
        "\n",
        "For this problem, I will evaluate the performance of the MLP with different number of hidden layers and neurons, and using diverse non-linear activation functions for the neurons in the hidden layers.\n",
        "\n",
        "https://scikit-learn.org/stable/modules/neural_networks_supervised.html#\n",
        "\n"
      ],
      "metadata": {
        "id": "gK0sW-SkbJg3"
      }
    },
    {
      "cell_type": "code",
      "execution_count": null,
      "metadata": {
        "colab": {
          "base_uri": "https://localhost:8080/"
        },
        "id": "H-AEqsPTokTp",
        "outputId": "8b617642-a3e1-420b-e841-48205bf4d1b5"
      },
      "outputs": [
        {
          "output_type": "stream",
          "name": "stdout",
          "text": [
            "Multi-Layer Perceptron\n",
            "-------------------------\n",
            "Best Parameters: {'activation': 'relu', 'alpha': 0.001, 'hidden_layer_sizes': (5, 5)} \n",
            "\n",
            "Mean F1 Score: 0.917 \tSD: 0.144\n",
            "Mean Precision: 0.95 \tSD: 0.15\n",
            "Mean Recall: 0.925 \tSD: 0.179\n",
            "Mean Accuracy: 0.9 \tSD: 0.178\n",
            "Cross-Validation Time Cost: 131.74s\n"
          ]
        }
      ],
      "source": [
        "from sklearn.neural_network import MLPClassifier\n",
        "\n",
        "mlp = MLPClassifier(solver = \"lbfgs\", max_iter=5000, random_state=0)   # Stop gradient descent after 5000 iterations or until convergence.\n",
        "mlp_params = {\n",
        "    'hidden_layer_sizes': [(5, ), (5, 5), (10, ), (10, 10), (50,), (50, 50), (100,), (100, 100)],\n",
        "    'activation': ['logistic', 'tanh', 'relu'],\n",
        "    'alpha': [0.0001, 0.001, 0.01, 0.1, 1]\n",
        "}\n",
        "mlp_cv = GridSearchCV(estimator = mlp, param_grid = mlp_params, cv = 20, scoring = scores, refit=\"F1 score\")\n",
        "# st=time(); mlp_cv.fit(X_train, Y_train); et=time()\n",
        "\n",
        "### ------------- Save Cross-Validation Results to save time ------------- ###\n",
        "# joblib.dump(mlp_cv, 'files/mlp_cv_results.pkl')\n",
        "mlp_cv = joblib.load(\"files/mlp_cv_results.pkl\")\n",
        "\n",
        "### --------------------- Print Results --------------------- ###\n",
        "print(\"Multi-Layer Perceptron\\n\"\n",
        "      \"-------------------------\")\n",
        "print_cv_results(mlp_cv)\n",
        "print(\"Cross-Validation Time Cost: 131.74s\")#+str(round(et-st, 2))+\"s\")\n"
      ]
    },
    {
      "cell_type": "markdown",
      "source": [
        "The best performing multilayer perceptron obtained though cross validation contains two hidden layers, each of them formed by 5 neurons with Relu activation function, and gradient descent is modulated by a regularization parameter (α) of 0.001."
      ],
      "metadata": {
        "id": "ZofJ2pZGYJ6_"
      }
    },
    {
      "cell_type": "markdown",
      "source": [
        "## Final Validation Results"
      ],
      "metadata": {
        "id": "aTnvLQvfkgA3"
      }
    },
    {
      "cell_type": "markdown",
      "source": [
        "The following chart represent the mean validation scores and their standard deviation obtained using the best estimator for each model (K = 20). F1-Score was used as a performance criterion to select the most suitable model. This measure is very useful in binary classification when the positive and negative classes are unbalanced, and we aim to minimize the probability of misclassifying negative and positive samples.\n",
        "\n",
        "As it can be seen, Multilayer Perceptron provide excellent results in terms of Accuracy, Precision, Recall and F1 score, therefore, it is the best possible model to approach this classification problem. Moreover, the standard deviation of the cross-validation metrics obtained with MLP was notably lower than other models, suggesting that this model is more robust to variations in the training data.\n",
        "\n",
        "In view of this, I used the MLP model, refitted with the training + validation dataset, to predict the target feature of our test dataset. "
      ],
      "metadata": {
        "id": "hMrqhv2nXT-L"
      }
    },
    {
      "cell_type": "code",
      "source": [
        "df_cv = pd.DataFrame()\n",
        "\n",
        "for model in [lr_cv, knn_cv, tree_cv, rfc_cv, mlp_cv]:\n",
        "  f1 = str(model.cv_results_['mean_test_F1 score'][model.best_index_].round(3)) +\" ± \"+ str(model.cv_results_['std_test_F1 score'][model.best_index_].round(3))    \n",
        "  precision = str(model.cv_results_['mean_test_Precision'][model.best_index_].round(3)) +\" ± \"+ str(model.cv_results_['std_test_Precision'][model.best_index_].round(3))    \n",
        "  recall = str(model.cv_results_['mean_test_Recall'][model.best_index_].round(3)) +\" ± \"+ str(model.cv_results_['std_test_Recall'][model.best_index_].round(3))    \n",
        "  accuracy = str(model.cv_results_['mean_test_Accuracy'][model.best_index_].round(3)) +\" ± \"+ str(model.cv_results_['std_test_Accuracy'][model.best_index_].round(3))\n",
        "\n",
        "  df_cv = pd.concat([df_cv, pd.DataFrame.from_dict({\"F1 Score\":[f1], \"Precision\":[precision], \"Recall\":[recall], \"Accuracy\":[accuracy]})], axis=0)\n",
        "\n",
        "df_cv.insert(loc=0, column=\"CV Model\", value=[\"Logistic Regression\", \"K-Nearest Neighbors\", \"Decision Tree\", \"Random Forest\", \"Multi Layer Perceptron\"])\n",
        "df_cv.reset_index(drop = True, inplace=True)\n",
        "df_cv\n"
      ],
      "metadata": {
        "id": "uMYnYS2dEyvu",
        "colab": {
          "base_uri": "https://localhost:8080/",
          "height": 206
        },
        "outputId": "dac50e0f-71e7-4165-9318-f1904af29620"
      },
      "execution_count": null,
      "outputs": [
        {
          "output_type": "execute_result",
          "data": {
            "text/plain": [
              "                 CV Model       F1 Score      Precision         Recall  \\\n",
              "0     Logistic Regression  0.867 ± 0.245  0.875 ± 0.268    0.9 ± 0.255   \n",
              "1     K-Nearest Neighbors  0.867 ± 0.306  0.875 ± 0.311  0.875 ± 0.311   \n",
              "2           Decision Tree  0.723 ± 0.384  0.733 ± 0.399   0.75 ± 0.403   \n",
              "3           Random Forest   0.85 ± 0.247   0.85 ± 0.278    0.9 ± 0.255   \n",
              "4  Multi Layer Perceptron  0.917 ± 0.144    0.95 ± 0.15  0.925 ± 0.179   \n",
              "\n",
              "        Accuracy  \n",
              "0  0.867 ± 0.208  \n",
              "1  0.892 ± 0.225  \n",
              "2   0.75 ± 0.323  \n",
              "3   0.842 ± 0.22  \n",
              "4    0.9 ± 0.178  "
            ],
            "text/html": [
              "\n",
              "  <div id=\"df-25b1c1be-be2f-4773-a0ff-d0b4b7f320c1\">\n",
              "    <div class=\"colab-df-container\">\n",
              "      <div>\n",
              "<style scoped>\n",
              "    .dataframe tbody tr th:only-of-type {\n",
              "        vertical-align: middle;\n",
              "    }\n",
              "\n",
              "    .dataframe tbody tr th {\n",
              "        vertical-align: top;\n",
              "    }\n",
              "\n",
              "    .dataframe thead th {\n",
              "        text-align: right;\n",
              "    }\n",
              "</style>\n",
              "<table border=\"1\" class=\"dataframe\">\n",
              "  <thead>\n",
              "    <tr style=\"text-align: right;\">\n",
              "      <th></th>\n",
              "      <th>CV Model</th>\n",
              "      <th>F1 Score</th>\n",
              "      <th>Precision</th>\n",
              "      <th>Recall</th>\n",
              "      <th>Accuracy</th>\n",
              "    </tr>\n",
              "  </thead>\n",
              "  <tbody>\n",
              "    <tr>\n",
              "      <th>0</th>\n",
              "      <td>Logistic Regression</td>\n",
              "      <td>0.867 ± 0.245</td>\n",
              "      <td>0.875 ± 0.268</td>\n",
              "      <td>0.9 ± 0.255</td>\n",
              "      <td>0.867 ± 0.208</td>\n",
              "    </tr>\n",
              "    <tr>\n",
              "      <th>1</th>\n",
              "      <td>K-Nearest Neighbors</td>\n",
              "      <td>0.867 ± 0.306</td>\n",
              "      <td>0.875 ± 0.311</td>\n",
              "      <td>0.875 ± 0.311</td>\n",
              "      <td>0.892 ± 0.225</td>\n",
              "    </tr>\n",
              "    <tr>\n",
              "      <th>2</th>\n",
              "      <td>Decision Tree</td>\n",
              "      <td>0.723 ± 0.384</td>\n",
              "      <td>0.733 ± 0.399</td>\n",
              "      <td>0.75 ± 0.403</td>\n",
              "      <td>0.75 ± 0.323</td>\n",
              "    </tr>\n",
              "    <tr>\n",
              "      <th>3</th>\n",
              "      <td>Random Forest</td>\n",
              "      <td>0.85 ± 0.247</td>\n",
              "      <td>0.85 ± 0.278</td>\n",
              "      <td>0.9 ± 0.255</td>\n",
              "      <td>0.842 ± 0.22</td>\n",
              "    </tr>\n",
              "    <tr>\n",
              "      <th>4</th>\n",
              "      <td>Multi Layer Perceptron</td>\n",
              "      <td>0.917 ± 0.144</td>\n",
              "      <td>0.95 ± 0.15</td>\n",
              "      <td>0.925 ± 0.179</td>\n",
              "      <td>0.9 ± 0.178</td>\n",
              "    </tr>\n",
              "  </tbody>\n",
              "</table>\n",
              "</div>\n",
              "      <button class=\"colab-df-convert\" onclick=\"convertToInteractive('df-25b1c1be-be2f-4773-a0ff-d0b4b7f320c1')\"\n",
              "              title=\"Convert this dataframe to an interactive table.\"\n",
              "              style=\"display:none;\">\n",
              "        \n",
              "  <svg xmlns=\"http://www.w3.org/2000/svg\" height=\"24px\"viewBox=\"0 0 24 24\"\n",
              "       width=\"24px\">\n",
              "    <path d=\"M0 0h24v24H0V0z\" fill=\"none\"/>\n",
              "    <path d=\"M18.56 5.44l.94 2.06.94-2.06 2.06-.94-2.06-.94-.94-2.06-.94 2.06-2.06.94zm-11 1L8.5 8.5l.94-2.06 2.06-.94-2.06-.94L8.5 2.5l-.94 2.06-2.06.94zm10 10l.94 2.06.94-2.06 2.06-.94-2.06-.94-.94-2.06-.94 2.06-2.06.94z\"/><path d=\"M17.41 7.96l-1.37-1.37c-.4-.4-.92-.59-1.43-.59-.52 0-1.04.2-1.43.59L10.3 9.45l-7.72 7.72c-.78.78-.78 2.05 0 2.83L4 21.41c.39.39.9.59 1.41.59.51 0 1.02-.2 1.41-.59l7.78-7.78 2.81-2.81c.8-.78.8-2.07 0-2.86zM5.41 20L4 18.59l7.72-7.72 1.47 1.35L5.41 20z\"/>\n",
              "  </svg>\n",
              "      </button>\n",
              "      \n",
              "  <style>\n",
              "    .colab-df-container {\n",
              "      display:flex;\n",
              "      flex-wrap:wrap;\n",
              "      gap: 12px;\n",
              "    }\n",
              "\n",
              "    .colab-df-convert {\n",
              "      background-color: #E8F0FE;\n",
              "      border: none;\n",
              "      border-radius: 50%;\n",
              "      cursor: pointer;\n",
              "      display: none;\n",
              "      fill: #1967D2;\n",
              "      height: 32px;\n",
              "      padding: 0 0 0 0;\n",
              "      width: 32px;\n",
              "    }\n",
              "\n",
              "    .colab-df-convert:hover {\n",
              "      background-color: #E2EBFA;\n",
              "      box-shadow: 0px 1px 2px rgba(60, 64, 67, 0.3), 0px 1px 3px 1px rgba(60, 64, 67, 0.15);\n",
              "      fill: #174EA6;\n",
              "    }\n",
              "\n",
              "    [theme=dark] .colab-df-convert {\n",
              "      background-color: #3B4455;\n",
              "      fill: #D2E3FC;\n",
              "    }\n",
              "\n",
              "    [theme=dark] .colab-df-convert:hover {\n",
              "      background-color: #434B5C;\n",
              "      box-shadow: 0px 1px 3px 1px rgba(0, 0, 0, 0.15);\n",
              "      filter: drop-shadow(0px 1px 2px rgba(0, 0, 0, 0.3));\n",
              "      fill: #FFFFFF;\n",
              "    }\n",
              "  </style>\n",
              "\n",
              "      <script>\n",
              "        const buttonEl =\n",
              "          document.querySelector('#df-25b1c1be-be2f-4773-a0ff-d0b4b7f320c1 button.colab-df-convert');\n",
              "        buttonEl.style.display =\n",
              "          google.colab.kernel.accessAllowed ? 'block' : 'none';\n",
              "\n",
              "        async function convertToInteractive(key) {\n",
              "          const element = document.querySelector('#df-25b1c1be-be2f-4773-a0ff-d0b4b7f320c1');\n",
              "          const dataTable =\n",
              "            await google.colab.kernel.invokeFunction('convertToInteractive',\n",
              "                                                     [key], {});\n",
              "          if (!dataTable) return;\n",
              "\n",
              "          const docLinkHtml = 'Like what you see? Visit the ' +\n",
              "            '<a target=\"_blank\" href=https://colab.research.google.com/notebooks/data_table.ipynb>data table notebook</a>'\n",
              "            + ' to learn more about interactive tables.';\n",
              "          element.innerHTML = '';\n",
              "          dataTable['output_type'] = 'display_data';\n",
              "          await google.colab.output.renderOutput(dataTable, element);\n",
              "          const docLink = document.createElement('div');\n",
              "          docLink.innerHTML = docLinkHtml;\n",
              "          element.appendChild(docLink);\n",
              "        }\n",
              "      </script>\n",
              "    </div>\n",
              "  </div>\n",
              "  "
            ]
          },
          "metadata": {},
          "execution_count": 18
        }
      ]
    },
    {
      "cell_type": "markdown",
      "source": [
        "Save the dataframe as a styled png image to attach in the final report."
      ],
      "metadata": {
        "id": "W7L-cgtzTbXU"
      }
    },
    {
      "cell_type": "code",
      "source": [
        "# !pip install dataframe_image && apt install chromium-chromedriver\n",
        "import dataframe_image as dfi\n",
        "\n",
        "df_style = df_cv.style.hide_index().highlight_max(subset= df_cv.drop(\"CV Model\", axis=1).columns, color=\"lightgreen\")\n",
        "\n",
        "df_style.set_table_styles([\n",
        "    dict(selector=\"th\", props=[\n",
        "      ('font-size', '13px'),\n",
        "      ('text-align', 'center'),\n",
        "      ('font-weight', 'bold'),\n",
        "      ('background-color', '#e7eef9')\n",
        "      ]), \n",
        "    ])\n",
        "\n",
        "dfi.export(df_style, 'Cross_Validation.png', dpi = 200)"
      ],
      "metadata": {
        "id": "9grUl2fhlXwE",
        "colab": {
          "base_uri": "https://localhost:8080/"
        },
        "outputId": "053f7c92-dd69-412e-950c-fb862b5ab1a2"
      },
      "execution_count": null,
      "outputs": [
        {
          "output_type": "stream",
          "name": "stdout",
          "text": [
            "Looking in indexes: https://pypi.org/simple, https://us-python.pkg.dev/colab-wheels/public/simple/\n",
            "Collecting dataframe_image\n",
            "  Downloading dataframe_image-0.1.3-py3-none-any.whl (6.6 MB)\n",
            "\u001b[2K     \u001b[90m━━━━━━━━━━━━━━━━━━━━━━━━━━━━━━━━━━━━━━━━\u001b[0m \u001b[32m6.6/6.6 MB\u001b[0m \u001b[31m28.3 MB/s\u001b[0m eta \u001b[36m0:00:00\u001b[0m\n",
            "\u001b[?25hRequirement already satisfied: nbconvert>=5 in /usr/local/lib/python3.8/dist-packages (from dataframe_image) (5.6.1)\n",
            "Requirement already satisfied: matplotlib>=3.1 in /usr/local/lib/python3.8/dist-packages (from dataframe_image) (3.2.2)\n",
            "Requirement already satisfied: aiohttp in /usr/local/lib/python3.8/dist-packages (from dataframe_image) (3.8.3)\n",
            "Requirement already satisfied: pandas>=0.24 in /usr/local/lib/python3.8/dist-packages (from dataframe_image) (1.3.5)\n",
            "Requirement already satisfied: beautifulsoup4 in /usr/local/lib/python3.8/dist-packages (from dataframe_image) (4.6.3)\n",
            "Requirement already satisfied: packaging in /usr/local/lib/python3.8/dist-packages (from dataframe_image) (21.3)\n",
            "Requirement already satisfied: mistune in /usr/local/lib/python3.8/dist-packages (from dataframe_image) (0.8.4)\n",
            "Requirement already satisfied: requests in /usr/local/lib/python3.8/dist-packages (from dataframe_image) (2.25.1)\n",
            "Requirement already satisfied: pyparsing!=2.0.4,!=2.1.2,!=2.1.6,>=2.0.1 in /usr/local/lib/python3.8/dist-packages (from matplotlib>=3.1->dataframe_image) (3.0.9)\n",
            "Requirement already satisfied: python-dateutil>=2.1 in /usr/local/lib/python3.8/dist-packages (from matplotlib>=3.1->dataframe_image) (2.8.2)\n",
            "Requirement already satisfied: cycler>=0.10 in /usr/local/lib/python3.8/dist-packages (from matplotlib>=3.1->dataframe_image) (0.11.0)\n",
            "Requirement already satisfied: kiwisolver>=1.0.1 in /usr/local/lib/python3.8/dist-packages (from matplotlib>=3.1->dataframe_image) (1.4.4)\n",
            "Requirement already satisfied: numpy>=1.11 in /usr/local/lib/python3.8/dist-packages (from matplotlib>=3.1->dataframe_image) (1.21.6)\n",
            "Requirement already satisfied: pandocfilters>=1.4.1 in /usr/local/lib/python3.8/dist-packages (from nbconvert>=5->dataframe_image) (1.5.0)\n",
            "Requirement already satisfied: bleach in /usr/local/lib/python3.8/dist-packages (from nbconvert>=5->dataframe_image) (5.0.1)\n",
            "Requirement already satisfied: nbformat>=4.4 in /usr/local/lib/python3.8/dist-packages (from nbconvert>=5->dataframe_image) (5.7.1)\n",
            "Requirement already satisfied: defusedxml in /usr/local/lib/python3.8/dist-packages (from nbconvert>=5->dataframe_image) (0.7.1)\n",
            "Requirement already satisfied: entrypoints>=0.2.2 in /usr/local/lib/python3.8/dist-packages (from nbconvert>=5->dataframe_image) (0.4)\n",
            "Requirement already satisfied: traitlets>=4.2 in /usr/local/lib/python3.8/dist-packages (from nbconvert>=5->dataframe_image) (5.7.1)\n",
            "Requirement already satisfied: jupyter-core in /usr/local/lib/python3.8/dist-packages (from nbconvert>=5->dataframe_image) (5.1.1)\n",
            "Requirement already satisfied: pygments in /usr/local/lib/python3.8/dist-packages (from nbconvert>=5->dataframe_image) (2.6.1)\n",
            "Requirement already satisfied: jinja2>=2.4 in /usr/local/lib/python3.8/dist-packages (from nbconvert>=5->dataframe_image) (2.11.3)\n",
            "Requirement already satisfied: testpath in /usr/local/lib/python3.8/dist-packages (from nbconvert>=5->dataframe_image) (0.6.0)\n",
            "Requirement already satisfied: pytz>=2017.3 in /usr/local/lib/python3.8/dist-packages (from pandas>=0.24->dataframe_image) (2022.7)\n",
            "Requirement already satisfied: yarl<2.0,>=1.0 in /usr/local/lib/python3.8/dist-packages (from aiohttp->dataframe_image) (1.8.2)\n",
            "Requirement already satisfied: attrs>=17.3.0 in /usr/local/lib/python3.8/dist-packages (from aiohttp->dataframe_image) (22.2.0)\n",
            "Requirement already satisfied: multidict<7.0,>=4.5 in /usr/local/lib/python3.8/dist-packages (from aiohttp->dataframe_image) (6.0.3)\n",
            "Requirement already satisfied: frozenlist>=1.1.1 in /usr/local/lib/python3.8/dist-packages (from aiohttp->dataframe_image) (1.3.3)\n",
            "Requirement already satisfied: aiosignal>=1.1.2 in /usr/local/lib/python3.8/dist-packages (from aiohttp->dataframe_image) (1.3.1)\n",
            "Requirement already satisfied: charset-normalizer<3.0,>=2.0 in /usr/local/lib/python3.8/dist-packages (from aiohttp->dataframe_image) (2.1.1)\n",
            "Requirement already satisfied: async-timeout<5.0,>=4.0.0a3 in /usr/local/lib/python3.8/dist-packages (from aiohttp->dataframe_image) (4.0.2)\n",
            "Requirement already satisfied: urllib3<1.27,>=1.21.1 in /usr/local/lib/python3.8/dist-packages (from requests->dataframe_image) (1.24.3)\n",
            "Requirement already satisfied: certifi>=2017.4.17 in /usr/local/lib/python3.8/dist-packages (from requests->dataframe_image) (2022.12.7)\n",
            "Requirement already satisfied: chardet<5,>=3.0.2 in /usr/local/lib/python3.8/dist-packages (from requests->dataframe_image) (4.0.0)\n",
            "Requirement already satisfied: idna<3,>=2.5 in /usr/local/lib/python3.8/dist-packages (from requests->dataframe_image) (2.10)\n",
            "Requirement already satisfied: MarkupSafe>=0.23 in /usr/local/lib/python3.8/dist-packages (from jinja2>=2.4->nbconvert>=5->dataframe_image) (2.0.1)\n",
            "Requirement already satisfied: jsonschema>=2.6 in /usr/local/lib/python3.8/dist-packages (from nbformat>=4.4->nbconvert>=5->dataframe_image) (4.3.3)\n",
            "Requirement already satisfied: fastjsonschema in /usr/local/lib/python3.8/dist-packages (from nbformat>=4.4->nbconvert>=5->dataframe_image) (2.16.2)\n",
            "Requirement already satisfied: six>=1.5 in /usr/local/lib/python3.8/dist-packages (from python-dateutil>=2.1->matplotlib>=3.1->dataframe_image) (1.15.0)\n",
            "Requirement already satisfied: webencodings in /usr/local/lib/python3.8/dist-packages (from bleach->nbconvert>=5->dataframe_image) (0.5.1)\n",
            "Requirement already satisfied: platformdirs>=2.5 in /usr/local/lib/python3.8/dist-packages (from jupyter-core->nbconvert>=5->dataframe_image) (2.6.0)\n",
            "Requirement already satisfied: importlib-resources>=1.4.0 in /usr/local/lib/python3.8/dist-packages (from jsonschema>=2.6->nbformat>=4.4->nbconvert>=5->dataframe_image) (5.10.1)\n",
            "Requirement already satisfied: pyrsistent!=0.17.0,!=0.17.1,!=0.17.2,>=0.14.0 in /usr/local/lib/python3.8/dist-packages (from jsonschema>=2.6->nbformat>=4.4->nbconvert>=5->dataframe_image) (0.19.2)\n",
            "Requirement already satisfied: zipp>=3.1.0 in /usr/local/lib/python3.8/dist-packages (from importlib-resources>=1.4.0->jsonschema>=2.6->nbformat>=4.4->nbconvert>=5->dataframe_image) (3.11.0)\n",
            "Installing collected packages: dataframe_image\n",
            "Successfully installed dataframe_image-0.1.3\n",
            "Reading package lists... Done\n",
            "Building dependency tree       \n",
            "Reading state information... Done\n",
            "The following package was automatically installed and is no longer required:\n",
            "  libnvidia-common-460\n",
            "Use 'apt autoremove' to remove it.\n",
            "The following additional packages will be installed:\n",
            "  chromium-browser chromium-browser-l10n chromium-codecs-ffmpeg-extra\n",
            "Suggested packages:\n",
            "  webaccounts-chromium-extension unity-chromium-extension\n",
            "The following NEW packages will be installed:\n",
            "  chromium-browser chromium-browser-l10n chromium-chromedriver\n",
            "  chromium-codecs-ffmpeg-extra\n",
            "0 upgraded, 4 newly installed, 0 to remove and 20 not upgraded.\n",
            "Need to get 95.6 MB of archives.\n",
            "After this operation, 321 MB of additional disk space will be used.\n",
            "Get:1 http://archive.ubuntu.com/ubuntu bionic-updates/universe amd64 chromium-codecs-ffmpeg-extra amd64 108.0.5359.71-0ubuntu0.18.04.5 [1,159 kB]\n",
            "Get:2 http://archive.ubuntu.com/ubuntu bionic-updates/universe amd64 chromium-browser amd64 108.0.5359.71-0ubuntu0.18.04.5 [83.6 MB]\n",
            "Get:3 http://archive.ubuntu.com/ubuntu bionic-updates/universe amd64 chromium-browser-l10n all 108.0.5359.71-0ubuntu0.18.04.5 [5,230 kB]\n",
            "Get:4 http://archive.ubuntu.com/ubuntu bionic-updates/universe amd64 chromium-chromedriver amd64 108.0.5359.71-0ubuntu0.18.04.5 [5,594 kB]\n",
            "Fetched 95.6 MB in 9s (10.8 MB/s)\n",
            "Selecting previously unselected package chromium-codecs-ffmpeg-extra.\n",
            "(Reading database ... 124016 files and directories currently installed.)\n",
            "Preparing to unpack .../chromium-codecs-ffmpeg-extra_108.0.5359.71-0ubuntu0.18.04.5_amd64.deb ...\n",
            "Unpacking chromium-codecs-ffmpeg-extra (108.0.5359.71-0ubuntu0.18.04.5) ...\n",
            "Selecting previously unselected package chromium-browser.\n",
            "Preparing to unpack .../chromium-browser_108.0.5359.71-0ubuntu0.18.04.5_amd64.deb ...\n",
            "Unpacking chromium-browser (108.0.5359.71-0ubuntu0.18.04.5) ...\n",
            "Selecting previously unselected package chromium-browser-l10n.\n",
            "Preparing to unpack .../chromium-browser-l10n_108.0.5359.71-0ubuntu0.18.04.5_all.deb ...\n",
            "Unpacking chromium-browser-l10n (108.0.5359.71-0ubuntu0.18.04.5) ...\n",
            "Selecting previously unselected package chromium-chromedriver.\n",
            "Preparing to unpack .../chromium-chromedriver_108.0.5359.71-0ubuntu0.18.04.5_amd64.deb ...\n",
            "Unpacking chromium-chromedriver (108.0.5359.71-0ubuntu0.18.04.5) ...\n",
            "Setting up chromium-codecs-ffmpeg-extra (108.0.5359.71-0ubuntu0.18.04.5) ...\n",
            "Setting up chromium-browser (108.0.5359.71-0ubuntu0.18.04.5) ...\n",
            "update-alternatives: using /usr/bin/chromium-browser to provide /usr/bin/x-www-browser (x-www-browser) in auto mode\n",
            "update-alternatives: using /usr/bin/chromium-browser to provide /usr/bin/gnome-www-browser (gnome-www-browser) in auto mode\n",
            "Setting up chromium-chromedriver (108.0.5359.71-0ubuntu0.18.04.5) ...\n",
            "Setting up chromium-browser-l10n (108.0.5359.71-0ubuntu0.18.04.5) ...\n",
            "Processing triggers for man-db (2.8.3-2ubuntu0.1) ...\n",
            "Processing triggers for hicolor-icon-theme (0.17-2) ...\n",
            "Processing triggers for mime-support (3.60ubuntu1) ...\n",
            "Processing triggers for libc-bin (2.27-3ubuntu1.6) ...\n"
          ]
        }
      ]
    },
    {
      "cell_type": "markdown",
      "source": [
        "## Test Predictions using the best CV Models"
      ],
      "metadata": {
        "id": "PiUKcXfNTpKu"
      }
    },
    {
      "cell_type": "code",
      "source": [
        "### I predicted the test samples using all models. However, only MLP will be considered for the final report,\n",
        "### since it is the one with the best performance.\n",
        "\n",
        "print(\"Logistic Regression\\nTest Prediction\\n\"\n",
        "        \"---------------\")\n",
        "Y_pred = lr_cv.best_estimator_.predict(X_test)    # The best estimator is automatically refitted on the whole train + validation data.\n",
        "\n",
        "print(\"F1 Score:\", f1_score(Y_test, Y_pred).round(3))\n",
        "print(\"Precision:\", precision_score(Y_test, Y_pred).round(3))\n",
        "print(\"Recall:\", recall_score(Y_test, Y_pred).round(3))\n",
        "print(\"Accuracy:\", accuracy_score(Y_test, Y_pred).round(3),\"\\n\")\n",
        "conf = ConfusionMatrixDisplay(confusion_matrix(Y_test, Y_pred), display_labels=[\"NR\", \"R\"])\n",
        "\n",
        "fig,ax = plt.subplots(dpi = 80)\n",
        "ax.set_title(\"Logistic Classifier\")\n",
        "conf.plot(ax=ax)\n",
        "#-----------------------------------------------------------------------------\n",
        "\n",
        "print(\"KNN-Classifier\\nTest Prediction\\n\"\n",
        "        \"---------------\")\n",
        "Y_pred = knn_cv.best_estimator_.predict(X_test)    # The best estimator is automatically refitted on the whole train + validation data.\n",
        "\n",
        "print(\"F1 Score:\", f1_score(Y_test, Y_pred).round(3))\n",
        "print(\"Precision:\", precision_score(Y_test, Y_pred).round(3))\n",
        "print(\"Recall:\", recall_score(Y_test, Y_pred).round(3))\n",
        "print(\"Accuracy:\", accuracy_score(Y_test, Y_pred).round(3),\"\\n\")\n",
        "conf = ConfusionMatrixDisplay(confusion_matrix(Y_test, Y_pred), display_labels=[\"NR\", \"R\"])\n",
        "\n",
        "fig,ax = plt.subplots(dpi = 80)\n",
        "ax.set_title(\"KNN Classifier\")\n",
        "conf.plot(ax=ax)\n",
        "#-----------------------------------------------------------------------------\n",
        "\n",
        "print(\"Decission Tree\\nTest Prediction\\n\"\n",
        "        \"---------------\")\n",
        "Y_pred = tree_cv.best_estimator_.predict(X_test)    # The best estimator is automatically refitted on the whole train + validation data.\n",
        "\n",
        "print(\"F1 Score:\", f1_score(Y_test, Y_pred).round(3))\n",
        "print(\"Precision:\", precision_score(Y_test, Y_pred).round(3))\n",
        "print(\"Recall:\", recall_score(Y_test, Y_pred).round(3))\n",
        "print(\"Accuracy:\", accuracy_score(Y_test, Y_pred).round(3),\"\\n\")\n",
        "conf = ConfusionMatrixDisplay(confusion_matrix(Y_test, Y_pred), display_labels=[\"NR\", \"R\"])\n",
        "\n",
        "fig, ax = plt.subplots(1, dpi = 80)\n",
        "ax.set_title(\"Decission Tree Classifier\")\n",
        "conf.plot(ax=ax)\n",
        "#-----------------------------------------------------------------------------\n",
        "\n",
        "print(\"Random Forest\\nTest Prediction\\n\"\n",
        "        \"---------------\")\n",
        "Y_pred = rfc_cv.best_estimator_.predict(X_test)    # The best estimator is automatically refitted on the whole train + validation data.\n",
        "\n",
        "print(\"F1 Score:\", f1_score(Y_test, Y_pred).round(3))\n",
        "print(\"Precision:\", precision_score(Y_test, Y_pred).round(3))\n",
        "print(\"Recall:\", recall_score(Y_test, Y_pred).round(3))\n",
        "print(\"Accuracy:\", accuracy_score(Y_test, Y_pred).round(3),\"\\n\")\n",
        "\n",
        "conf = ConfusionMatrixDisplay(confusion_matrix(Y_test, Y_pred), display_labels=[\"NR\", \"R\"])\n",
        "fig, ax = plt.subplots(1, dpi = 80)\n",
        "ax.set_title(\"Random Forest Classifier\")\n",
        "conf.plot(ax=ax)\n",
        "#-----------------------------------------------------------------------------\n",
        "\n",
        "print(\"Multi-Layer Perceptron\\nTest Prediction\\n\"\n",
        "        \"---------------\")\n",
        "Y_pred = mlp_cv.best_estimator_.predict(X_test)    # The best estimator is automatically refitted on the whole train + validation data.\n",
        "\n",
        "print(\"F1 Score:\", f1_score(Y_test, Y_pred).round(3))\n",
        "print(\"Precision:\", precision_score(Y_test, Y_pred).round(3))\n",
        "print(\"Recall:\", recall_score(Y_test, Y_pred).round(3))\n",
        "print(\"Accuracy:\", accuracy_score(Y_test, Y_pred).round(3),\"\\n\")\n",
        "conf = ConfusionMatrixDisplay(confusion_matrix(Y_test, Y_pred), display_labels=[\"NR\", \"R\"])\n",
        "\n",
        "conf = ConfusionMatrixDisplay(confusion_matrix(Y_test, Y_pred), display_labels=[\"NR\", \"R\"])\n",
        "fig, ax = plt.subplots(1, dpi = 80)\n",
        "ax.set_title(\"Multi-Layer Perceptron\")\n",
        "conf.plot(ax=ax)"
      ],
      "metadata": {
        "id": "GKDxbm-fwVO9",
        "colab": {
          "base_uri": "https://localhost:8080/",
          "height": 1000
        },
        "outputId": "11f40fb3-0ca4-4047-f692-3dcbfda8978c"
      },
      "execution_count": null,
      "outputs": [
        {
          "output_type": "stream",
          "name": "stdout",
          "text": [
            "Logistic Regression\n",
            "Test Prediction\n",
            "---------------\n",
            "F1 Score: 0.889\n",
            "Precision: 0.8\n",
            "Recall: 1.0\n",
            "Accuracy: 0.833 \n",
            "\n",
            "KNN-Classifier\n",
            "Test Prediction\n",
            "---------------\n",
            "F1 Score: 0.75\n",
            "Precision: 0.75\n",
            "Recall: 0.75\n",
            "Accuracy: 0.667 \n",
            "\n",
            "Decission Tree\n",
            "Test Prediction\n",
            "---------------\n",
            "F1 Score: 0.75\n",
            "Precision: 0.75\n",
            "Recall: 0.75\n",
            "Accuracy: 0.667 \n",
            "\n",
            "Random Forest\n",
            "Test Prediction\n",
            "---------------\n",
            "F1 Score: 1.0\n",
            "Precision: 1.0\n",
            "Recall: 1.0\n",
            "Accuracy: 1.0 \n",
            "\n",
            "Multi-Layer Perceptron\n",
            "Test Prediction\n",
            "---------------\n",
            "F1 Score: 0.889\n",
            "Precision: 0.8\n",
            "Recall: 1.0\n",
            "Accuracy: 0.833 \n",
            "\n"
          ]
        },
        {
          "output_type": "execute_result",
          "data": {
            "text/plain": [
              "<sklearn.metrics._plot.confusion_matrix.ConfusionMatrixDisplay at 0x7fcd9661aeb0>"
            ]
          },
          "metadata": {},
          "execution_count": 36
        },
        {
          "output_type": "display_data",
          "data": {
            "text/plain": [
              "<Figure size 480x320 with 2 Axes>"
            ],
            "image/png": "[encoded data removed]"
          },
          "metadata": {
            "needs_background": "light"
          }
        },
        {
          "output_type": "display_data",
          "data": {
            "text/plain": [
              "<Figure size 480x320 with 2 Axes>"
            ],
            "image/png": "[encoded data removed]"
          },
          "metadata": {
            "needs_background": "light"
          }
        },
        {
          "output_type": "display_data",
          "data": {
            "text/plain": [
              "<Figure size 480x320 with 2 Axes>"
            ],
            "image/png": "[encoded data removed]"
          },
          "metadata": {
            "needs_background": "light"
          }
        },
        {
          "output_type": "display_data",
          "data": {
            "text/plain": [
              "<Figure size 480x320 with 2 Axes>"
            ],
            "image/png": "[encoded data removed]"
          },
          "metadata": {
            "needs_background": "light"
          }
        },
        {
          "output_type": "display_data",
          "data": {
            "text/plain": [
              "<Figure size 480x320 with 2 Axes>"
            ],
            "image/png": "[encoded data removed]"
          },
          "metadata": {
            "needs_background": "light"
          }
        }
      ]
    },
    {
      "cell_type": "markdown",
      "source": [
        "I obtained the following test metrics: Accuracy = 0.833, Precision = 0.8, Recall = 1 and F1 score = 0.889. These values differ slightly from the ones obtained on the validation data set, but they cannot be considered statistically significant due to the reduced test sample size (n = 6). A larger set of samples should be used to test our final model in order to get a more reliable estimation of its accuracy.\n",
        "\n",
        "One of the main drawbacks of Neural Network-based models is that they are poorly interpretable, that is, it is complicated for humans to understand how models make decisions. Even though, our Multilayer Perceptron is not as complex as deep learning networks, other models compared in this analysis are much simpler and interpretable, such as logistic regression, and they provide good enough validation results. These interpretable models help us understand the importance of the different data features in the process of decision-making, therefore, they should be considered if our aim is to obtain a profound knowledge of our data rather than simple classification.\n",
        "\n",
        "In this particular problem, logistic regression models and decision trees allowed us to identify some polymorphisms that might have a strong relevance when predicting response to treatment in colorectal cancer patients. Specifically, SNP11, SNP13, SNP15 and SNP0 were common mutations identified in both models, while SNP4, SNP20 had a strong weight in the logit regression classifier. These results suggest that this small subset of polymorphisms could have a high clinical potential to predict patient response to therapy in a simple, yet efficient, manner."
      ],
      "metadata": {
        "id": "yqUpoZXKW5aM"
      }
    },
    {
      "cell_type": "code",
      "source": [],
      "metadata": {
        "id": "Z2Rj5f5hqO1_"
      },
      "execution_count": null,
      "outputs": []
    }
  ],
  "metadata": {
    "colab": {
      "provenance": [],
      "collapsed_sections": [
        "QvJ_7ZCAj-aI",
        "SJarW0KZ6kcI",
        "IlhxoDDMmLvR",
        "mQqlVeI9WP-k",
        "nT6CEvkkIBZk",
        "XJ22yxxxIMdt",
        "UfsKKOuBb77F",
        "ytEi_YlhbAo5",
        "aTnvLQvfkgA3",
        "PiUKcXfNTpKu"
      ],
      "mount_file_id": "1pNoDsSjeNRQ-92LOtC98jXLrTSGOrrl5",
      "authorship_tag": "ABX9TyOtPe/gxxL78uX5TbXF9Phz",
      "include_colab_link": true
    },
    "kernelspec": {
      "display_name": "Python 3",
      "name": "python3"
    },
    "language_info": {
      "name": "python"
    }
  },
  "nbformat": 4,
  "nbformat_minor": 0
}