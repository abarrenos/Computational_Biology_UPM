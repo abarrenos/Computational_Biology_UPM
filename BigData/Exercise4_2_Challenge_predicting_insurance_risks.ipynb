{
  "nbformat": 4,
  "nbformat_minor": 0,
  "metadata": {
    "colab": {
      "provenance": [],
      "collapsed_sections": [
        "WBntcZPFE-5P",
        "OLj9QXRV5Zem",
        "YGN7wuFjFIkq"
      ],
      "include_colab_link": true
    },
    "kernelspec": {
      "name": "python3",
      "display_name": "Python 3"
    },
    "language_info": {
      "name": "python"
    }
  },
  "cells": [
    {
      "cell_type": "markdown",
      "metadata": {
        "id": "view-in-github",
        "colab_type": "text"
      },
      "source": [
        "<a href=\"https://colab.research.google.com/github/abarrenos/Computational_Biology_UPM/blob/main/BigData/Exercise4_2_Challenge_predicting_insurance_risks.ipynb\" target=\"_parent\"><img src=\"https://colab.research.google.com/assets/colab-badge.svg\" alt=\"Open In Colab\"/></a>"
      ]
    },
    {
      "cell_type": "markdown",
      "source": [
        "# Challenge: predicting insurance risks\n",
        "\n",
        "### Inaccuracies in car insurance company’s claim predictions raise the cost of insurance for good drivers and reduce the price for bad ones. But Kaymo ™ wants to stop that!\n",
        "\n",
        "### In this competition, you’re challenged to build a model that predicts the probability that a driver will initiate an auto insurance claim. While Kaymo ™ has used machine learning for the past 10 years, they’re looking to the CAIIS machine learning community to explore new, more powerful methods. A more accurate prediction will allow them to further tailor their prices, and hopefully make auto insurance coverage more accessible to more drivers."
      ],
      "metadata": {
        "id": "bwZ73kxBkyEe"
      }
    },
    {
      "cell_type": "markdown",
      "source": [
        "## Setting up Spark"
      ],
      "metadata": {
        "id": "WBntcZPFE-5P"
      }
    },
    {
      "cell_type": "code",
      "metadata": {
        "id": "qyWjqitA2ie8",
        "colab": {
          "base_uri": "https://localhost:8080/"
        },
        "outputId": "8df1e372-ed29-43b5-af52-a3e390bba537"
      },
      "source": [
        "appname = \"Logistic Regression - Documentation example\"\n",
        "\n",
        "# Look into https://spark.apache.org/downloads.html for the latest version\n",
        "spark_mirror = \"https://mirrors.sonic.net/apache/spark\"\n",
        "spark_version = \"3.3.1\"\n",
        "hadoop_version = \"3\"\n",
        "\n",
        "# Install Java 8 (Spark does not work with newer Java versions)\n",
        "! apt-get update\n",
        "! apt-get install openjdk-8-jdk-headless -qq > /dev/null\n",
        "\n",
        "# Download and extract Spark binary distribution\n",
        "! rm -rf spark-{spark_version}-bin-hadoop{hadoop_version}.tgz spark-{spark_version}-bin-hadoop{hadoop_version}\n",
        "! wget -q {spark_mirror}/spark-{spark_version}/spark-{spark_version}-bin-hadoop{hadoop_version}.tgz\n",
        "! tar xzf spark-{spark_version}-bin-hadoop{hadoop_version}.tgz\n",
        "\n",
        "# The only 2 environment variables needed to set up Java and Spark\n",
        "import os\n",
        "os.environ[\"JAVA_HOME\"] = \"/usr/lib/jvm/java-8-openjdk-amd64\"\n",
        "os.environ[\"SPARK_HOME\"] = f\"/content/spark-{spark_version}-bin-hadoop{hadoop_version}\"\n",
        "\n",
        "# Set up the Spark environment based on the environment variable SPARK_HOME \n",
        "! pip install -q findspark\n",
        "import findspark\n",
        "findspark.init()\n",
        "\n",
        "# Get the Spark session object (basic entry point for every operation)\n",
        "from pyspark.sql import SparkSession\n",
        "spark = SparkSession.builder.appName(appname).master(\"local[*]\").getOrCreate()"
      ],
      "execution_count": 1,
      "outputs": [
        {
          "output_type": "stream",
          "name": "stdout",
          "text": [
            "\r0% [Working]\r            \rGet:1 http://security.ubuntu.com/ubuntu bionic-security InRelease [88.7 kB]\n",
            "\r0% [Waiting for headers] [1 InRelease 8,192 B/88.7 kB 9%] [Connected to cloud.r\r                                                                               \rHit:2 http://archive.ubuntu.com/ubuntu bionic InRelease\n",
            "\r0% [Waiting for headers] [1 InRelease 43.1 kB/88.7 kB 49%] [Connected to cloud.\r                                                                               \rGet:3 http://archive.ubuntu.com/ubuntu bionic-updates InRelease [88.7 kB]\n",
            "\r0% [3 InRelease 14.2 kB/88.7 kB 16%] [1 InRelease 43.1 kB/88.7 kB 49%] [Waiting\r0% [2 InRelease gpgv 242 kB] [3 InRelease 14.2 kB/88.7 kB 16%] [1 InRelease 43.\r                                                                               \rGet:4 https://cloud.r-project.org/bin/linux/ubuntu bionic-cran40/ InRelease [3,626 B]\n",
            "\r0% [2 InRelease gpgv 242 kB] [3 InRelease 15.6 kB/88.7 kB 18%] [1 InRelease 63.\r0% [2 InRelease gpgv 242 kB] [3 InRelease 15.6 kB/88.7 kB 18%] [Waiting for hea\r                                                                               \r0% [2 InRelease gpgv 242 kB] [Waiting for headers] [Waiting for headers]\r                                                                        \rHit:5 http://ppa.launchpad.net/c2d4u.team/c2d4u4.0+/ubuntu bionic InRelease\n",
            "\r0% [2 InRelease gpgv 242 kB] [Waiting for headers] [Waiting for headers] [Conne\r                                                                               \rGet:6 http://archive.ubuntu.com/ubuntu bionic-backports InRelease [83.3 kB]\n",
            "\r0% [2 InRelease gpgv 242 kB] [6 InRelease 4,050 B/83.3 kB 5%] [Waiting for head\r                                                                               \rIgn:7 https://developer.download.nvidia.com/compute/machine-learning/repos/ubuntu1804/x86_64  InRelease\n",
            "\r0% [2 InRelease gpgv 242 kB] [6 InRelease 12.7 kB/83.3 kB 15%] [Waiting for hea\r                                                                               \rHit:8 https://developer.download.nvidia.com/compute/cuda/repos/ubuntu1804/x86_64  InRelease\n",
            "Hit:9 https://developer.download.nvidia.com/compute/machine-learning/repos/ubuntu1804/x86_64  Release\n",
            "Hit:10 http://ppa.launchpad.net/cran/libgit2/ubuntu bionic InRelease\n",
            "Hit:11 http://ppa.launchpad.net/deadsnakes/ppa/ubuntu bionic InRelease\n",
            "Get:12 http://ppa.launchpad.net/graphics-drivers/ppa/ubuntu bionic InRelease [21.3 kB]\n",
            "Get:13 http://security.ubuntu.com/ubuntu bionic-security/multiverse amd64 Packages [22.9 kB]\n",
            "Get:14 http://security.ubuntu.com/ubuntu bionic-security/restricted amd64 Packages [1,307 kB]\n",
            "Get:15 http://archive.ubuntu.com/ubuntu bionic-updates/restricted amd64 Packages [1,348 kB]\n",
            "Get:16 http://archive.ubuntu.com/ubuntu bionic-updates/main amd64 Packages [3,519 kB]\n",
            "Get:17 http://archive.ubuntu.com/ubuntu bionic-updates/multiverse amd64 Packages [30.0 kB]\n",
            "Get:19 http://ppa.launchpad.net/graphics-drivers/ppa/ubuntu bionic/main amd64 Packages [40.8 kB]\n",
            "Fetched 6,552 kB in 4s (1,472 kB/s)\n",
            "Reading package lists... Done\n"
          ]
        }
      ]
    },
    {
      "cell_type": "markdown",
      "source": [
        "## Loading Database from Kaggle"
      ],
      "metadata": {
        "id": "OLj9QXRV5Zem"
      }
    },
    {
      "cell_type": "code",
      "source": [
        "from google.colab import drive\n",
        "drive.mount('/content/drive')"
      ],
      "metadata": {
        "id": "ljbG4In03132",
        "colab": {
          "base_uri": "https://localhost:8080/"
        },
        "outputId": "abb7d63d-7a84-4ac8-b155-8122a8b46db8"
      },
      "execution_count": 2,
      "outputs": [
        {
          "output_type": "stream",
          "name": "stdout",
          "text": [
            "Mounted at /content/drive\n"
          ]
        }
      ]
    },
    {
      "cell_type": "code",
      "source": [
        "import os\n",
        "os.environ[\"KAGGLE_CONFIG_DIR\"] = \"/content/drive/MyDrive/kaggle\"\n",
        "\n",
        "from kaggle.api.kaggle_api_extended import KaggleApi\n",
        "api = KaggleApi()\n",
        "api.authenticate()\n",
        "# api.dataset_list(search=\"CAIIS Dogfood Day\")\n",
        "! rm -f caiis-dogfood-day-2020.zip\n",
        "api.competition_download_files(\"caiis-dogfood-day-2020\")"
      ],
      "metadata": {
        "id": "zrRIGyZlgl1Q"
      },
      "execution_count": 3,
      "outputs": []
    },
    {
      "cell_type": "code",
      "source": [
        "!rm *.csv\n",
        "\n",
        "from zipfile import ZipFile\n",
        "zf = ZipFile('caiis-dogfood-day-2020.zip')\n",
        "zf.extractall('.')\n",
        "zf.close()"
      ],
      "metadata": {
        "id": "znDAhxn_ITcg",
        "colab": {
          "base_uri": "https://localhost:8080/"
        },
        "outputId": "01182a3a-ee10-44e4-bcf8-cfbb371fb488"
      },
      "execution_count": 4,
      "outputs": [
        {
          "output_type": "stream",
          "name": "stdout",
          "text": [
            "rm: cannot remove '*.csv': No such file or directory\n"
          ]
        }
      ]
    },
    {
      "cell_type": "code",
      "source": [
        "train = spark.read.format(\"csv\").options(header=True, inferSchema=True).load(\"train.csv\")\n",
        "test = spark.read.format(\"csv\").options(header=True, inferSchema=True).load(\"test.csv\")"
      ],
      "metadata": {
        "id": "StL_P35rI3nE"
      },
      "execution_count": 5,
      "outputs": []
    },
    {
      "cell_type": "markdown",
      "source": [
        "##Exploratory data analysis"
      ],
      "metadata": {
        "id": "YGN7wuFjFIkq"
      }
    },
    {
      "cell_type": "code",
      "source": [
        "print(train.count(),\"rows x\", len(train.columns), \"columns\")\n",
        "train.show(10)"
      ],
      "metadata": {
        "colab": {
          "base_uri": "https://localhost:8080/"
        },
        "id": "y9FSLmbOpiDr",
        "outputId": "ebd50b76-aa3e-4cb3-be77-73934ee78307"
      },
      "execution_count": 6,
      "outputs": [
        {
          "output_type": "stream",
          "name": "stdout",
          "text": [
            "300000 rows x 32 columns\n",
            "+---+-----+-----+-----+-----+-----+-----+-----+-----+-----+-----+------+------+------+------+------+------+------+------+------+-------------------+-------------------+-------------------+-------------------+-------------------+-------------------+-------------------+-------------------+-------------------+-------------------+------------------+------+\n",
            "| id|cat_0|cat_1|cat_2|cat_3|cat_4|cat_5|cat_6|cat_7|cat_8|cat_9|cat_10|cat_11|cat_12|cat_13|cat_14|cat_15|cat_16|cat_17|cat_18|             cont_0|             cont_1|             cont_2|             cont_3|             cont_4|             cont_5|             cont_6|             cont_7|             cont_8|             cont_9|           cont_10|target|\n",
            "+---+-----+-----+-----+-----+-----+-----+-----+-----+-----+-----+------+------+------+------+------+------+------+------+------+-------------------+-------------------+-------------------+-------------------+-------------------+-------------------+-------------------+-------------------+-------------------+-------------------+------------------+------+\n",
            "|  0|    A|    I|    A|    B|    B|   BI|    A|    S|    Q|    A|    LO|     A|     A|     A|     A|     B|     D|     D|     B| 0.6298580932886344| 0.8553490496453626| 0.7594386994154677|  0.795549256871245| 0.6819172514031219| 0.6216718236057862| 0.5921843772206821| 0.7919207159113629| 0.8152537462248601|  0.965006328742958|0.6659151198639575|     1|\n",
            "|  1|    A|    I|    A|    A|    E|   BI|    K|    W|   AD|    F|    HJ|     A|     B|     A|     B|     D|     B|     D|     B|0.37072710368935663|0.32892942328506936| 0.3863848396544993| 0.5413662314603979| 0.3889824529295912| 0.3577782607273347| 0.6000435979273233| 0.4087010629559668|0.39935257249894734| 0.9274058250023683|0.4937292188969079|     0|\n",
            "|  2|    A|    K|    A|    A|    E|   BI|    A|    E|   BM|    L|    DJ|     A|     B|     A|     A|     B|     D|     D|     B| 0.5022716956789236|0.32274884251498537| 0.3432547395332873| 0.6163515586940255| 0.7936867983255183| 0.5528768777542055|0.35211338219817845| 0.3888348567776837|0.41230312338993824|0.29269552318731995|0.5494523936681402|     1|\n",
            "|  4|    A|    I|    G|    B|    E|   BI|    C|    G|    Q|    A|    DP|     A|     A|     A|     B|     B|     B|     D|     B| 0.2544273861735361| 0.2745137182590417| 0.3388179288828572| 0.2773076638614053| 0.6105781545188853|0.12829101986825742|  0.578764269381999| 0.2791671281711305| 0.3511026549172377| 0.3570835797113264|0.3289598322079217|     0|\n",
            "|  5|    A|    F|    A|    A|    F|   BI|    A|   AH|   AX|    A|    LF|     A|     A|     A|     A|     B|     D|     D|     B| 0.7081197209161232| 0.7356900781822099| 0.5783662537758792| 0.7231540294835398|0.22803702874381085| 0.3562271656227514| 0.5512491766350025|  0.655693068028917| 0.5983305390406377|0.35998748437710426|0.9474891434294836|     0|\n",
            "|  6|    A|    H|    C|    A|    E|   AB|    I|    F|    N|    A|    MC|     A|     A|     A|     B|     D|     B|     D|     B| 0.6116369775003571|  0.313703328506266|  0.928885111264372| 0.5166023293278879| 0.6001694943092956| 0.7952235195434519|0.24898739517005866| 0.6546142606190818|0.34794356738429266| 0.5655199677173174|0.3885800242594678|     0|\n",
            "|  7|    A|    I|    C|    A|    E|   BI|    C|   AV|    Y|    C|    GE|     A|     A|     A|     A|     B|     D|     D|     B| 0.4804559243715434|0.41303785132218096| 0.5247598507510873| 0.5800848367293447|0.30149826577889793| 0.2610547566349504|0.19398779889317866| 0.9356880595710392| 0.6858683871027226|0.27769390567127633|0.4281151626805568|     0|\n",
            "|  8|    A|    N|    C|    A|    F|   AB|    A|   AH|   BC|    A|    FN|     A|     A|     A|     B|     B|     D|     D|     B| 0.4562888085782098| 0.4482012146302484|0.42487623583424505| 0.3447286333721943| 0.2420729988797924| 0.2706321312607581| 0.7467398577589703|0.33558992209426464|0.34123794118926765|0.25228894668553353|0.4115923290110742|     1|\n",
            "| 10|    A|    A|    G|    A|    H|   BI|    A|    S|   AD|    E|    HQ|     A|     A|     A|     B|     D|     D|     D|     B| 0.7990310993203409| 0.7078401291911535| 0.6784657469351736| 0.7471245998466333| 0.6782124536907388| 0.5536086678225345| 0.2817192603246147| 0.7687815489305171|  0.688579504134546|0.32069869087124314|0.6422556549701504|     0|\n",
            "| 12|    A|    F|    A|    A|    I|   BI|    C|   AF|   AG|    A|    HC|     A|     A|     A|     A|     D|     B|     C|     C| 0.4926814530992951| 0.9667189858236366| 0.9435451903471752|0.20974413986014828|  0.670577473327188| 0.7726500882391583| 0.8457507959683053| 0.5073204963217814| 0.9272039435390764| 0.6057546745540119|0.4541548848269649|     0|\n",
            "+---+-----+-----+-----+-----+-----+-----+-----+-----+-----+-----+------+------+------+------+------+------+------+------+------+-------------------+-------------------+-------------------+-------------------+-------------------+-------------------+-------------------+-------------------+-------------------+-------------------+------------------+------+\n",
            "only showing top 10 rows\n",
            "\n"
          ]
        }
      ]
    },
    {
      "cell_type": "markdown",
      "source": [
        "Each row in this dataset represents an insurance policy. You must predict the value for the target column, whether a policy resulted in a claim 1 or not 0 over a fixed time period. Variables prefaced with cat are categorical (nominal or ordinal, but not specified), while those prefaced with cont are continuous."
      ],
      "metadata": {
        "id": "DIrofwUyzTX-"
      }
    },
    {
      "cell_type": "code",
      "source": [
        "# Test data does not contain a target column.\n",
        "\n",
        "print(\"Train columns:\", train.columns,\n",
        "      \"\\nTest columns:\",test.columns)"
      ],
      "metadata": {
        "colab": {
          "base_uri": "https://localhost:8080/"
        },
        "id": "1q8KVE6iNbmQ",
        "outputId": "f8950a33-d06d-4843-eb2c-5eccdd444784"
      },
      "execution_count": 7,
      "outputs": [
        {
          "output_type": "stream",
          "name": "stdout",
          "text": [
            "Train columns: ['id', 'cat_0', 'cat_1', 'cat_2', 'cat_3', 'cat_4', 'cat_5', 'cat_6', 'cat_7', 'cat_8', 'cat_9', 'cat_10', 'cat_11', 'cat_12', 'cat_13', 'cat_14', 'cat_15', 'cat_16', 'cat_17', 'cat_18', 'cont_0', 'cont_1', 'cont_2', 'cont_3', 'cont_4', 'cont_5', 'cont_6', 'cont_7', 'cont_8', 'cont_9', 'cont_10', 'target'] \n",
            "Test columns: ['id', 'cat_0', 'cat_1', 'cat_2', 'cat_3', 'cat_4', 'cat_5', 'cat_6', 'cat_7', 'cat_8', 'cat_9', 'cat_10', 'cat_11', 'cat_12', 'cat_13', 'cat_14', 'cat_15', 'cat_16', 'cat_17', 'cat_18', 'cont_0', 'cont_1', 'cont_2', 'cont_3', 'cont_4', 'cont_5', 'cont_6', 'cont_7', 'cont_8', 'cont_9', 'cont_10']\n"
          ]
        }
      ]
    },
    {
      "cell_type": "code",
      "metadata": {
        "colab": {
          "base_uri": "https://localhost:8080/"
        },
        "id": "PQWxjSxNiW-y",
        "outputId": "c5b5728c-41e8-49fa-d3db-661157929e10"
      },
      "source": [
        "print(train.printSchema())"
      ],
      "execution_count": 8,
      "outputs": [
        {
          "output_type": "stream",
          "name": "stdout",
          "text": [
            "root\n",
            " |-- id: integer (nullable = true)\n",
            " |-- cat_0: string (nullable = true)\n",
            " |-- cat_1: string (nullable = true)\n",
            " |-- cat_2: string (nullable = true)\n",
            " |-- cat_3: string (nullable = true)\n",
            " |-- cat_4: string (nullable = true)\n",
            " |-- cat_5: string (nullable = true)\n",
            " |-- cat_6: string (nullable = true)\n",
            " |-- cat_7: string (nullable = true)\n",
            " |-- cat_8: string (nullable = true)\n",
            " |-- cat_9: string (nullable = true)\n",
            " |-- cat_10: string (nullable = true)\n",
            " |-- cat_11: string (nullable = true)\n",
            " |-- cat_12: string (nullable = true)\n",
            " |-- cat_13: string (nullable = true)\n",
            " |-- cat_14: string (nullable = true)\n",
            " |-- cat_15: string (nullable = true)\n",
            " |-- cat_16: string (nullable = true)\n",
            " |-- cat_17: string (nullable = true)\n",
            " |-- cat_18: string (nullable = true)\n",
            " |-- cont_0: double (nullable = true)\n",
            " |-- cont_1: double (nullable = true)\n",
            " |-- cont_2: double (nullable = true)\n",
            " |-- cont_3: double (nullable = true)\n",
            " |-- cont_4: double (nullable = true)\n",
            " |-- cont_5: double (nullable = true)\n",
            " |-- cont_6: double (nullable = true)\n",
            " |-- cont_7: double (nullable = true)\n",
            " |-- cont_8: double (nullable = true)\n",
            " |-- cont_9: double (nullable = true)\n",
            " |-- cont_10: double (nullable = true)\n",
            " |-- target: integer (nullable = true)\n",
            "\n",
            "None\n"
          ]
        }
      ]
    },
    {
      "cell_type": "markdown",
      "source": [
        "I will first use statistical descriptors to get a first idea on the distribution of numerical features."
      ],
      "metadata": {
        "id": "a7dobvBoruN0"
      }
    },
    {
      "cell_type": "code",
      "metadata": {
        "colab": {
          "base_uri": "https://localhost:8080/"
        },
        "id": "HTQifOzD3TNt",
        "outputId": "1520d224-0657-4816-aad4-2b883c547beb"
      },
      "source": [
        "train.select([\"cont_{}\".format(i) for i in range(11)]).describe().show()"
      ],
      "execution_count": 9,
      "outputs": [
        {
          "output_type": "stream",
          "name": "stdout",
          "text": [
            "+-------+--------------------+-------------------+-------------------+--------------------+-------------------+--------------------+--------------------+-------------------+--------------------+-------------------+------------------+\n",
            "|summary|              cont_0|             cont_1|             cont_2|              cont_3|             cont_4|              cont_5|              cont_6|             cont_7|              cont_8|             cont_9|           cont_10|\n",
            "+-------+--------------------+-------------------+-------------------+--------------------+-------------------+--------------------+--------------------+-------------------+--------------------+-------------------+------------------+\n",
            "|  count|              300000|             300000|             300000|              300000|             300000|              300000|              300000|             300000|              300000|             300000|            300000|\n",
            "|   mean|  0.5046677145265718|0.49429849784319463| 0.5166645178398845| 0.47441938743272544| 0.5044709884799067|   0.501873603747986|  0.4883378120871028| 0.5020062740093968|  0.4880159735521316|0.46921116668811536|0.5082165541628921|\n",
            "| stddev|  0.2068472435005956|0.21300440859754305|0.21492886585944362| 0.21661304733254994| 0.2273544865438588| 0.24124939386062583| 0.21137428518896872|0.20352604465079052| 0.17882409826400916|0.19450677126878185|0.2033928091789859|\n",
            "|    min|-0.04956166967234...|0.08899837407689637| 0.0985912899753092|-0.04531554408570...|0.16807077712366736|-0.03637924631902362|-0.00564786255614...|0.09090146898913247|0.013553889109180706|0.21553998368297567| 0.097788710197006|\n",
            "|    max|  0.9995896656968559| 1.0115969302225234| 1.0166000095661805|  0.9656087692808564| 0.8602534683006209|  0.8530217010483966|  0.9665529928913124| 1.0358178214967186|  1.0542569211043546| 1.0071889457830308|1.0080596545079707|\n",
            "+-------+--------------------+-------------------+-------------------+--------------------+-------------------+--------------------+--------------------+-------------------+--------------------+-------------------+------------------+\n",
            "\n"
          ]
        }
      ]
    },
    {
      "cell_type": "code",
      "source": [
        "# No null values are observed in our data\n",
        "print(\"Null values:\\n\")\n",
        "print({col: train.filter(train[col].isNull()).count() for col in train.columns})"
      ],
      "metadata": {
        "colab": {
          "base_uri": "https://localhost:8080/"
        },
        "id": "ISYNV4lS1mY1",
        "outputId": "608344e3-4fdf-4b7c-db2e-5de2f769e143"
      },
      "execution_count": 10,
      "outputs": [
        {
          "output_type": "stream",
          "name": "stdout",
          "text": [
            "Null values:\n",
            "\n",
            "{'id': 0, 'cat_0': 0, 'cat_1': 0, 'cat_2': 0, 'cat_3': 0, 'cat_4': 0, 'cat_5': 0, 'cat_6': 0, 'cat_7': 0, 'cat_8': 0, 'cat_9': 0, 'cat_10': 0, 'cat_11': 0, 'cat_12': 0, 'cat_13': 0, 'cat_14': 0, 'cat_15': 0, 'cat_16': 0, 'cat_17': 0, 'cat_18': 0, 'cont_0': 0, 'cont_1': 0, 'cont_2': 0, 'cont_3': 0, 'cont_4': 0, 'cont_5': 0, 'cont_6': 0, 'cont_7': 0, 'cont_8': 0, 'cont_9': 0, 'cont_10': 0, 'target': 0}\n"
          ]
        }
      ]
    },
    {
      "cell_type": "markdown",
      "source": [
        "##Preprocessing of data"
      ],
      "metadata": {
        "id": "NMH0ivPC0XPJ"
      }
    },
    {
      "cell_type": "markdown",
      "source": [
        "In order to build an accurate predictive model, we should take into accound all variables that might influence the probability of insurance claim.\n",
        "\n",
        "I would like to consider the categorical features of the dataframe. First I need to convert these categorical \"string\" values into indexes using String Indexer. I will consider these features as non-categorical, therefore, One-Hot Encoding of the features must be performed."
      ],
      "metadata": {
        "id": "DPngAK298kHA"
      }
    },
    {
      "cell_type": "code",
      "source": [
        "from pyspark.ml.feature import StringIndexer\n",
        "from pyspark.ml.feature import OneHotEncoder\n",
        "from pyspark.ml.pipeline import Pipeline\n",
        "\n",
        "cat_features = [\"cat_{}\".format(col) for col in range(19)]\n",
        "cat_idx = [\"cat_{}_idx\".format(col) for col in range(19)]\n",
        "cat_OneHot = [\"cat_{}_OneHot\".format(col) for col in range(19)]\n",
        "\n",
        "indexer = StringIndexer(handleInvalid=\"skip\", \n",
        "                        inputCols=cat_features,\n",
        "                        outputCols=cat_idx).fit(train)\n",
        "                        \n",
        "train2 = indexer.transform(train)\n",
        "\n",
        "encoder = OneHotEncoder(dropLast = False, handleInvalid = \"error\",\n",
        "                    inputCols = cat_idx,\n",
        "                    outputCols = cat_OneHot).fit(train2)\n",
        "\n",
        "train_transformed = encoder.transform(train2)[cat_OneHot+\n",
        "                                        [\"cont_{}\".format(col) for col in range(11)]+\n",
        "                                        [\"target\"]]\n",
        "train_transformed.show(10)"
      ],
      "metadata": {
        "colab": {
          "base_uri": "https://localhost:8080/"
        },
        "id": "6TwEuHCP0WyJ",
        "outputId": "ec663256-df82-4be6-89c4-abc06129ec3c"
      },
      "execution_count": 11,
      "outputs": [
        {
          "output_type": "stream",
          "name": "stdout",
          "text": [
            "+-------------+--------------+--------------+--------------+---------------+--------------+--------------+---------------+---------------+--------------+----------------+-------------+-------------+-------------+-------------+-------------+-------------+-------------+-------------+-------------------+-------------------+-------------------+-------------------+-------------------+-------------------+-------------------+-------------------+-------------------+-------------------+------------------+------+\n",
            "| cat_0_OneHot|  cat_1_OneHot|  cat_2_OneHot|  cat_3_OneHot|   cat_4_OneHot|  cat_5_OneHot|  cat_6_OneHot|   cat_7_OneHot|   cat_8_OneHot|  cat_9_OneHot|   cat_10_OneHot|cat_11_OneHot|cat_12_OneHot|cat_13_OneHot|cat_14_OneHot|cat_15_OneHot|cat_16_OneHot|cat_17_OneHot|cat_18_OneHot|             cont_0|             cont_1|             cont_2|             cont_3|             cont_4|             cont_5|             cont_6|             cont_7|             cont_8|             cont_9|           cont_10|target|\n",
            "+-------------+--------------+--------------+--------------+---------------+--------------+--------------+---------------+---------------+--------------+----------------+-------------+-------------+-------------+-------------+-------------+-------------+-------------+-------------+-------------------+-------------------+-------------------+-------------------+-------------------+-------------------+-------------------+-------------------+-------------------+-------------------+------------------+------+\n",
            "|(2,[0],[1.0])|(15,[0],[1.0])|(19,[0],[1.0])|(13,[1],[1.0])|(20,[11],[1.0])|(84,[0],[1.0])|(16,[0],[1.0])| (51,[9],[1.0])|(61,[19],[1.0])|(19,[0],[1.0])|(297,[21],[1.0])|(2,[0],[1.0])|(2,[0],[1.0])|(2,[0],[1.0])|(2,[0],[1.0])|(4,[0],[1.0])|(4,[0],[1.0])|(4,[0],[1.0])|(4,[0],[1.0])| 0.6298580932886344| 0.8553490496453626| 0.7594386994154677|  0.795549256871245| 0.6819172514031219| 0.6216718236057862| 0.5921843772206821| 0.7919207159113629| 0.8152537462248601|  0.965006328742958|0.6659151198639575|     1|\n",
            "|(2,[0],[1.0])|(15,[0],[1.0])|(19,[0],[1.0])|(13,[0],[1.0])| (20,[0],[1.0])|(84,[0],[1.0])|(16,[6],[1.0])|(51,[31],[1.0])| (61,[6],[1.0])|(19,[3],[1.0])|(297,[23],[1.0])|(2,[0],[1.0])|(2,[1],[1.0])|(2,[0],[1.0])|(2,[1],[1.0])|(4,[1],[1.0])|(4,[1],[1.0])|(4,[0],[1.0])|(4,[0],[1.0])|0.37072710368935663|0.32892942328506936| 0.3863848396544993| 0.5413662314603979| 0.3889824529295912| 0.3577782607273347| 0.6000435979273233| 0.4087010629559668|0.39935257249894734| 0.9274058250023683|0.4937292188969079|     0|\n",
            "|(2,[0],[1.0])|(15,[2],[1.0])|(19,[0],[1.0])|(13,[0],[1.0])| (20,[0],[1.0])|(84,[0],[1.0])|(16,[0],[1.0])| (51,[1],[1.0])| (61,[0],[1.0])|(19,[7],[1.0])| (297,[0],[1.0])|(2,[0],[1.0])|(2,[1],[1.0])|(2,[0],[1.0])|(2,[0],[1.0])|(4,[0],[1.0])|(4,[0],[1.0])|(4,[0],[1.0])|(4,[0],[1.0])| 0.5022716956789236|0.32274884251498537| 0.3432547395332873| 0.6163515586940255| 0.7936867983255183| 0.5528768777542055|0.35211338219817845| 0.3888348567776837|0.41230312338993824|0.29269552318731995|0.5494523936681402|     1|\n",
            "|(2,[0],[1.0])|(15,[0],[1.0])|(19,[3],[1.0])|(13,[1],[1.0])| (20,[0],[1.0])|(84,[0],[1.0])|(16,[1],[1.0])|(51,[15],[1.0])|(61,[19],[1.0])|(19,[0],[1.0])| (297,[2],[1.0])|(2,[0],[1.0])|(2,[0],[1.0])|(2,[0],[1.0])|(2,[1],[1.0])|(4,[0],[1.0])|(4,[1],[1.0])|(4,[0],[1.0])|(4,[0],[1.0])| 0.2544273861735361| 0.2745137182590417| 0.3388179288828572| 0.2773076638614053| 0.6105781545188853|0.12829101986825742|  0.578764269381999| 0.2791671281711305| 0.3511026549172377| 0.3570835797113264|0.3289598322079217|     0|\n",
            "|(2,[0],[1.0])|(15,[1],[1.0])|(19,[0],[1.0])|(13,[0],[1.0])| (20,[1],[1.0])|(84,[0],[1.0])|(16,[0],[1.0])| (51,[0],[1.0])| (61,[2],[1.0])|(19,[0],[1.0])|(297,[11],[1.0])|(2,[0],[1.0])|(2,[0],[1.0])|(2,[0],[1.0])|(2,[0],[1.0])|(4,[0],[1.0])|(4,[0],[1.0])|(4,[0],[1.0])|(4,[0],[1.0])| 0.7081197209161232| 0.7356900781822099| 0.5783662537758792| 0.7231540294835398|0.22803702874381085| 0.3562271656227514| 0.5512491766350025|  0.655693068028917| 0.5983305390406377|0.35998748437710426|0.9474891434294836|     0|\n",
            "|(2,[0],[1.0])|(15,[4],[1.0])|(19,[1],[1.0])|(13,[0],[1.0])| (20,[0],[1.0])|(84,[1],[1.0])|(16,[4],[1.0])|(51,[16],[1.0])|(61,[11],[1.0])|(19,[0],[1.0])|(297,[33],[1.0])|(2,[0],[1.0])|(2,[0],[1.0])|(2,[0],[1.0])|(2,[1],[1.0])|(4,[1],[1.0])|(4,[1],[1.0])|(4,[0],[1.0])|(4,[0],[1.0])| 0.6116369775003571|  0.313703328506266|  0.928885111264372| 0.5166023293278879| 0.6001694943092956| 0.7952235195434519|0.24898739517005866| 0.6546142606190818|0.34794356738429266| 0.5655199677173174|0.3885800242594678|     0|\n",
            "|(2,[0],[1.0])|(15,[0],[1.0])|(19,[1],[1.0])|(13,[0],[1.0])| (20,[0],[1.0])|(84,[0],[1.0])|(16,[1],[1.0])|(51,[10],[1.0])| (61,[3],[1.0])|(19,[2],[1.0])|(297,[28],[1.0])|(2,[0],[1.0])|(2,[0],[1.0])|(2,[0],[1.0])|(2,[0],[1.0])|(4,[0],[1.0])|(4,[0],[1.0])|(4,[0],[1.0])|(4,[0],[1.0])| 0.4804559243715434|0.41303785132218096| 0.5247598507510873| 0.5800848367293447|0.30149826577889793| 0.2610547566349504|0.19398779889317866| 0.9356880595710392| 0.6858683871027226|0.27769390567127633|0.4281151626805568|     0|\n",
            "|(2,[0],[1.0])|(15,[5],[1.0])|(19,[1],[1.0])|(13,[0],[1.0])| (20,[1],[1.0])|(84,[1],[1.0])|(16,[0],[1.0])| (51,[0],[1.0])|(61,[14],[1.0])|(19,[0],[1.0])|(297,[54],[1.0])|(2,[0],[1.0])|(2,[0],[1.0])|(2,[0],[1.0])|(2,[1],[1.0])|(4,[0],[1.0])|(4,[0],[1.0])|(4,[0],[1.0])|(4,[0],[1.0])| 0.4562888085782098| 0.4482012146302484|0.42487623583424505| 0.3447286333721943| 0.2420729988797924| 0.2706321312607581| 0.7467398577589703|0.33558992209426464|0.34123794118926765|0.25228894668553353|0.4115923290110742|     1|\n",
            "|(2,[0],[1.0])|(15,[8],[1.0])|(19,[3],[1.0])|(13,[0],[1.0])| (20,[4],[1.0])|(84,[0],[1.0])|(16,[0],[1.0])| (51,[9],[1.0])| (61,[6],[1.0])|(19,[1],[1.0])| (297,[8],[1.0])|(2,[0],[1.0])|(2,[0],[1.0])|(2,[0],[1.0])|(2,[1],[1.0])|(4,[1],[1.0])|(4,[0],[1.0])|(4,[0],[1.0])|(4,[0],[1.0])| 0.7990310993203409| 0.7078401291911535| 0.6784657469351736| 0.7471245998466333| 0.6782124536907388| 0.5536086678225345| 0.2817192603246147| 0.7687815489305171|  0.688579504134546|0.32069869087124314|0.6422556549701504|     0|\n",
            "|(2,[0],[1.0])|(15,[1],[1.0])|(19,[0],[1.0])|(13,[0],[1.0])| (20,[6],[1.0])|(84,[0],[1.0])|(16,[1],[1.0])| (51,[7],[1.0])|(61,[25],[1.0])|(19,[0],[1.0])|(297,[22],[1.0])|(2,[0],[1.0])|(2,[0],[1.0])|(2,[0],[1.0])|(2,[0],[1.0])|(4,[1],[1.0])|(4,[1],[1.0])|(4,[2],[1.0])|(4,[2],[1.0])| 0.4926814530992951| 0.9667189858236366| 0.9435451903471752|0.20974413986014828|  0.670577473327188| 0.7726500882391583| 0.8457507959683053| 0.5073204963217814| 0.9272039435390764| 0.6057546745540119|0.4541548848269649|     0|\n",
            "+-------------+--------------+--------------+--------------+---------------+--------------+--------------+---------------+---------------+--------------+----------------+-------------+-------------+-------------+-------------+-------------+-------------+-------------+-------------+-------------------+-------------------+-------------------+-------------------+-------------------+-------------------+-------------------+-------------------+-------------------+-------------------+------------------+------+\n",
            "only showing top 10 rows\n",
            "\n"
          ]
        }
      ]
    },
    {
      "cell_type": "markdown",
      "source": [
        "Lastly, we assemble all considered features into a single vector using Vector Assembler."
      ],
      "metadata": {
        "id": "oCrQ9P2uFclH"
      }
    },
    {
      "cell_type": "code",
      "source": [
        "from pyspark.ml.feature import VectorAssembler\n",
        "\n",
        "assembler = VectorAssembler(handleInvalid = \"skip\",\n",
        "                            inputCols = train_transformed.columns[:-1],\n",
        "                            outputCol = \"features\")\n",
        "print(\"Train data:\")\n",
        "train_assembled = assembler.transform(train_transformed)\n",
        "train_assembled.select([\"features\", \"target\"]).show(10)"
      ],
      "metadata": {
        "colab": {
          "base_uri": "https://localhost:8080/"
        },
        "id": "5XEGqkRMFgqE",
        "outputId": "2356714d-eff9-46dc-8b4b-895cd6eff4e2"
      },
      "execution_count": 22,
      "outputs": [
        {
          "output_type": "stream",
          "name": "stdout",
          "text": [
            "Train data:\n",
            "+--------------------+------+\n",
            "|            features|target|\n",
            "+--------------------+------+\n",
            "|(632,[0,2,17,37,6...|     1|\n",
            "|(632,[0,2,17,36,4...|     0|\n",
            "|(632,[0,4,17,36,4...|     1|\n",
            "|(632,[0,2,20,37,4...|     0|\n",
            "|(632,[0,3,17,36,5...|     0|\n",
            "|(632,[0,6,18,36,4...|     0|\n",
            "|(632,[0,2,18,36,4...|     0|\n",
            "|(632,[0,7,18,36,5...|     1|\n",
            "|(632,[0,10,20,36,...|     0|\n",
            "|(632,[0,3,17,36,5...|     0|\n",
            "+--------------------+------+\n",
            "only showing top 10 rows\n",
            "\n"
          ]
        }
      ]
    },
    {
      "cell_type": "markdown",
      "source": [
        "Since test data does not contain a target feature (unlabelled data) to assess the accuracy of our model, we need to split the training data in order to generate a validation data set.\n",
        "\n",
        "Besides this, I will assemble the different data transformers into a single Pipeline to facilitate the preprocessing of test data."
      ],
      "metadata": {
        "id": "NF9kYqO9Mo1s"
      }
    },
    {
      "cell_type": "code",
      "source": [
        "from pyspark.ml.pipeline import Pipeline\n",
        "\n",
        "final_train, final_valid = train_assembled.randomSplit([0.8,0.2], seed = 5)\n",
        "\n",
        "pipeline = Pipeline(stages = [indexer, encoder, assembler]).fit(train)\n",
        "final_test = pipeline.transform(test)\n",
        "\n",
        "print(\"Train data:\", final_train.count())\n",
        "print(final_train.select([\"features\", \"target\"]).show(10))\n",
        "\n",
        "print(\"Validation data:\", final_valid.count())\n",
        "print(final_valid.select([\"features\", \"target\"]).show(10))\n",
        "\n",
        "print(\"Test data:\", final_test.count())\n",
        "print(final_test.select([\"features\"]).show(10))"
      ],
      "metadata": {
        "colab": {
          "base_uri": "https://localhost:8080/"
        },
        "id": "V1iTzkaBLR3E",
        "outputId": "dc52afd6-ba95-4bce-9423-0e7daef77811"
      },
      "execution_count": 24,
      "outputs": [
        {
          "output_type": "stream",
          "name": "stdout",
          "text": [
            "Train data: 240033\n",
            "+--------------------+------+\n",
            "|            features|target|\n",
            "+--------------------+------+\n",
            "|(632,[0,2,17,36,4...|     0|\n",
            "|(632,[0,2,17,36,4...|     0|\n",
            "|(632,[0,2,17,36,4...|     0|\n",
            "|(632,[0,2,17,36,4...|     1|\n",
            "|(632,[0,2,17,36,4...|     0|\n",
            "|(632,[0,2,17,36,4...|     0|\n",
            "|(632,[0,2,17,36,4...|     1|\n",
            "|(632,[0,2,17,36,4...|     1|\n",
            "|(632,[0,2,17,36,4...|     1|\n",
            "|(632,[0,2,17,36,4...|     0|\n",
            "+--------------------+------+\n",
            "only showing top 10 rows\n",
            "\n",
            "None\n",
            "Validation data: 59967\n",
            "+--------------------+------+\n",
            "|            features|target|\n",
            "+--------------------+------+\n",
            "|(632,[0,2,17,36,4...|     0|\n",
            "|(632,[0,2,17,36,4...|     0|\n",
            "|(632,[0,2,17,36,4...|     0|\n",
            "|(632,[0,2,17,36,4...|     0|\n",
            "|(632,[0,2,17,36,4...|     0|\n",
            "|(632,[0,2,17,36,4...|     0|\n",
            "|(632,[0,2,17,36,4...|     0|\n",
            "|(632,[0,2,17,36,4...|     0|\n",
            "|(632,[0,2,17,36,4...|     1|\n",
            "|(632,[0,2,17,36,4...|     0|\n",
            "+--------------------+------+\n",
            "only showing top 10 rows\n",
            "\n",
            "None\n",
            "Test data: 199986\n",
            "+--------------------+\n",
            "|            features|\n",
            "+--------------------+\n",
            "|(632,[0,4,17,38,4...|\n",
            "|(632,[1,5,18,36,5...|\n",
            "|(632,[0,3,17,37,5...|\n",
            "|(632,[1,2,17,36,4...|\n",
            "|(632,[0,5,17,37,4...|\n",
            "|(632,[0,6,17,40,5...|\n",
            "|(632,[0,2,25,36,4...|\n",
            "|(632,[0,2,18,36,5...|\n",
            "|(632,[0,2,17,36,4...|\n",
            "|(632,[0,7,19,38,5...|\n",
            "+--------------------+\n",
            "only showing top 10 rows\n",
            "\n",
            "None\n"
          ]
        }
      ]
    },
    {
      "cell_type": "markdown",
      "source": [
        "## Building our model"
      ],
      "metadata": {
        "id": "DBdUh5CoLOT7"
      }
    },
    {
      "cell_type": "markdown",
      "source": [
        "We train different tree modes with the training data to predict the target categories of the test data."
      ],
      "metadata": {
        "id": "9xKJ6_NIMwL5"
      }
    },
    {
      "cell_type": "code",
      "metadata": {
        "id": "Nqo513T6vGEy"
      },
      "source": [
        "from pyspark.ml.classification import (RandomForestClassifier, GBTClassifier, DecisionTreeClassifier)\n",
        "\n",
        "dtc_model = DecisionTreeClassifier(featuresCol=\"features\", labelCol=\"target\").fit(final_train)\n",
        "rfc_model = RandomForestClassifier(numTrees = 100, featuresCol=\"features\", labelCol=\"target\").fit(final_train)\n",
        "gbt_model = GBTClassifier(featuresCol=\"features\", labelCol=\"target\").fit(final_train)\n"
      ],
      "execution_count": 25,
      "outputs": []
    },
    {
      "cell_type": "markdown",
      "source": [
        "Predict target features for validation data using fitted models."
      ],
      "metadata": {
        "id": "rRkb332jjYFU"
      }
    },
    {
      "cell_type": "code",
      "source": [
        "dtc_pred = dtc_model.transform(final_valid).select([\"features\", \"target\", \"rawPrediction\", \"probability\", \"prediction\"])\n",
        "rfc_pred = rfc_model.transform(final_valid).select([\"features\", \"target\", \"rawPrediction\", \"probability\", \"prediction\"])\n",
        "gbt_pred = gbt_model.transform(final_valid).select([\"features\", \"target\", \"rawPrediction\", \"probability\", \"prediction\"])\n",
        "\n",
        "dtc_pred.show(5)\n",
        "rfc_pred.show(5)\n",
        "gbt_pred.show(5)"
      ],
      "metadata": {
        "colab": {
          "base_uri": "https://localhost:8080/"
        },
        "id": "PMCaNlvijUar",
        "outputId": "658a6447-3665-4c75-f3ee-a24bfc98a0bc"
      },
      "execution_count": 38,
      "outputs": [
        {
          "output_type": "stream",
          "name": "stdout",
          "text": [
            "+--------------------+------+-----------------+--------------------+----------+\n",
            "|            features|target|    rawPrediction|         probability|prediction|\n",
            "+--------------------+------+-----------------+--------------------+----------+\n",
            "|(632,[0,2,17,36,4...|     0|[63221.0,24326.0]|[0.72213782311215...|       0.0|\n",
            "|(632,[0,2,17,36,4...|     0|  [23532.0,846.0]|[0.96529657888259...|       0.0|\n",
            "|(632,[0,2,17,36,4...|     0|  [23532.0,846.0]|[0.96529657888259...|       0.0|\n",
            "|(632,[0,2,17,36,4...|     0| [54408.0,7921.0]|[0.87291629899404...|       0.0|\n",
            "|(632,[0,2,17,36,4...|     0| [54408.0,7921.0]|[0.87291629899404...|       0.0|\n",
            "+--------------------+------+-----------------+--------------------+----------+\n",
            "only showing top 5 rows\n",
            "\n",
            "+--------------------+------+--------------------+--------------------+----------+\n",
            "|            features|target|       rawPrediction|         probability|prediction|\n",
            "+--------------------+------+--------------------+--------------------+----------+\n",
            "|(632,[0,2,17,36,4...|     0|[78.2148807415714...|[0.78214880741571...|       0.0|\n",
            "|(632,[0,2,17,36,4...|     0|[83.6177378685341...|[0.83617737868534...|       0.0|\n",
            "|(632,[0,2,17,36,4...|     0|[85.8796138596140...|[0.85879613859614...|       0.0|\n",
            "|(632,[0,2,17,36,4...|     0|[81.6486035979498...|[0.81648603597949...|       0.0|\n",
            "|(632,[0,2,17,36,4...|     0|[80.6102295651495...|[0.80610229565149...|       0.0|\n",
            "+--------------------+------+--------------------+--------------------+----------+\n",
            "only showing top 5 rows\n",
            "\n",
            "+--------------------+------+--------------------+--------------------+----------+\n",
            "|            features|target|       rawPrediction|         probability|prediction|\n",
            "+--------------------+------+--------------------+--------------------+----------+\n",
            "|(632,[0,2,17,36,4...|     0|[0.39698386548689...|[0.68868264379209...|       0.0|\n",
            "|(632,[0,2,17,36,4...|     0|[0.98305534709421...|[0.87719274953365...|       0.0|\n",
            "|(632,[0,2,17,36,4...|     0|[1.11300123080015...|[0.90256036018615...|       0.0|\n",
            "|(632,[0,2,17,36,4...|     0|[0.69919982358923...|[0.80192981391865...|       0.0|\n",
            "|(632,[0,2,17,36,4...|     0|[0.74255562466553...|[0.81534336373010...|       0.0|\n",
            "+--------------------+------+--------------------+--------------------+----------+\n",
            "only showing top 5 rows\n",
            "\n"
          ]
        }
      ]
    },
    {
      "cell_type": "markdown",
      "source": [
        "Since training the model took a long time because the models were fitted with a relatively large amount of data, I decided to train the data once and store the prediction results as a csv in my Google Drive. I was unable to save the vector-assembled features, but features with single values and final predictions were correctly saved."
      ],
      "metadata": {
        "id": "Pgyx6c58cSdl"
      }
    },
    {
      "cell_type": "code",
      "source": [
        "''' Prediction data is saved in Drive '''\n",
        "\n",
        "# dtc_pred.select(dtc_pred.columns[:-23] + [\"prediction\"]).write.csv(path = \"./drive/MyDrive/files/dtc_pred.csv\", mode = \"overwrite\")\n",
        "# rfc_pred.select(rfc_pred.columns[:-23] + [\"prediction\"]).write.csv(path = \"./drive/MyDrive/files/rfc_pred.csv\", mode = \"overwrite\")\n",
        "# gbt_pred.select(gbt_pred.columns[:-23] + [\"prediction\"]).write.csv(path = \"./drive/MyDrive/files/gbt_pred.csv\", mode = \"overwrite\")\n",
        "\n",
        "''' Prediction data is loaded from Drive '''\n",
        "\n",
        "# dtc_pred = spark.read.format(\"csv\").load(\"./drive/MyDrive/files/dtc_pred.csv/*\")  \n",
        "# rfc_pred = spark.read.format(\"csv\").load(\"./drive/MyDrive/files/rfc_pred.csv/*\")  \n",
        "# gbt_pred = spark.read.format(\"csv\").load(\"./drive/MyDrive/files/gbt_pred.csv/*\")  \n"
      ],
      "metadata": {
        "id": "8L6-muyvcq_a",
        "colab": {
          "base_uri": "https://localhost:8080/",
          "height": 35
        },
        "outputId": "feb03bb6-24a9-41c5-f016-4cfe2d418e08"
      },
      "execution_count": 39,
      "outputs": [
        {
          "output_type": "execute_result",
          "data": {
            "text/plain": [
              "' Prediction data is loaded from Drive '"
            ],
            "application/vnd.google.colaboratory.intrinsic+json": {
              "type": "string"
            }
          },
          "metadata": {},
          "execution_count": 39
        }
      ]
    },
    {
      "cell_type": "markdown",
      "source": [
        "I identified the most important features for each model, and the differ between them."
      ],
      "metadata": {
        "id": "jnzJQ-mmtR0a"
      }
    },
    {
      "cell_type": "code",
      "source": [
        "# Identify the relative importances of every feature\n",
        "\n",
        "for model in [dtc_model, rfc_model, gbt_model]:\n",
        "  max_idx = list(model.featureImportances.values).index(model.featureImportances.values.max())\n",
        "  important_feature = model.featureImportances.indices[max_idx]\n",
        "  print(\"\\n\"+str(model))\n",
        "  print(\"feature:\", important_feature, \"\\tMax_importance:\", model.featureImportances.values.max())\n",
        "\n"
      ],
      "metadata": {
        "colab": {
          "base_uri": "https://localhost:8080/"
        },
        "id": "hjwkwz3nevK3",
        "outputId": "da04fb97-328a-4448-b602-0667f37fcb4b"
      },
      "execution_count": 40,
      "outputs": [
        {
          "output_type": "stream",
          "name": "stdout",
          "text": [
            "\n",
            "DecisionTreeClassificationModel: uid=DecisionTreeClassifier_74d12f4b2d56, depth=5, numNodes=31, numClasses=2, numFeatures=632\n",
            "feature: 610 \tMax_importance: 0.5013519487767588\n",
            "\n",
            "RandomForestClassificationModel: uid=RandomForestClassifier_a420269506f7, numTrees=100, numClasses=2, numFeatures=632\n",
            "feature: 304 \tMax_importance: 0.10264472726519136\n",
            "\n",
            "GBTClassificationModel: uid = GBTClassifier_c16de23716f1, numTrees=20, numClasses=2, numFeatures=632\n",
            "feature: 606 \tMax_importance: 0.11550300146775486\n"
          ]
        }
      ]
    },
    {
      "cell_type": "markdown",
      "source": [
        "Now, I will evaluate the model predictive accuracy on validation data using Binary and Multiclass Classificator Evaluators.\n"
      ],
      "metadata": {
        "id": "3idAQgrnuAZA"
      }
    },
    {
      "cell_type": "code",
      "source": [
        "from pyspark.ml.evaluation import BinaryClassificationEvaluator, MulticlassClassificationEvaluator\n",
        "\n",
        "binevaluator = BinaryClassificationEvaluator(rawPredictionCol='rawPrediction', labelCol='target')\n",
        "mcevaluator = MulticlassClassificationEvaluator(predictionCol='prediction', labelCol='target', probabilityCol=\"probability\")"
      ],
      "metadata": {
        "colab": {
          "base_uri": "https://localhost:8080/",
          "height": 89
        },
        "id": "AsI5japnfxgi",
        "outputId": "0dd0b27f-c6cc-4408-f750-59472561a390"
      },
      "execution_count": 49,
      "outputs": [
        {
          "output_type": "execute_result",
          "data": {
            "text/plain": [
              "'labelCol: label column name. (default: label, current: target)\\nmetricName: metric name in evaluation (areaUnderROC|areaUnderPR) (default: areaUnderROC)\\nnumBins: Number of bins to down-sample the curves (ROC curve, PR curve) in area computation. If 0, no down-sampling will occur. Must be >= 0. (default: 1000)\\nrawPredictionCol: raw prediction (a.k.a. confidence) column name. (default: rawPrediction, current: rawPrediction)\\nweightCol: weight column name. If this is not set or empty, we treat all instance weights as 1.0. (undefined)'"
            ],
            "application/vnd.google.colaboratory.intrinsic+json": {
              "type": "string"
            }
          },
          "metadata": {},
          "execution_count": 49
        }
      ]
    },
    {
      "cell_type": "code",
      "source": [
        "for pred in [dtc_pred, rfc_pred, gbt_pred]:\n",
        "  print(\"\\nModel:\", str(model))\n",
        "  print(\"F1:\", round(mcevaluator.evaluate(pred, params = {mcevaluator.metricName: \"accuracy\"}), 2))\n",
        "  print(\"Accuracy:\", round(mcevaluator.evaluate(pred, params = {mcevaluator.metricName: \"accuracy\"}), 2))\n",
        "  print(\"weightedPrecision:\", round(mcevaluator.evaluate(pred, params = {mcevaluator.metricName: \"accuracy\"}), 2))\n",
        "  print(\"Area Under ROC:\", round(binevaluator.evaluate(pred, params = {mcevaluator.metricName: \"accuracy\"}), 2))\n"
      ],
      "metadata": {
        "colab": {
          "base_uri": "https://localhost:8080/"
        },
        "id": "cbc5edUxhOTC",
        "outputId": "8d3d935d-cf80-4cc8-89b7-cd983ed7dca5"
      },
      "execution_count": 50,
      "outputs": [
        {
          "output_type": "stream",
          "name": "stdout",
          "text": [
            "\n",
            "Model: GBTClassificationModel: uid = GBTClassifier_c16de23716f1, numTrees=20, numClasses=2, numFeatures=632\n",
            "F1: 0.82\n",
            "Accuracy: 0.82\n",
            "weightedPrecision: 0.82\n",
            "Area Under ROC: 0.66\n",
            "\n",
            "Model: GBTClassificationModel: uid = GBTClassifier_c16de23716f1, numTrees=20, numClasses=2, numFeatures=632\n",
            "F1: 0.82\n",
            "Accuracy: 0.82\n",
            "weightedPrecision: 0.82\n",
            "Area Under ROC: 0.78\n",
            "\n",
            "Model: GBTClassificationModel: uid = GBTClassifier_c16de23716f1, numTrees=20, numClasses=2, numFeatures=632\n",
            "F1: 0.83\n",
            "Accuracy: 0.83\n",
            "weightedPrecision: 0.83\n",
            "Area Under ROC: 0.8\n"
          ]
        }
      ]
    },
    {
      "cell_type": "markdown",
      "source": [
        "Using this models, we can predict the target feature labels on our test data."
      ],
      "metadata": {
        "id": "iBhkexD0mUHw"
      }
    },
    {
      "cell_type": "code",
      "source": [
        "dtc_pred = dtc_model.transform(final_test).select([\"features\", \"rawPrediction\", \"probability\", \"prediction\"])\n",
        "rfc_pred = rfc_model.transform(final_test).select([\"features\", \"rawPrediction\", \"probability\", \"prediction\"])\n",
        "gbt_pred = gbt_model.transform(final_test).select([\"features\", \"rawPrediction\", \"probability\", \"prediction\"])\n",
        "\n",
        "dtc_pred.show(5)\n",
        "rfc_pred.show(5)\n",
        "gbt_pred.show(5)"
      ],
      "metadata": {
        "colab": {
          "base_uri": "https://localhost:8080/"
        },
        "id": "gNF80WpCkOpE",
        "outputId": "05f3e80b-4504-4ce1-eded-78b44604fb99"
      },
      "execution_count": 51,
      "outputs": [
        {
          "output_type": "stream",
          "name": "stdout",
          "text": [
            "+--------------------+----------------+--------------------+----------+\n",
            "|            features|   rawPrediction|         probability|prediction|\n",
            "+--------------------+----------------+--------------------+----------+\n",
            "|(632,[0,4,17,38,4...|[54408.0,7921.0]|[0.87291629899404...|       0.0|\n",
            "|(632,[1,5,18,36,5...|[54408.0,7921.0]|[0.87291629899404...|       0.0|\n",
            "|(632,[0,3,17,37,5...|[54408.0,7921.0]|[0.87291629899404...|       0.0|\n",
            "|(632,[1,2,17,36,4...| [8404.0,2571.0]|[0.76574031890660...|       0.0|\n",
            "|(632,[0,5,17,37,4...| [23524.0,142.0]|[0.99399983098115...|       0.0|\n",
            "+--------------------+----------------+--------------------+----------+\n",
            "only showing top 5 rows\n",
            "\n",
            "+--------------------+--------------------+--------------------+----------+\n",
            "|            features|       rawPrediction|         probability|prediction|\n",
            "+--------------------+--------------------+--------------------+----------+\n",
            "|(632,[0,4,17,38,4...|[82.6907643551771...|[0.82690764355177...|       0.0|\n",
            "|(632,[1,5,18,36,5...|[80.6651280806909...|[0.80665128080690...|       0.0|\n",
            "|(632,[0,3,17,37,5...|[84.5640762171573...|[0.84564076217157...|       0.0|\n",
            "|(632,[1,2,17,36,4...|[79.0091046733029...|[0.79009104673302...|       0.0|\n",
            "|(632,[0,5,17,37,4...|[90.1521590817830...|[0.90152159081783...|       0.0|\n",
            "+--------------------+--------------------+--------------------+----------+\n",
            "only showing top 5 rows\n",
            "\n",
            "+--------------------+--------------------+--------------------+----------+\n",
            "|            features|       rawPrediction|         probability|prediction|\n",
            "+--------------------+--------------------+--------------------+----------+\n",
            "|(632,[0,4,17,38,4...|[1.08131384471447...|[0.89684290471913...|       0.0|\n",
            "|(632,[1,5,18,36,5...|[1.00539252600694...|[0.88192479687937...|       0.0|\n",
            "|(632,[0,3,17,37,5...|[1.02532095019485...|[0.88601246311602...|       0.0|\n",
            "|(632,[1,2,17,36,4...|[0.46662767711007...|[0.71773525933162...|       0.0|\n",
            "|(632,[0,5,17,37,4...|[1.50307107219853...|[0.95285083832405...|       0.0|\n",
            "+--------------------+--------------------+--------------------+----------+\n",
            "only showing top 5 rows\n",
            "\n"
          ]
        }
      ]
    }
  ]
}