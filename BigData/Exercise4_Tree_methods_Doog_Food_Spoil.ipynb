{
  "nbformat": 4,
  "nbformat_minor": 0,
  "metadata": {
    "colab": {
      "provenance": [],
      "collapsed_sections": [
        "twm6OId7b6jz",
        "rtWvergCdEd7",
        "dkmZgnUMccvo"
      ],
      "include_colab_link": true
    },
    "kernelspec": {
      "name": "python3",
      "display_name": "Python 3"
    },
    "language_info": {
      "name": "python"
    }
  },
  "cells": [
    {
      "cell_type": "markdown",
      "metadata": {
        "id": "view-in-github",
        "colab_type": "text"
      },
      "source": [
        "<a href=\"https://colab.research.google.com/github/abarrenos/Computational_Biology_UPM/blob/main/BigData/Exercise4_Tree_methods_Doog_Food_Spoil.ipynb\" target=\"_parent\"><img src=\"https://colab.research.google.com/assets/colab-badge.svg\" alt=\"Open In Colab\"/></a>"
      ]
    },
    {
      "cell_type": "markdown",
      "source": [
        "# Consulting project: predicting dog food spoiling\n",
        "### Use Machine Learning with RF to find out which parameter had the most predictive power, thus finding out which chemical causes the early spoiling!\n",
        "\n",
        "### Your main task is to figure out which preservative chemical (A,B,C,D) was having an effect on the dog food being spoiled."
      ],
      "metadata": {
        "id": "kJ5OkjEkZRbP"
      }
    },
    {
      "cell_type": "markdown",
      "source": [
        "## Load Spark"
      ],
      "metadata": {
        "id": "twm6OId7b6jz"
      }
    },
    {
      "cell_type": "code",
      "metadata": {
        "id": "qyWjqitA2ie8",
        "colab": {
          "base_uri": "https://localhost:8080/"
        },
        "outputId": "1b7ec764-82e0-40ef-bc0b-f7189290887d"
      },
      "source": [
        "appname = \"Tree Methods - College data\"\n",
        "\n",
        "# Look into https://spark.apache.org/downloads.html for the latest version\n",
        "spark_mirror = \"https://mirrors.sonic.net/apache/spark\"\n",
        "spark_version = \"3.3.1\"\n",
        "hadoop_version = \"3\"\n",
        "\n",
        "# Install Java 8 (Spark does not work with newer Java versions)\n",
        "! apt-get update\n",
        "! apt-get install openjdk-8-jdk-headless -qq > /dev/null\n",
        "\n",
        "# Download and extract Spark binary distribution\n",
        "! rm -rf spark-{spark_version}-bin-hadoop{hadoop_version}.tgz spark-{spark_version}-bin-hadoop{hadoop_version}\n",
        "! wget -q {spark_mirror}/spark-{spark_version}/spark-{spark_version}-bin-hadoop{hadoop_version}.tgz\n",
        "! tar xzf spark-{spark_version}-bin-hadoop{hadoop_version}.tgz\n",
        "\n",
        "# The only 2 environment variables needed to set up Java and Spark\n",
        "import os\n",
        "os.environ[\"JAVA_HOME\"] = \"/usr/lib/jvm/java-8-openjdk-amd64\"\n",
        "os.environ[\"SPARK_HOME\"] = f\"/content/spark-{spark_version}-bin-hadoop{hadoop_version}\"\n",
        "\n",
        "# Set up the Spark environment based on the environment variable SPARK_HOME \n",
        "! pip install -q findspark\n",
        "import findspark\n",
        "findspark.init()\n",
        "\n",
        "# Get the Spark session object (basic entry point for every operation)\n",
        "from pyspark.sql import SparkSession\n",
        "spark = SparkSession.builder.appName(appname).master(\"local[*]\").getOrCreate()"
      ],
      "execution_count": null,
      "outputs": [
        {
          "output_type": "stream",
          "name": "stdout",
          "text": [
            "\r0% [Working]\r            \rGet:1 http://security.ubuntu.com/ubuntu bionic-security InRelease [88.7 kB]\n",
            "Get:2 https://cloud.r-project.org/bin/linux/ubuntu bionic-cran40/ InRelease [3,626 B]\n",
            "Hit:3 http://archive.ubuntu.com/ubuntu bionic InRelease\n",
            "Ign:4 https://developer.download.nvidia.com/compute/machine-learning/repos/ubuntu1804/x86_64  InRelease\n",
            "Get:5 http://archive.ubuntu.com/ubuntu bionic-updates InRelease [88.7 kB]\n",
            "Get:6 https://developer.download.nvidia.com/compute/cuda/repos/ubuntu1804/x86_64  InRelease [1,581 B]\n",
            "Hit:7 https://developer.download.nvidia.com/compute/machine-learning/repos/ubuntu1804/x86_64  Release\n",
            "Hit:8 http://ppa.launchpad.net/c2d4u.team/c2d4u4.0+/ubuntu bionic InRelease\n",
            "Get:9 http://archive.ubuntu.com/ubuntu bionic-backports InRelease [83.3 kB]\n",
            "Hit:10 http://ppa.launchpad.net/cran/libgit2/ubuntu bionic InRelease\n",
            "Hit:11 http://ppa.launchpad.net/deadsnakes/ppa/ubuntu bionic InRelease\n",
            "Get:12 http://ppa.launchpad.net/graphics-drivers/ppa/ubuntu bionic InRelease [21.3 kB]\n",
            "Get:13 http://security.ubuntu.com/ubuntu bionic-security/restricted amd64 Packages [1,262 kB]\n",
            "Get:14 https://developer.download.nvidia.com/compute/cuda/repos/ubuntu1804/x86_64  Packages [1,038 kB]\n",
            "Get:15 http://security.ubuntu.com/ubuntu bionic-security/universe amd64 Packages [1,563 kB]\n",
            "Get:16 http://security.ubuntu.com/ubuntu bionic-security/main amd64 Packages [3,072 kB]\n",
            "Get:18 http://archive.ubuntu.com/ubuntu bionic-updates/main amd64 Packages [3,497 kB]\n",
            "Get:19 http://archive.ubuntu.com/ubuntu bionic-updates/restricted amd64 Packages [1,303 kB]\n",
            "Get:20 http://archive.ubuntu.com/ubuntu bionic-updates/universe amd64 Packages [2,338 kB]\n",
            "Get:21 http://ppa.launchpad.net/graphics-drivers/ppa/ubuntu bionic/main amd64 Packages [38.5 kB]\n",
            "Fetched 14.4 MB in 7s (2,148 kB/s)\n",
            "Reading package lists... Done\n"
          ]
        }
      ]
    },
    {
      "cell_type": "code",
      "source": [
        "from google.colab import drive\n",
        "drive.mount('/content/drive')"
      ],
      "metadata": {
        "colab": {
          "base_uri": "https://localhost:8080/"
        },
        "id": "QLBD6khW_6e6",
        "outputId": "5ab45987-1250-4946-c6fb-7fd0c096ff37"
      },
      "execution_count": null,
      "outputs": [
        {
          "output_type": "stream",
          "name": "stdout",
          "text": [
            "Mounted at /content/drive\n"
          ]
        }
      ]
    },
    {
      "cell_type": "markdown",
      "source": [
        "## Exploratory data analysis and Preprocessing"
      ],
      "metadata": {
        "id": "rtWvergCdEd7"
      }
    },
    {
      "cell_type": "code",
      "metadata": {
        "id": "FdCdt1XO3D3b",
        "colab": {
          "base_uri": "https://localhost:8080/"
        },
        "outputId": "66ac1426-ab44-405a-a4c6-130fa30f0033"
      },
      "source": [
        "# Load the data into a dataframe\n",
        "\n",
        "df = spark.read.format('csv').options(inferSchema=True, header=True).load('/content/drive/MyDrive/files/dog_food.csv')\n",
        "df.printSchema()"
      ],
      "execution_count": null,
      "outputs": [
        {
          "output_type": "stream",
          "name": "stdout",
          "text": [
            "root\n",
            " |-- A: integer (nullable = true)\n",
            " |-- B: integer (nullable = true)\n",
            " |-- C: double (nullable = true)\n",
            " |-- D: integer (nullable = true)\n",
            " |-- Spoiled: double (nullable = true)\n",
            "\n"
          ]
        }
      ]
    },
    {
      "cell_type": "code",
      "metadata": {
        "colab": {
          "base_uri": "https://localhost:8080/"
        },
        "id": "yr6krMiYXBcc",
        "outputId": "2ad7fa07-b2d2-40bc-af10-9e174bd67155"
      },
      "source": [
        "# Statistical summary\n",
        "\n",
        "df.describe().show()"
      ],
      "execution_count": null,
      "outputs": [
        {
          "output_type": "stream",
          "name": "stdout",
          "text": [
            "+-------+------------------+------------------+------------------+------------------+-------------------+\n",
            "|summary|                 A|                 B|                 C|                 D|            Spoiled|\n",
            "+-------+------------------+------------------+------------------+------------------+-------------------+\n",
            "|  count|               490|               490|               490|               490|                490|\n",
            "|   mean|  5.53469387755102| 5.504081632653061| 9.126530612244897| 5.579591836734694| 0.2857142857142857|\n",
            "| stddev|2.9515204234399057|2.8537966089662063|2.0555451971054275|2.8548369309982857|0.45221563164613465|\n",
            "|    min|                 1|                 1|               5.0|                 1|                0.0|\n",
            "|    max|                10|                10|              14.0|                10|                1.0|\n",
            "+-------+------------------+------------------+------------------+------------------+-------------------+\n",
            "\n"
          ]
        }
      ]
    },
    {
      "cell_type": "code",
      "source": [
        "# Count null values within the data columns\n",
        "\n",
        "print({col: df.filter(df[col].isNull()).count() for col in df.columns})"
      ],
      "metadata": {
        "colab": {
          "base_uri": "https://localhost:8080/"
        },
        "id": "GBbUYFp1alxh",
        "outputId": "1a76ee4e-34b3-4f79-ceb9-5ca7c2e232b8"
      },
      "execution_count": null,
      "outputs": [
        {
          "output_type": "stream",
          "name": "stdout",
          "text": [
            "{'A': 0, 'B': 0, 'C': 0, 'D': 0, 'Spoiled': 0}\n"
          ]
        }
      ]
    },
    {
      "cell_type": "markdown",
      "source": [
        "We observe that all features are cuantitative and numeric. We first need to assemble all significant features into a vector to build the machine learning model."
      ],
      "metadata": {
        "id": "MPUa1TZYcKkR"
      }
    },
    {
      "cell_type": "code",
      "metadata": {
        "id": "vEKsJsAZ3Qo3",
        "colab": {
          "base_uri": "https://localhost:8080/"
        },
        "outputId": "d311cb3f-1bca-4f61-8eda-4a20d23580b1"
      },
      "source": [
        "from pyspark.ml.feature import VectorAssembler, StringIndexer\n",
        "assembler = VectorAssembler(\n",
        "    inputCols=[\"A\", \"B\", \"C\", \"D\"], \n",
        "    outputCol='features')\n",
        "print(assembler.explainParams())\n",
        "\n",
        "final_data = assembler.transform(df)\n",
        "final_data.show()"
      ],
      "execution_count": null,
      "outputs": [
        {
          "output_type": "stream",
          "name": "stdout",
          "text": [
            "handleInvalid: How to handle invalid data (NULL and NaN values). Options are 'skip' (filter out rows with invalid data), 'error' (throw an error), or 'keep' (return relevant number of NaN in the output). Column lengths are taken from the size of ML Attribute Group, which can be set using `VectorSizeHint` in a pipeline before `VectorAssembler`. Column lengths can also be inferred from first rows of the data since it is safe to do so but only in case of 'error' or 'skip'). (default: error)\n",
            "inputCols: input column names. (current: ['A', 'B', 'C', 'D'])\n",
            "outputCol: output column name. (default: VectorAssembler_d32ad6eeed4e__output, current: features)\n",
            "+---+---+----+---+-------+-------------------+\n",
            "|  A|  B|   C|  D|Spoiled|           features|\n",
            "+---+---+----+---+-------+-------------------+\n",
            "|  4|  2|12.0|  3|    1.0| [4.0,2.0,12.0,3.0]|\n",
            "|  5|  6|12.0|  7|    1.0| [5.0,6.0,12.0,7.0]|\n",
            "|  6|  2|13.0|  6|    1.0| [6.0,2.0,13.0,6.0]|\n",
            "|  4|  2|12.0|  1|    1.0| [4.0,2.0,12.0,1.0]|\n",
            "|  4|  2|12.0|  3|    1.0| [4.0,2.0,12.0,3.0]|\n",
            "| 10|  3|13.0|  9|    1.0|[10.0,3.0,13.0,9.0]|\n",
            "|  8|  5|14.0|  5|    1.0| [8.0,5.0,14.0,5.0]|\n",
            "|  5|  8|12.0|  8|    1.0| [5.0,8.0,12.0,8.0]|\n",
            "|  6|  5|12.0|  9|    1.0| [6.0,5.0,12.0,9.0]|\n",
            "|  3|  3|12.0|  1|    1.0| [3.0,3.0,12.0,1.0]|\n",
            "|  9|  8|11.0|  3|    1.0| [9.0,8.0,11.0,3.0]|\n",
            "|  1| 10|12.0|  3|    1.0|[1.0,10.0,12.0,3.0]|\n",
            "|  1|  5|13.0| 10|    1.0|[1.0,5.0,13.0,10.0]|\n",
            "|  2| 10|12.0|  6|    1.0|[2.0,10.0,12.0,6.0]|\n",
            "|  1| 10|11.0|  4|    1.0|[1.0,10.0,11.0,4.0]|\n",
            "|  5|  3|12.0|  2|    1.0| [5.0,3.0,12.0,2.0]|\n",
            "|  4|  9|11.0|  8|    1.0| [4.0,9.0,11.0,8.0]|\n",
            "|  5|  1|11.0|  1|    1.0| [5.0,1.0,11.0,1.0]|\n",
            "|  4|  9|12.0| 10|    1.0|[4.0,9.0,12.0,10.0]|\n",
            "|  5|  8|10.0|  9|    1.0| [5.0,8.0,10.0,9.0]|\n",
            "+---+---+----+---+-------+-------------------+\n",
            "only showing top 20 rows\n",
            "\n"
          ]
        }
      ]
    },
    {
      "cell_type": "markdown",
      "source": [
        "## Building the model"
      ],
      "metadata": {
        "id": "dkmZgnUMccvo"
      }
    },
    {
      "cell_type": "code",
      "metadata": {
        "id": "XDEJB5mP2jkD",
        "colab": {
          "base_uri": "https://localhost:8080/"
        },
        "outputId": "d5468ec8-1b8e-45c2-c42b-e6af377859cb"
      },
      "source": [
        "from pyspark.ml.classification import (RandomForestClassifier, GBTClassifier, DecisionTreeClassifier)\n",
        "\n",
        "dtc = DecisionTreeClassifier(featuresCol=\"features\", labelCol=\"Spoiled\")\n",
        "rfc = RandomForestClassifier(numTrees = 100, featuresCol=\"features\", labelCol=\"Spoiled\")\n",
        "gbt = GBTClassifier(featuresCol=\"features\", labelCol=\"Spoiled\")\n",
        "\n",
        "print(\n",
        "    dtc.explainParams(),\"\\n\\n\",\n",
        "    rfc.explainParams(),\"\\n\\n\",\n",
        "    gbt.explainParams(),\"\\n\\n\")"
      ],
      "execution_count": null,
      "outputs": [
        {
          "output_type": "stream",
          "name": "stdout",
          "text": [
            "cacheNodeIds: If false, the algorithm will pass trees to executors to match instances with nodes. If true, the algorithm will cache node IDs for each instance. Caching can speed up training of deeper trees. Users can set how often should the cache be checkpointed or disable it by setting checkpointInterval. (default: False)\n",
            "checkpointInterval: set checkpoint interval (>= 1) or disable checkpoint (-1). E.g. 10 means that the cache will get checkpointed every 10 iterations. Note: this setting will be ignored if the checkpoint directory is not set in the SparkContext. (default: 10)\n",
            "featuresCol: features column name. (default: features, current: features)\n",
            "impurity: Criterion used for information gain calculation (case-insensitive). Supported options: entropy, gini (default: gini)\n",
            "labelCol: label column name. (default: label, current: Spoiled)\n",
            "leafCol: Leaf indices column name. Predicted leaf index of each instance in each tree by preorder. (default: )\n",
            "maxBins: Max number of bins for discretizing continuous features.  Must be >=2 and >= number of categories for any categorical feature. (default: 32)\n",
            "maxDepth: Maximum depth of the tree. (>= 0) E.g., depth 0 means 1 leaf node; depth 1 means 1 internal node + 2 leaf nodes. Must be in range [0, 30]. (default: 5)\n",
            "maxMemoryInMB: Maximum memory in MB allocated to histogram aggregation. If too small, then 1 node will be split per iteration, and its aggregates may exceed this size. (default: 256)\n",
            "minInfoGain: Minimum information gain for a split to be considered at a tree node. (default: 0.0)\n",
            "minInstancesPerNode: Minimum number of instances each child must have after split. If a split causes the left or right child to have fewer than minInstancesPerNode, the split will be discarded as invalid. Should be >= 1. (default: 1)\n",
            "minWeightFractionPerNode: Minimum fraction of the weighted sample count that each child must have after split. If a split causes the fraction of the total weight in the left or right child to be less than minWeightFractionPerNode, the split will be discarded as invalid. Should be in interval [0.0, 0.5). (default: 0.0)\n",
            "predictionCol: prediction column name. (default: prediction)\n",
            "probabilityCol: Column name for predicted class conditional probabilities. Note: Not all models output well-calibrated probability estimates! These probabilities should be treated as confidences, not precise probabilities. (default: probability)\n",
            "rawPredictionCol: raw prediction (a.k.a. confidence) column name. (default: rawPrediction)\n",
            "seed: random seed. (default: -1896907592976818278)\n",
            "thresholds: Thresholds in multi-class classification to adjust the probability of predicting each class. Array must have length equal to the number of classes, with values > 0, excepting that at most one value may be 0. The class with largest value p/t is predicted, where p is the original probability of that class and t is the class's threshold. (undefined)\n",
            "weightCol: weight column name. If this is not set or empty, we treat all instance weights as 1.0. (undefined) \n",
            "\n",
            " bootstrap: Whether bootstrap samples are used when building trees. (default: True)\n",
            "cacheNodeIds: If false, the algorithm will pass trees to executors to match instances with nodes. If true, the algorithm will cache node IDs for each instance. Caching can speed up training of deeper trees. Users can set how often should the cache be checkpointed or disable it by setting checkpointInterval. (default: False)\n",
            "checkpointInterval: set checkpoint interval (>= 1) or disable checkpoint (-1). E.g. 10 means that the cache will get checkpointed every 10 iterations. Note: this setting will be ignored if the checkpoint directory is not set in the SparkContext. (default: 10)\n",
            "featureSubsetStrategy: The number of features to consider for splits at each tree node. Supported options: 'auto' (choose automatically for task: If numTrees == 1, set to 'all'. If numTrees > 1 (forest), set to 'sqrt' for classification and to 'onethird' for regression), 'all' (use all features), 'onethird' (use 1/3 of the features), 'sqrt' (use sqrt(number of features)), 'log2' (use log2(number of features)), 'n' (when n is in the range (0, 1.0], use n * number of features. When n is in the range (1, number of features), use n features). default = 'auto' (default: auto)\n",
            "featuresCol: features column name. (default: features, current: features)\n",
            "impurity: Criterion used for information gain calculation (case-insensitive). Supported options: entropy, gini (default: gini)\n",
            "labelCol: label column name. (default: label, current: Spoiled)\n",
            "leafCol: Leaf indices column name. Predicted leaf index of each instance in each tree by preorder. (default: )\n",
            "maxBins: Max number of bins for discretizing continuous features.  Must be >=2 and >= number of categories for any categorical feature. (default: 32)\n",
            "maxDepth: Maximum depth of the tree. (>= 0) E.g., depth 0 means 1 leaf node; depth 1 means 1 internal node + 2 leaf nodes. Must be in range [0, 30]. (default: 5)\n",
            "maxMemoryInMB: Maximum memory in MB allocated to histogram aggregation. If too small, then 1 node will be split per iteration, and its aggregates may exceed this size. (default: 256)\n",
            "minInfoGain: Minimum information gain for a split to be considered at a tree node. (default: 0.0)\n",
            "minInstancesPerNode: Minimum number of instances each child must have after split. If a split causes the left or right child to have fewer than minInstancesPerNode, the split will be discarded as invalid. Should be >= 1. (default: 1)\n",
            "minWeightFractionPerNode: Minimum fraction of the weighted sample count that each child must have after split. If a split causes the fraction of the total weight in the left or right child to be less than minWeightFractionPerNode, the split will be discarded as invalid. Should be in interval [0.0, 0.5). (default: 0.0)\n",
            "numTrees: Number of trees to train (>= 1). (default: 20, current: 100)\n",
            "predictionCol: prediction column name. (default: prediction)\n",
            "probabilityCol: Column name for predicted class conditional probabilities. Note: Not all models output well-calibrated probability estimates! These probabilities should be treated as confidences, not precise probabilities. (default: probability)\n",
            "rawPredictionCol: raw prediction (a.k.a. confidence) column name. (default: rawPrediction)\n",
            "seed: random seed. (default: 7957496888842091511)\n",
            "subsamplingRate: Fraction of the training data used for learning each decision tree, in range (0, 1]. (default: 1.0)\n",
            "thresholds: Thresholds in multi-class classification to adjust the probability of predicting each class. Array must have length equal to the number of classes, with values > 0, excepting that at most one value may be 0. The class with largest value p/t is predicted, where p is the original probability of that class and t is the class's threshold. (undefined)\n",
            "weightCol: weight column name. If this is not set or empty, we treat all instance weights as 1.0. (undefined) \n",
            "\n",
            " cacheNodeIds: If false, the algorithm will pass trees to executors to match instances with nodes. If true, the algorithm will cache node IDs for each instance. Caching can speed up training of deeper trees. Users can set how often should the cache be checkpointed or disable it by setting checkpointInterval. (default: False)\n",
            "checkpointInterval: set checkpoint interval (>= 1) or disable checkpoint (-1). E.g. 10 means that the cache will get checkpointed every 10 iterations. Note: this setting will be ignored if the checkpoint directory is not set in the SparkContext. (default: 10)\n",
            "featureSubsetStrategy: The number of features to consider for splits at each tree node. Supported options: 'auto' (choose automatically for task: If numTrees == 1, set to 'all'. If numTrees > 1 (forest), set to 'sqrt' for classification and to 'onethird' for regression), 'all' (use all features), 'onethird' (use 1/3 of the features), 'sqrt' (use sqrt(number of features)), 'log2' (use log2(number of features)), 'n' (when n is in the range (0, 1.0], use n * number of features. When n is in the range (1, number of features), use n features). default = 'auto' (default: all)\n",
            "featuresCol: features column name. (default: features, current: features)\n",
            "impurity: Criterion used for information gain calculation (case-insensitive). Supported options: variance (default: variance)\n",
            "labelCol: label column name. (default: label, current: Spoiled)\n",
            "leafCol: Leaf indices column name. Predicted leaf index of each instance in each tree by preorder. (default: )\n",
            "lossType: Loss function which GBT tries to minimize (case-insensitive). Supported options: logistic (default: logistic)\n",
            "maxBins: Max number of bins for discretizing continuous features.  Must be >=2 and >= number of categories for any categorical feature. (default: 32)\n",
            "maxDepth: Maximum depth of the tree. (>= 0) E.g., depth 0 means 1 leaf node; depth 1 means 1 internal node + 2 leaf nodes. Must be in range [0, 30]. (default: 5)\n",
            "maxIter: max number of iterations (>= 0). (default: 20)\n",
            "maxMemoryInMB: Maximum memory in MB allocated to histogram aggregation. If too small, then 1 node will be split per iteration, and its aggregates may exceed this size. (default: 256)\n",
            "minInfoGain: Minimum information gain for a split to be considered at a tree node. (default: 0.0)\n",
            "minInstancesPerNode: Minimum number of instances each child must have after split. If a split causes the left or right child to have fewer than minInstancesPerNode, the split will be discarded as invalid. Should be >= 1. (default: 1)\n",
            "minWeightFractionPerNode: Minimum fraction of the weighted sample count that each child must have after split. If a split causes the fraction of the total weight in the left or right child to be less than minWeightFractionPerNode, the split will be discarded as invalid. Should be in interval [0.0, 0.5). (default: 0.0)\n",
            "predictionCol: prediction column name. (default: prediction)\n",
            "probabilityCol: Column name for predicted class conditional probabilities. Note: Not all models output well-calibrated probability estimates! These probabilities should be treated as confidences, not precise probabilities. (default: probability)\n",
            "rawPredictionCol: raw prediction (a.k.a. confidence) column name. (default: rawPrediction)\n",
            "seed: random seed. (default: 5280660345074260062)\n",
            "stepSize: Step size (a.k.a. learning rate) in interval (0, 1] for shrinking the contribution of each estimator. (default: 0.1)\n",
            "subsamplingRate: Fraction of the training data used for learning each decision tree, in range (0, 1]. (default: 1.0)\n",
            "thresholds: Thresholds in multi-class classification to adjust the probability of predicting each class. Array must have length equal to the number of classes, with values > 0, excepting that at most one value may be 0. The class with largest value p/t is predicted, where p is the original probability of that class and t is the class's threshold. (undefined)\n",
            "validationIndicatorCol: name of the column that indicates whether each row is for training or for validation. False indicates training; true indicates validation. (undefined)\n",
            "validationTol: Threshold for stopping early when fit with validation is used. If the error rate on the validation input changes by less than the validationTol, then learning will stop early (before `maxIter`). This parameter is ignored when fit without validation is used. (default: 0.01)\n",
            "weightCol: weight column name. If this is not set or empty, we treat all instance weights as 1.0. (undefined) \n",
            "\n",
            "\n"
          ]
        }
      ]
    },
    {
      "cell_type": "code",
      "metadata": {
        "id": "G8kjF0QJEVd_"
      },
      "source": [
        "# Fit the different models with the data\n",
        "\n",
        "dtc_model = dtc.fit(final_data)\n",
        "rfc_model = rfc.fit(final_data)\n",
        "gbt_model = gbt.fit(final_data)"
      ],
      "execution_count": null,
      "outputs": []
    },
    {
      "cell_type": "code",
      "source": [
        "# Identify the relative importances of every feature\n",
        "\n",
        "print(\"Decission Tree Classifier:\\nChemical A:\", dtc_model.featureImportances[0], \"\\nChemical B:\", dtc_model.featureImportances[1], \"\\nChemical C:\", dtc_model.featureImportances[2],  \"\\nChemical D:\", dtc_model.featureImportances[3])\n",
        "print(\"\\nFandom Forest Classifier:\\nChemical A:\", rfc_model.featureImportances[0], \"\\nChemical B:\", rfc_model.featureImportances[1], \"\\nChemical C:\", rfc_model.featureImportances[2],  \"\\nChemical D:\", rfc_model.featureImportances[3])\n",
        "print(\"\\nGBTClassifier:\\nChemical A:\", gbt_model.featureImportances[0], \"\\nChemical B:\", gbt_model.featureImportances[1], \"\\nChemical C:\", gbt_model.featureImportances[2],  \"\\nChemical D:\", gbt_model.featureImportances[3])\n"
      ],
      "metadata": {
        "colab": {
          "base_uri": "https://localhost:8080/"
        },
        "id": "hjwkwz3nevK3",
        "outputId": "be04b87f-7414-40e1-bfbf-e46c765c6f3b"
      },
      "execution_count": null,
      "outputs": [
        {
          "output_type": "stream",
          "name": "stdout",
          "text": [
            "Decission Tree Classifier:\n",
            "Chemical A: 0.0 \n",
            "Chemical B: 0.0019107795086908742 \n",
            "Chemical C: 0.9831676511855764 \n",
            "Chemical D: 0.014921569305732818\n",
            "\n",
            "Fandom Forest Classifier:\n",
            "Chemical A: 0.019387308308770945 \n",
            "Chemical B: 0.021112956784513963 \n",
            "Chemical C: 0.9348987066729869 \n",
            "Chemical D: 0.024601028233728145\n",
            "\n",
            "GBTClassifier:\n",
            "Chemical A: 0.02962567485294246 \n",
            "Chemical B: 0.03830179415146122 \n",
            "Chemical C: 0.8286277188140007 \n",
            "Chemical D: 0.10344481218159562\n"
          ]
        }
      ]
    },
    {
      "cell_type": "markdown",
      "source": [
        "We can see that for every model the conclussions are similar: the chemical with the greatest weight to determine food spoil is Chemical C. When we compare the average percentage of each chemical, we realise that chemical C is the most differential."
      ],
      "metadata": {
        "id": "QSQ90Zc8jlm4"
      }
    },
    {
      "cell_type": "code",
      "source": [
        "print(df.filter(df.Spoiled == 0).summary(\"mean\").show())\n",
        "print(df.filter(df.Spoiled == 1).summary(\"mean\").show())"
      ],
      "metadata": {
        "colab": {
          "base_uri": "https://localhost:8080/"
        },
        "id": "7VtOAmOgkKS8",
        "outputId": "1453851e-231c-4e02-809f-54aaa3fa1bb8"
      },
      "execution_count": null,
      "outputs": [
        {
          "output_type": "stream",
          "name": "stdout",
          "text": [
            "+-------+-----------------+----+----------------+------------------+-------+\n",
            "|summary|                A|   B|               C|                 D|Spoiled|\n",
            "+-------+-----------------+----+----------------+------------------+-------+\n",
            "|   mean|5.422857142857143|5.66|8.01142857142857|5.6085714285714285|    0.0|\n",
            "+-------+-----------------+----+----------------+------------------+-------+\n",
            "\n",
            "None\n",
            "+-------+-----------------+-----------------+------------------+-----------------+-------+\n",
            "|summary|                A|                B|                 C|                D|Spoiled|\n",
            "+-------+-----------------+-----------------+------------------+-----------------+-------+\n",
            "|   mean|5.814285714285714|5.114285714285714|11.914285714285715|5.507142857142857|    1.0|\n",
            "+-------+-----------------+-----------------+------------------+-----------------+-------+\n",
            "\n",
            "None\n"
          ]
        }
      ]
    }
  ]
}